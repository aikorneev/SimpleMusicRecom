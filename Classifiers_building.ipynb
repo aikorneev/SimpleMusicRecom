{
  "cells": [
    {
      "cell_type": "markdown",
      "metadata": {
        "id": "cRyTqMRN1RiU"
      },
      "source": [
        "# Install and Init PySpark"
      ]
    },
    {
      "cell_type": "code",
      "execution_count": null,
      "metadata": {
        "colab": {
          "base_uri": "https://localhost:8080/"
        },
        "id": "9OTPPGp_03eZ",
        "outputId": "f8a05623-fb71-43ae-90a5-1226d0ed10b4"
      },
      "outputs": [
        {
          "output_type": "stream",
          "name": "stdout",
          "text": [
            "Selecting previously unselected package openjdk-8-jre-headless:amd64.\n",
            "(Reading database ... 155222 files and directories currently installed.)\n",
            "Preparing to unpack .../openjdk-8-jre-headless_8u292-b10-0ubuntu1~18.04_amd64.deb ...\n",
            "Unpacking openjdk-8-jre-headless:amd64 (8u292-b10-0ubuntu1~18.04) ...\n",
            "Selecting previously unselected package openjdk-8-jdk-headless:amd64.\n",
            "Preparing to unpack .../openjdk-8-jdk-headless_8u292-b10-0ubuntu1~18.04_amd64.deb ...\n",
            "Unpacking openjdk-8-jdk-headless:amd64 (8u292-b10-0ubuntu1~18.04) ...\n",
            "Setting up openjdk-8-jre-headless:amd64 (8u292-b10-0ubuntu1~18.04) ...\n",
            "update-alternatives: using /usr/lib/jvm/java-8-openjdk-amd64/jre/bin/orbd to provide /usr/bin/orbd (orbd) in auto mode\n",
            "update-alternatives: using /usr/lib/jvm/java-8-openjdk-amd64/jre/bin/servertool to provide /usr/bin/servertool (servertool) in auto mode\n",
            "update-alternatives: using /usr/lib/jvm/java-8-openjdk-amd64/jre/bin/tnameserv to provide /usr/bin/tnameserv (tnameserv) in auto mode\n",
            "Setting up openjdk-8-jdk-headless:amd64 (8u292-b10-0ubuntu1~18.04) ...\n",
            "update-alternatives: using /usr/lib/jvm/java-8-openjdk-amd64/bin/idlj to provide /usr/bin/idlj (idlj) in auto mode\n",
            "update-alternatives: using /usr/lib/jvm/java-8-openjdk-amd64/bin/wsimport to provide /usr/bin/wsimport (wsimport) in auto mode\n",
            "update-alternatives: using /usr/lib/jvm/java-8-openjdk-amd64/bin/jsadebugd to provide /usr/bin/jsadebugd (jsadebugd) in auto mode\n",
            "update-alternatives: using /usr/lib/jvm/java-8-openjdk-amd64/bin/native2ascii to provide /usr/bin/native2ascii (native2ascii) in auto mode\n",
            "update-alternatives: using /usr/lib/jvm/java-8-openjdk-amd64/bin/javah to provide /usr/bin/javah (javah) in auto mode\n",
            "update-alternatives: using /usr/lib/jvm/java-8-openjdk-amd64/bin/hsdb to provide /usr/bin/hsdb (hsdb) in auto mode\n",
            "update-alternatives: using /usr/lib/jvm/java-8-openjdk-amd64/bin/clhsdb to provide /usr/bin/clhsdb (clhsdb) in auto mode\n",
            "update-alternatives: using /usr/lib/jvm/java-8-openjdk-amd64/bin/extcheck to provide /usr/bin/extcheck (extcheck) in auto mode\n",
            "update-alternatives: using /usr/lib/jvm/java-8-openjdk-amd64/bin/schemagen to provide /usr/bin/schemagen (schemagen) in auto mode\n",
            "update-alternatives: using /usr/lib/jvm/java-8-openjdk-amd64/bin/xjc to provide /usr/bin/xjc (xjc) in auto mode\n",
            "update-alternatives: using /usr/lib/jvm/java-8-openjdk-amd64/bin/jhat to provide /usr/bin/jhat (jhat) in auto mode\n",
            "update-alternatives: using /usr/lib/jvm/java-8-openjdk-amd64/bin/wsgen to provide /usr/bin/wsgen (wsgen) in auto mode\n"
          ]
        }
      ],
      "source": [
        "!apt-get install openjdk-8-jdk-headless -qq"
      ]
    },
    {
      "cell_type": "code",
      "execution_count": null,
      "metadata": {
        "colab": {
          "base_uri": "https://localhost:8080/"
        },
        "id": "s0W6SO4k1fzm",
        "outputId": "faf86893-6ed5-4bb5-90ef-2dfc1bb6bd61"
      },
      "outputs": [
        {
          "output_type": "stream",
          "name": "stdout",
          "text": [
            "--2021-12-12 20:43:50--  https://downloads.apache.org/spark/spark-2.4.8/spark-2.4.8-bin-hadoop2.7.tgz\n",
            "Resolving downloads.apache.org (downloads.apache.org)... 88.99.95.219, 135.181.214.104, 2a01:4f9:3a:2c57::2, ...\n",
            "Connecting to downloads.apache.org (downloads.apache.org)|88.99.95.219|:443... connected.\n",
            "HTTP request sent, awaiting response... 200 OK\n",
            "Length: 235899716 (225M) [application/x-gzip]\n",
            "Saving to: ‘spark-2.4.8-bin-hadoop2.7.tgz’\n",
            "\n",
            "spark-2.4.8-bin-had 100%[===================>] 224.97M  17.4MB/s    in 14s     \n",
            "\n",
            "2021-12-12 20:44:04 (16.0 MB/s) - ‘spark-2.4.8-bin-hadoop2.7.tgz’ saved [235899716/235899716]\n",
            "\n"
          ]
        }
      ],
      "source": [
        "!wget https://downloads.apache.org/spark/spark-2.4.8/spark-2.4.8-bin-hadoop2.7.tgz"
      ]
    },
    {
      "cell_type": "code",
      "execution_count": null,
      "metadata": {
        "id": "XDYH7Lek1dwa"
      },
      "outputs": [],
      "source": [
        "!tar xf spark-2.4.8-bin-hadoop2.7.tgz"
      ]
    },
    {
      "cell_type": "code",
      "execution_count": null,
      "metadata": {
        "id": "jmkDAMkS048s"
      },
      "outputs": [],
      "source": [
        "import os\n",
        "os.environ[\"JAVA_HOME\"] = \"/usr/lib/jvm/java-8-openjdk-amd64\"\n",
        "os.environ[\"SPARK_HOME\"] = \"/content/spark-2.4.8-bin-hadoop2.7\""
      ]
    },
    {
      "cell_type": "code",
      "execution_count": null,
      "metadata": {
        "colab": {
          "base_uri": "https://localhost:8080/"
        },
        "id": "CdjJv3LJ1XN6",
        "outputId": "91934421-ee7a-469f-a9b7-46e9e250251f"
      },
      "outputs": [
        {
          "output_type": "stream",
          "name": "stdout",
          "text": [
            "Requirement already satisfied: findspark in /usr/local/lib/python3.7/dist-packages (1.4.2)\n"
          ]
        }
      ],
      "source": [
        "!pip install findspark"
      ]
    },
    {
      "cell_type": "code",
      "execution_count": null,
      "metadata": {
        "id": "wPqjGUJZ1zMD"
      },
      "outputs": [],
      "source": [
        "import findspark \n",
        "findspark.init()"
      ]
    },
    {
      "cell_type": "code",
      "execution_count": null,
      "metadata": {
        "id": "MTsUe5Cs2HIa"
      },
      "outputs": [],
      "source": [
        "import pyspark"
      ]
    },
    {
      "cell_type": "code",
      "execution_count": null,
      "metadata": {
        "id": "Lb3tCXQT2Pm0"
      },
      "outputs": [],
      "source": [
        "from pyspark.sql import SparkSession"
      ]
    },
    {
      "cell_type": "code",
      "execution_count": null,
      "metadata": {
        "id": "CDQOzJfP12e6"
      },
      "outputs": [],
      "source": [
        "spark = SparkSession.builder.master(\"local[*]\").getOrCreate()"
      ]
    },
    {
      "cell_type": "code",
      "execution_count": null,
      "metadata": {
        "colab": {
          "base_uri": "https://localhost:8080/",
          "height": 222
        },
        "id": "96J2pU3K9GTT",
        "outputId": "3131fd92-e85e-4e23-b28d-30af71d4d1e1"
      },
      "outputs": [
        {
          "output_type": "execute_result",
          "data": {
            "text/html": [
              "\n",
              "            <div>\n",
              "                <p><b>SparkSession - in-memory</b></p>\n",
              "                \n",
              "        <div>\n",
              "            <p><b>SparkContext</b></p>\n",
              "\n",
              "            <p><a href=\"http://55a712136b67:4040\">Spark UI</a></p>\n",
              "\n",
              "            <dl>\n",
              "              <dt>Version</dt>\n",
              "                <dd><code>v2.4.8</code></dd>\n",
              "              <dt>Master</dt>\n",
              "                <dd><code>local[*]</code></dd>\n",
              "              <dt>AppName</dt>\n",
              "                <dd><code>pyspark-shell</code></dd>\n",
              "            </dl>\n",
              "        </div>\n",
              "        \n",
              "            </div>\n",
              "        "
            ],
            "text/plain": [
              "<pyspark.sql.session.SparkSession at 0x7fd0541b4250>"
            ]
          },
          "metadata": {},
          "execution_count": 13
        }
      ],
      "source": [
        "spark"
      ]
    },
    {
      "cell_type": "markdown",
      "metadata": {
        "id": "kvmKnx1ZerHY"
      },
      "source": [
        "# Imports and setting vars"
      ]
    },
    {
      "cell_type": "code",
      "execution_count": null,
      "metadata": {
        "id": "rGTb47SZeymw"
      },
      "outputs": [],
      "source": [
        "import pandas as pd"
      ]
    },
    {
      "cell_type": "code",
      "execution_count": null,
      "metadata": {
        "id": "7iIwYzoCeyHn"
      },
      "outputs": [],
      "source": [
        "genres_list = ['electro_data', 'pop_data', 'rap_data', 'rock_data']"
      ]
    },
    {
      "cell_type": "markdown",
      "metadata": {
        "id": "r4OkrevT2nq7"
      },
      "source": [
        "# Datasets downloading (for old not clean data)"
      ]
    },
    {
      "cell_type": "code",
      "execution_count": null,
      "metadata": {
        "colab": {
          "base_uri": "https://localhost:8080/"
        },
        "id": "JHXqUYhZ2egC",
        "outputId": "81a89878-44fb-41ca-a93a-db024f378735"
      },
      "outputs": [
        {
          "output_type": "stream",
          "name": "stdout",
          "text": [
            "Downloading...\n",
            "From: https://drive.google.com/uc?id=13GEVuNvAZ_JXghCHYgNp3AGay1OZ2Uou\n",
            "To: /content/data_downloading.zip\n",
            " 35% 447M/1.27G [00:03<00:05, 162MB/s]Traceback (most recent call last):\n",
            "  File \"/usr/local/bin/gdown\", line 8, in <module>\n",
            "    sys.exit(main())\n",
            "  File \"/usr/local/lib/python2.7/dist-packages/gdown/cli.py\", line 61, in main\n",
            "    quiet=args.quiet,\n",
            "  File \"/usr/local/lib/python2.7/dist-packages/gdown/download.py\", line 101, in download\n",
            "    for chunk in res.iter_content(chunk_size=CHUNK_SIZE):\n",
            "  File \"/usr/local/lib/python2.7/dist-packages/requests/models.py\", line 751, in generate\n",
            "    for chunk in self.raw.stream(chunk_size, decode_content=True):\n",
            "  File \"/usr/local/lib/python2.7/dist-packages/urllib3/response.py\", line 496, in stream\n",
            "    data = self.read(amt=amt, decode_content=decode_content)\n",
            "  File \"/usr/local/lib/python2.7/dist-packages/urllib3/response.py\", line 461, in read\n",
            "    raise IncompleteRead(self._fp_bytes_read, self.length_remaining)\n",
            "  File \"/usr/lib/python2.7/contextlib.py\", line 35, in __exit__\n",
            "    self.gen.throw(type, value, traceback)\n",
            "  File \"/usr/local/lib/python2.7/dist-packages/urllib3/response.py\", line 399, in _error_catcher\n",
            "    self._connection.close()\n",
            "  File \"/usr/lib/python2.7/httplib.py\", line 849, in close\n",
            "    sock.close()   # close it manually... there may be other refs\n",
            "  File \"/usr/lib/python2.7/ssl.py\", line 805, in close\n",
            "    socket.close(self)\n",
            "  File \"/usr/lib/python2.7/socket.py\", line 199, in close\n",
            "    self._sock = _closedsocket()\n",
            "KeyboardInterrupt\n",
            " 36% 461M/1.27G [00:03<00:06, 118MB/s]\n"
          ]
        }
      ],
      "source": [
        "!gdown https://drive.google.com/uc?id=13GEVuNvAZ_JXghCHYgNp3AGay1OZ2Uou"
      ]
    },
    {
      "cell_type": "code",
      "execution_count": null,
      "metadata": {
        "colab": {
          "base_uri": "https://localhost:8080/"
        },
        "id": "A05hubvc3kCA",
        "outputId": "b427e635-4069-4060-8d2c-1a57af56ce76"
      },
      "outputs": [
        {
          "output_type": "stream",
          "name": "stdout",
          "text": [
            "Archive:  data_downloading.zip\n",
            "  inflating: data/data_electro.json  \n",
            "  inflating: data/data_pop.json      \n",
            "  inflating: data/data_rap.json      \n",
            "  inflating: data/data_rock.json     \n",
            "   creating: data/electro_data/\n",
            "  inflating: data/electro_data/arminvanbuuren_data.csv  \n",
            "  inflating: data/electro_data/davidguetta_data.csv  \n",
            "  inflating: data/electro_data/hardwell_data.csv  \n",
            "  inflating: data/electro_data/martingarrix_data.csv  \n",
            "  inflating: data/electro_data/tiesto_data.csv  \n",
            "   creating: data/pop_data/\n",
            "  inflating: data/pop_data/enrique_data.csv  \n",
            "  inflating: data/pop_data/inna_ro_data.csv  \n",
            "  inflating: data/pop_data/krosskarina_data.csv  \n",
            "  inflating: data/pop_data/nataliaoreiro_data.csv  \n",
            "  inflating: data/pop_data/shakira_data.csv  \n",
            "   creating: data/rap_data/\n",
            "  inflating: data/rap_data/egorkreed_data.csv  \n",
            "  inflating: data/rap_data/hauntedfamily_data.csv  \n",
            "  inflating: data/rap_data/maxkorzh_data.csv  \n",
            "  inflating: data/rap_data/sayonaraboy_data.csv  \n",
            "  inflating: data/rap_data/scriptonite_data.csv  \n",
            "   creating: data/rock_data/\n",
            "  inflating: data/rock_data/idragons_data.csv  \n",
            "  inflating: data/rock_data/korol_i_shut_ru_data.csv  \n",
            "  inflating: data/rock_data/linkinpark_data.csv  \n",
            "  inflating: data/rock_data/nervyofficial_data.csv  \n",
            "  inflating: data/rock_data/nirvanamusic_data.csv  "
          ]
        }
      ],
      "source": [
        "!unzip 'data_downloading.zip' -d 'data/'"
      ]
    },
    {
      "cell_type": "code",
      "execution_count": null,
      "metadata": {
        "id": "O5ZTxwQ7flyZ"
      },
      "outputs": [],
      "source": [
        "path_to_data = './data'"
      ]
    },
    {
      "cell_type": "markdown",
      "metadata": {
        "id": "b9E8aDNheh_P"
      },
      "source": [
        "# Datasets mounting from google drive (optional)"
      ]
    },
    {
      "cell_type": "code",
      "execution_count": null,
      "metadata": {
        "colab": {
          "base_uri": "https://localhost:8080/"
        },
        "id": "dZFc13lUenA3",
        "outputId": "432afe64-473b-4618-8973-833165afa18e"
      },
      "outputs": [
        {
          "output_type": "stream",
          "name": "stdout",
          "text": [
            "Mounted at /content/drive\n"
          ]
        }
      ],
      "source": [
        "from google.colab import drive\n",
        "drive.mount('/content/drive')"
      ]
    },
    {
      "cell_type": "code",
      "execution_count": null,
      "metadata": {
        "colab": {
          "base_uri": "https://localhost:8080/"
        },
        "id": "Mz64MHXQfcmx",
        "outputId": "cdae8d68-621d-4419-dccb-cfbc459ef738"
      },
      "outputs": [
        {
          "output_type": "stream",
          "name": "stdout",
          "text": [
            "data_downloading.zip  data_pop.json  data_rock.json  pop_data  rock_data\n",
            "data_electro.json     data_rap.json  electro_data    rap_data\n"
          ]
        }
      ],
      "source": [
        "!ls '/content/drive/My Drive/Course_Project_BD/'"
      ]
    },
    {
      "cell_type": "code",
      "execution_count": null,
      "metadata": {
        "id": "W5byRbnBfoQX"
      },
      "outputs": [],
      "source": [
        "path_to_data = '/content/drive/My Drive/Course_Project_BD/'"
      ]
    },
    {
      "cell_type": "markdown",
      "metadata": {
        "id": "TvO-_ZuJ34hD"
      },
      "source": [
        "# Datasets reading"
      ]
    },
    {
      "cell_type": "code",
      "source": [
        "import csv\n",
        "\n",
        "path_to_final = '/content/drive/My Drive/final.csv'\n",
        "f = open(path_to_final, \"w\")\n",
        "f.truncate()\n",
        "f.close()\n",
        "\n",
        "parameters_order = ['', 'sex', 'has_photo', 'has_mobile', 'can_post', 'can_see_all_posts', 'can_see_audio', 'interests', 'books', 'quotes', 'about', 'movies', 'music', 'can_write_private_message', 'can_send_friend_request', 'can_be_invited_group', 'status', 'followers_count', 'occupation', 'relation', 'universities', 'schools', 'relatives', 'skype', 'relation_partner', 'twitter', 'instagram', 'education_form', 'education_status', 'facebook', 'facebook_name', 'status_audio', 'livejournal', 'category', 'age', 'is_status', 'alcohol', 'smoking']\n",
        "\n",
        "with open(path_to_final, 'w') as final:\n",
        "  final_writer = csv.writer(final)\n",
        "  final_writer.writerow(parameters_order)\n",
        "  for root, dir, files in os.walk(path_to_data):\n",
        "    if root.endswith(tuple(genres_list)):\n",
        "      print(root)\n",
        "      for file in files:\n",
        "        if file.startswith('2'):\n",
        "          with open(root + '/' + file, 'r') as current:\n",
        "            found = False\n",
        "            new_file = True\n",
        "            print('\\t', file)\n",
        "            curr_reader = csv.reader(current)\n",
        "            for line in curr_reader:\n",
        "              if new_file:\n",
        "                current_order = list()\n",
        "                for item in parameters_order:\n",
        "                  current_order.append(line.index(item))\n",
        "                print(current_order)\n",
        "                new_file = False\n",
        "              else:\n",
        "                list_to_write = ['NaN'] * 38\n",
        "                for i in range(len(line)):\n",
        "                  list_to_write[i] = line[current_order[i]]\n",
        "                final_writer.writerow(list_to_write)"
      ],
      "metadata": {
        "colab": {
          "base_uri": "https://localhost:8080/"
        },
        "id": "awdrUxdNxSC0",
        "outputId": "25a1017b-4d3d-4355-885c-f41c840bc360"
      },
      "execution_count": null,
      "outputs": [
        {
          "output_type": "stream",
          "name": "stdout",
          "text": [
            "/content/drive/My Drive/Course_Project_BD/rock_data\n",
            "\t 2linkinpark_data.csv\n",
            "[0, 1, 2, 3, 4, 5, 6, 7, 8, 9, 10, 11, 12, 13, 14, 15, 16, 17, 18, 19, 20, 21, 22, 23, 24, 25, 26, 27, 28, 29, 30, 31, 32, 33, 34, 35, 36, 37]\n",
            "\t 2nervyofficial_data.csv\n",
            "[0, 1, 2, 3, 4, 5, 6, 13, 14, 15, 16, 17, 18, 7, 8, 9, 10, 12, 11, 19, 20, 21, 22, 26, 27, 28, 23, 24, 25, 29, 30, 31, 32, 33, 34, 35, 36, 37]\n",
            "\t 2korol_i_shut_ru_data.csv\n",
            "[0, 1, 2, 3, 4, 5, 6, 7, 8, 9, 10, 11, 12, 13, 14, 15, 16, 17, 18, 21, 23, 24, 25, 28, 22, 26, 27, 19, 20, 29, 30, 32, 31, 33, 34, 35, 36, 37]\n",
            "\t 2nirvanamusic_data.csv\n",
            "[0, 1, 2, 3, 4, 5, 6, 8, 9, 10, 11, 12, 13, 14, 15, 16, 17, 18, 19, 22, 23, 24, 25, 7, 27, 30, 26, 20, 21, 28, 29, 31, 32, 33, 34, 35, 36, 37]\n",
            "\t 2idragons_data.csv\n",
            "[0, 1, 2, 3, 4, 5, 6, 15, 16, 17, 18, 19, 20, 7, 8, 9, 10, 14, 11, 21, 22, 23, 24, 12, 28, 27, 13, 25, 26, 29, 30, 32, 31, 33, 34, 35, 36, 37]\n",
            "/content/drive/My Drive/Course_Project_BD/rap_data\n",
            "\t 2maxkorzh_data.csv\n",
            "[0, 1, 2, 3, 4, 5, 6, 8, 9, 10, 11, 12, 13, 14, 15, 16, 17, 18, 23, 19, 20, 21, 22, 27, 24, 28, 7, 25, 26, 30, 31, 29, 32, 33, 34, 35, 36, 37]\n",
            "\t 2hauntedfamily_data.csv\n",
            "[0, 1, 2, 3, 4, 5, 6, 13, 14, 15, 16, 17, 18, 7, 8, 9, 10, 11, 12, 19, 20, 21, 22, 25, 29, 31, 26, 27, 28, 23, 24, 30, 32, 33, 34, 35, 36, 37]\n",
            "\t 2egorkreed_data.csv\n",
            "[0, 1, 2, 3, 4, 5, 6, 13, 14, 15, 16, 17, 18, 8, 9, 10, 11, 12, 23, 19, 20, 21, 22, 28, 27, 24, 7, 26, 25, 29, 30, 31, 32, 33, 34, 35, 36, 37]\n",
            "\t 2sayonaraboy_data.csv\n",
            "[0, 1, 2, 3, 4, 5, 6, 13, 14, 15, 16, 17, 18, 7, 8, 9, 10, 11, 12, 19, 20, 21, 22, 26, 25, 27, 23, 24, 28, 29, 30, 31, 32, 33, 34, 35, 36, 37]\n",
            "\t 2scriptonite_data.csv\n",
            "[0, 1, 2, 5, 3, 6, 7, 13, 14, 15, 16, 17, 18, 4, 8, 9, 10, 11, 12, 19, 20, 21, 22, 24, 27, 28, 23, 25, 26, 29, 30, 31, 32, 33, 34, 35, 36, 37]\n",
            "/content/drive/My Drive/Course_Project_BD/electro_data\n",
            "\t 2arminvanbuuren_data.csv\n",
            "[0, 1, 2, 3, 4, 5, 6, 7, 8, 9, 10, 11, 12, 13, 14, 15, 16, 17, 22, 18, 19, 20, 21, 24, 23, 25, 26, 27, 28, 29, 30, 31, 32, 33, 34, 35, 36, 37]\n",
            "\t 2tiesto_data.csv\n",
            "[0, 1, 2, 3, 4, 5, 6, 12, 13, 14, 15, 16, 17, 7, 8, 9, 10, 18, 11, 19, 20, 21, 22, 23, 26, 24, 25, 27, 28, 29, 30, 31, 32, 33, 34, 35, 36, 37]\n",
            "\t 2hardwell_data.csv\n",
            "[0, 1, 2, 3, 4, 5, 6, 7, 8, 9, 10, 11, 12, 13, 14, 15, 16, 17, 22, 18, 19, 20, 21, 23, 31, 29, 28, 24, 25, 26, 27, 30, 32, 33, 34, 35, 36, 37]\n",
            "\t 2davidguetta_data.csv\n",
            "[0, 1, 2, 3, 4, 5, 6, 7, 8, 9, 10, 11, 12, 13, 14, 15, 16, 17, 18, 19, 20, 21, 22, 23, 28, 26, 27, 30, 29, 24, 25, 31, 32, 33, 34, 35, 36, 37]\n",
            "\t 2martingarrix_data.csv\n",
            "[0, 1, 2, 3, 4, 5, 6, 14, 15, 16, 17, 18, 19, 9, 10, 11, 12, 13, 20, 21, 22, 23, 24, 29, 28, 30, 26, 25, 27, 7, 8, 31, 32, 33, 34, 35, 36, 37]\n",
            "/content/drive/My Drive/Course_Project_BD/pop_data\n",
            "\t 2shakira_data.csv\n",
            "[0, 1, 2, 3, 4, 5, 6, 11, 12, 13, 14, 15, 16, 7, 8, 9, 10, 17, 23, 18, 19, 20, 21, 22, 28, 25, 26, 24, 27, 29, 30, 31, 32, 33, 34, 35, 36, 37]\n",
            "\t 2enrique_data.csv\n",
            "[0, 1, 2, 3, 4, 5, 6, 7, 8, 9, 10, 11, 12, 13, 14, 15, 16, 17, 18, 19, 20, 21, 22, 23, 24, 30, 25, 26, 27, 28, 29, 31, 32, 33, 34, 35, 36, 37]\n",
            "\t 2inna_ro_data.csv\n",
            "[0, 1, 2, 3, 4, 5, 6, 7, 8, 9, 10, 11, 12, 13, 14, 15, 16, 17, 22, 18, 19, 20, 21, 24, 23, 25, 26, 28, 27, 29, 30, 31, 32, 33, 34, 35, 36, 37]\n",
            "\t 2nataliaoreiro_data.csv\n",
            "[0, 1, 2, 3, 4, 5, 6, 7, 8, 9, 10, 11, 12, 13, 14, 15, 16, 17, 18, 19, 20, 21, 22, 28, 27, 30, 29, 23, 24, 25, 26, 31, 32, 33, 34, 35, 36, 37]\n",
            "\t 2krosskarina_data.csv\n",
            "[0, 1, 2, 3, 4, 5, 6, 13, 14, 15, 16, 17, 18, 7, 8, 9, 10, 11, 12, 19, 20, 21, 22, 25, 26, 31, 24, 27, 28, 29, 30, 23, 32, 33, 34, 35, 36, 37]\n"
          ]
        }
      ]
    },
    {
      "cell_type": "code",
      "source": [
        "final_db = spark.read.option(\"header\", True).csv(path_to_final)\n",
        "final_db.show(5)"
      ],
      "metadata": {
        "colab": {
          "base_uri": "https://localhost:8080/"
        },
        "id": "aj9jx-T2-pBI",
        "outputId": "0331fab6-18cf-47fa-b15c-049a5449b7b3"
      },
      "execution_count": null,
      "outputs": [
        {
          "output_type": "stream",
          "name": "stdout",
          "text": [
            "+---+---+---------+----------+--------+-----------------+-------------+---------+-----+------+-----+------+-----+-------------------------+-----------------------+--------------------+--------------------+------------------+----------+--------+------------+-------+---------+-----+----------------+-------+---------+--------------+----------------+--------+-------------+------------+-----------+--------+-----------------+---------+-------+-------+\n",
            "|_c0|sex|has_photo|has_mobile|can_post|can_see_all_posts|can_see_audio|interests|books|quotes|about|movies|music|can_write_private_message|can_send_friend_request|can_be_invited_group|              status|   followers_count|occupation|relation|universities|schools|relatives|skype|relation_partner|twitter|instagram|education_form|education_status|facebook|facebook_name|status_audio|livejournal|category|              age|is_status|alcohol|smoking|\n",
            "+---+---+---------+----------+--------+-----------------+-------------+---------+-----+------+-----+------+-----+-------------------------+-----------------------+--------------------+--------------------+------------------+----------+--------+------------+-------+---------+-----+----------------+-------+---------+--------------+----------------+--------+-------------+------------+-----------+--------+-----------------+---------+-------+-------+\n",
            "|  0|  2|        1|         1|       0|                1|            1|        0|    0|     0|    0|     0|    0|                        1|                      1|                   0|                null|               0.0|         3|     0.0|           1|      0|        0|    0|               0|      0|        0|             0|               0|       0|            0|           0|          0|       3|             30.0|        0|    0.0|    0.0|\n",
            "|  1|  2|        1|         1|       0|                1|            1|        0|    0|     0|    0|     0|    0|                        0|                      1|                   0|                null|145.95406749370795|         3|     0.0|           0|      0|        0|    0|               0|      0|        0|             0|               0|       0|            0|           0|          0|       3|27.92054831130363|        0|    0.0|    0.0|\n",
            "|  4|  2|        1|         1|       0|                1|            1|        0|    0|     0|    0|     0|    0|                        0|                      1|                   0| time is a valuab...|145.95406749370795|         1|     0.0|           0|      0|        0|    0|               0|      0|        0|             0|               0|       0|            0|           0|          0|       3|             22.0|        1|    0.0|    0.0|\n",
            "|  6|  2|        1|         1|       0|                1|            1|        0|    0|     0|    0|     0|    0|                        1|                      1|                   0|                  о |               5.0|         3|     0.0|           0|      0|        0|    0|               0|      0|        0|             0|               0|       0|            0|           0|          0|       3|27.92054831130363|        1|    0.0|    0.0|\n",
            "|  7|  2|        1|         1|       0|                1|            1|        0|    0|     0|    0|     0|    0|                        1|                      1|                   0|                null|              10.0|         3|     0.0|           0|      0|        0|    0|               0|      0|        0|             0|               0|       0|            0|           0|          0|       3|             19.0|        0|    0.0|    0.0|\n",
            "+---+---+---------+----------+--------+-----------------+-------------+---------+-----+------+-----+------+-----+-------------------------+-----------------------+--------------------+--------------------+------------------+----------+--------+------------+-------+---------+-----+----------------+-------+---------+--------------+----------------+--------+-------------+------------+-----------+--------+-----------------+---------+-------+-------+\n",
            "only showing top 5 rows\n",
            "\n"
          ]
        }
      ]
    },
    {
      "cell_type": "markdown",
      "metadata": {
        "id": "X659kn3wADqS"
      },
      "source": [
        "# Datasets preprocessing"
      ]
    },
    {
      "cell_type": "code",
      "execution_count": null,
      "metadata": {
        "colab": {
          "base_uri": "https://localhost:8080/"
        },
        "id": "nu2OtDXHSm0P",
        "outputId": "5c1ca76c-c7c0-48e3-beea-ee9992695bb9"
      },
      "outputs": [
        {
          "output_type": "execute_result",
          "data": {
            "text/plain": [
              "DataFrame[_c0: string, sex: string, has_photo: string, has_mobile: string, can_post: string, can_see_all_posts: string, can_see_audio: string, interests: string, books: string, quotes: string, about: string, movies: string, music: string, can_write_private_message: string, can_send_friend_request: string, can_be_invited_group: string, status: string, followers_count: string, occupation: string, relation: string, universities: string, schools: string, relatives: string, skype: string, relation_partner: string, twitter: string, instagram: string, education_form: string, education_status: string, facebook: string, facebook_name: string, status_audio: string, livejournal: string, category: string, age: string, is_status: string, alcohol: string, smoking: string]"
            ]
          },
          "metadata": {},
          "execution_count": 24
        }
      ],
      "source": [
        "final_db"
      ]
    },
    {
      "cell_type": "markdown",
      "metadata": {
        "id": "atb1nahsZMSs"
      },
      "source": [
        "changing of types"
      ]
    },
    {
      "cell_type": "code",
      "execution_count": null,
      "metadata": {
        "id": "62UMZcK7ZP3M",
        "colab": {
          "base_uri": "https://localhost:8080/"
        },
        "outputId": "96da7bd7-3f59-46d9-fef4-92207177c230"
      },
      "outputs": [
        {
          "output_type": "stream",
          "name": "stdout",
          "text": [
            "+---+---------+----------+--------+-----------------+-------------+---------+-----+------+-----+------+-----+-------------------------+-----------------------+--------------------+------+------------------+----------+--------+------------+-------+---------+-----+----------------+-------+---------+--------------+----------------+--------+-------------+------------+-----------+--------+-----------------+---------+-------+-------+\n",
            "|sex|has_photo|has_mobile|can_post|can_see_all_posts|can_see_audio|interests|books|quotes|about|movies|music|can_write_private_message|can_send_friend_request|can_be_invited_group|status|   followers_count|occupation|relation|universities|schools|relatives|skype|relation_partner|twitter|instagram|education_form|education_status|facebook|facebook_name|status_audio|livejournal|category|              age|is_status|alcohol|smoking|\n",
            "+---+---------+----------+--------+-----------------+-------------+---------+-----+------+-----+------+-----+-------------------------+-----------------------+--------------------+------+------------------+----------+--------+------------+-------+---------+-----+----------------+-------+---------+--------------+----------------+--------+-------------+------------+-----------+--------+-----------------+---------+-------+-------+\n",
            "|  2|        1|         1|       0|                1|            1|        0|    0|     0|    0|     0|    0|                        1|                      1|                   0|  null|               0.0|         3|     0.0|           1|      0|        0|    0|               0|      0|        0|             0|               0|       0|            0|           0|          0|       3|             30.0|        0|    0.0|    0.0|\n",
            "|  2|        1|         1|       0|                1|            1|        0|    0|     0|    0|     0|    0|                        0|                      1|                   0|  null|145.95406749370795|         3|     0.0|           0|      0|        0|    0|               0|      0|        0|             0|               0|       0|            0|           0|          0|       3|27.92054831130363|        0|    0.0|    0.0|\n",
            "+---+---------+----------+--------+-----------------+-------------+---------+-----+------+-----+------+-----+-------------------------+-----------------------+--------------------+------+------------------+----------+--------+------------+-------+---------+-----+----------------+-------+---------+--------------+----------------+--------+-------------+------------+-----------+--------+-----------------+---------+-------+-------+\n",
            "only showing top 2 rows\n",
            "\n"
          ]
        }
      ],
      "source": [
        "final_db = final_db.drop('_c0')\n",
        "final_db.show(2)\n",
        "final_db = final_db.withColumn('sex', final_db['sex'].cast('int')) \\\n",
        "                .withColumn('has_photo', final_db['has_photo'].cast('int')) \\\n",
        "                .withColumn('has_mobile', final_db['has_mobile'].cast('int')) \\\n",
        "                .withColumn('can_post', final_db['can_post'].cast('int')) \\\n",
        "                .withColumn('can_see_all_posts', final_db['can_see_all_posts'].cast('int')) \\\n",
        "                .withColumn('can_see_audio', final_db['can_see_audio'].cast('int')) \\\n",
        "                .withColumn('interests', final_db['interests'].cast('int')) \\\n",
        "                .withColumn('books', final_db['books'].cast('int')) \\\n",
        "                .withColumn('quotes', final_db['quotes'].cast('int')) \\\n",
        "                .withColumn('about', final_db['about'].cast('int')) \\\n",
        "                .withColumn('movies', final_db['movies'].cast('int')) \\\n",
        "                .withColumn('music', final_db['music'].cast('int')) \\\n",
        "                .withColumn('can_write_private_message', final_db['can_write_private_message'].cast('int')) \\\n",
        "                .withColumn('can_send_friend_request', final_db['can_send_friend_request'].cast('int')) \\\n",
        "                .withColumn('can_be_invited_group', final_db['can_be_invited_group'].cast('int')) \\\n",
        "                .withColumn('status', final_db['status'].cast('string')) \\\n",
        "                .withColumn('followers_count', final_db['followers_count'].cast('double')) \\\n",
        "                .withColumn('occupation', final_db['occupation'].cast('int')) \\\n",
        "                .withColumn('relation', final_db['relation'].cast('int')) \\\n",
        "                .withColumn('universities', final_db['universities'].cast('int')) \\\n",
        "                .withColumn('schools', final_db['schools'].cast('int')) \\\n",
        "                .withColumn('relatives', final_db['relatives'].cast('int')) \\\n",
        "                .withColumn('skype', final_db['skype'].cast('int')) \\\n",
        "                .withColumn('relation_partner', final_db['relation_partner'].cast('int')) \\\n",
        "                .withColumn('twitter', final_db['twitter'].cast('int')) \\\n",
        "                .withColumn('instagram', final_db['instagram'].cast('int')) \\\n",
        "                .withColumn('education_form', final_db['education_form'].cast('int')) \\\n",
        "                .withColumn('education_status', final_db['education_status'].cast('int')) \\\n",
        "                .withColumn('facebook', final_db['facebook'].cast('int')) \\\n",
        "                .withColumn('facebook_name', final_db['facebook_name'].cast('int')) \\\n",
        "                .withColumn('status_audio', final_db['status_audio'].cast('int')) \\\n",
        "                .withColumn('livejournal', final_db['livejournal'].cast('int')) \\\n",
        "                .withColumn('category', final_db['category'].cast('int')) \\\n",
        "                .withColumn('age', final_db['age'].cast('double')) \\\n",
        "                .withColumn('is_status', final_db['is_status'].cast('int')) \\\n",
        "                .withColumn('alcohol', final_db['alcohol'].cast('int')) \\\n",
        "                .withColumn('smoking', final_db['smoking'].cast('int'))"
      ]
    },
    {
      "cell_type": "code",
      "execution_count": null,
      "metadata": {
        "colab": {
          "base_uri": "https://localhost:8080/"
        },
        "id": "-jkim_v8a07c",
        "outputId": "4b0036aa-4a5a-42a7-c1df-8b4e335c189d"
      },
      "outputs": [
        {
          "output_type": "stream",
          "name": "stdout",
          "text": [
            "+---+---------+----------+--------+-----------------+-------------+---------+-----+------+-----+------+-----+-------------------------+-----------------------+--------------------+--------------------+------------------+----------+--------+------------+-------+---------+-----+----------------+-------+---------+--------------+----------------+--------+-------------+------------+-----------+--------+-----------------+---------+-------+-------+\n",
            "|sex|has_photo|has_mobile|can_post|can_see_all_posts|can_see_audio|interests|books|quotes|about|movies|music|can_write_private_message|can_send_friend_request|can_be_invited_group|              status|   followers_count|occupation|relation|universities|schools|relatives|skype|relation_partner|twitter|instagram|education_form|education_status|facebook|facebook_name|status_audio|livejournal|category|              age|is_status|alcohol|smoking|\n",
            "+---+---------+----------+--------+-----------------+-------------+---------+-----+------+-----+------+-----+-------------------------+-----------------------+--------------------+--------------------+------------------+----------+--------+------------+-------+---------+-----+----------------+-------+---------+--------------+----------------+--------+-------------+------------+-----------+--------+-----------------+---------+-------+-------+\n",
            "|  2|        1|         1|       0|                1|            1|        0|    0|     0|    0|     0|    0|                        1|                      1|                   0|                null|               0.0|         3|       0|           1|      0|        0|    0|               0|      0|        0|             0|               0|       0|            0|           0|          0|       3|             30.0|        0|      0|      0|\n",
            "|  2|        1|         1|       0|                1|            1|        0|    0|     0|    0|     0|    0|                        0|                      1|                   0|                null|145.95406749370795|         3|       0|           0|      0|        0|    0|               0|      0|        0|             0|               0|       0|            0|           0|          0|       3|27.92054831130363|        0|      0|      0|\n",
            "|  2|        1|         1|       0|                1|            1|        0|    0|     0|    0|     0|    0|                        0|                      1|                   0| time is a valuab...|145.95406749370795|         1|       0|           0|      0|        0|    0|               0|      0|        0|             0|               0|       0|            0|           0|          0|       3|             22.0|        1|      0|      0|\n",
            "|  2|        1|         1|       0|                1|            1|        0|    0|     0|    0|     0|    0|                        1|                      1|                   0|                  о |               5.0|         3|       0|           0|      0|        0|    0|               0|      0|        0|             0|               0|       0|            0|           0|          0|       3|27.92054831130363|        1|      0|      0|\n",
            "|  2|        1|         1|       0|                1|            1|        0|    0|     0|    0|     0|    0|                        1|                      1|                   0|                null|              10.0|         3|       0|           0|      0|        0|    0|               0|      0|        0|             0|               0|       0|            0|           0|          0|       3|             19.0|        0|      0|      0|\n",
            "+---+---------+----------+--------+-----------------+-------------+---------+-----+------+-----+------+-----+-------------------------+-----------------------+--------------------+--------------------+------------------+----------+--------+------------+-------+---------+-----+----------------+-------+---------+--------------+----------------+--------+-------------+------------+-----------+--------+-----------------+---------+-------+-------+\n",
            "only showing top 5 rows\n",
            "\n"
          ]
        }
      ],
      "source": [
        "final_db.show(5)"
      ]
    },
    {
      "cell_type": "markdown",
      "metadata": {
        "id": "SeqT1qxCSNyw"
      },
      "source": [
        "# Building classifiers"
      ]
    },
    {
      "cell_type": "code",
      "execution_count": null,
      "metadata": {
        "colab": {
          "base_uri": "https://localhost:8080/"
        },
        "id": "CeIgw-nJgMER",
        "outputId": "09590c5f-8285-4a2b-acd9-3f7834be2c4f"
      },
      "outputs": [
        {
          "output_type": "execute_result",
          "data": {
            "text/plain": [
              "DataFrame[sex: int, has_photo: int, has_mobile: int, can_post: int, can_see_all_posts: int, can_see_audio: int, interests: int, books: int, quotes: int, about: int, movies: int, music: int, can_write_private_message: int, can_send_friend_request: int, can_be_invited_group: int, status: string, followers_count: double, occupation: int, relation: int, universities: int, schools: int, relatives: int, skype: int, relation_partner: int, twitter: int, instagram: int, education_form: int, education_status: int, facebook: int, facebook_name: int, status_audio: int, livejournal: int, category: int, age: double, is_status: int, alcohol: int, smoking: int]"
            ]
          },
          "metadata": {},
          "execution_count": 28
        }
      ],
      "source": [
        "final_db"
      ]
    },
    {
      "cell_type": "code",
      "source": [
        "final_db.describe().toPandas().transpose()"
      ],
      "metadata": {
        "colab": {
          "base_uri": "https://localhost:8080/",
          "height": 1000
        },
        "id": "tRNxGbPuXpGI",
        "outputId": "a2e78908-ab1a-4a5f-d3e7-6a8570473d19"
      },
      "execution_count": null,
      "outputs": [
        {
          "output_type": "execute_result",
          "data": {
            "text/html": [
              "<div>\n",
              "<style scoped>\n",
              "    .dataframe tbody tr th:only-of-type {\n",
              "        vertical-align: middle;\n",
              "    }\n",
              "\n",
              "    .dataframe tbody tr th {\n",
              "        vertical-align: top;\n",
              "    }\n",
              "\n",
              "    .dataframe thead th {\n",
              "        text-align: right;\n",
              "    }\n",
              "</style>\n",
              "<table border=\"1\" class=\"dataframe\">\n",
              "  <thead>\n",
              "    <tr style=\"text-align: right;\">\n",
              "      <th></th>\n",
              "      <th>0</th>\n",
              "      <th>1</th>\n",
              "      <th>2</th>\n",
              "      <th>3</th>\n",
              "      <th>4</th>\n",
              "    </tr>\n",
              "  </thead>\n",
              "  <tbody>\n",
              "    <tr>\n",
              "      <th>summary</th>\n",
              "      <td>count</td>\n",
              "      <td>mean</td>\n",
              "      <td>stddev</td>\n",
              "      <td>min</td>\n",
              "      <td>max</td>\n",
              "    </tr>\n",
              "    <tr>\n",
              "      <th>sex</th>\n",
              "      <td>14716582</td>\n",
              "      <td>1.57095601410708</td>\n",
              "      <td>0.5033859178321045</td>\n",
              "      <td>0</td>\n",
              "      <td>2</td>\n",
              "    </tr>\n",
              "    <tr>\n",
              "      <th>has_photo</th>\n",
              "      <td>14716582</td>\n",
              "      <td>0.855923270770346</td>\n",
              "      <td>0.35116752939830725</td>\n",
              "      <td>0</td>\n",
              "      <td>1</td>\n",
              "    </tr>\n",
              "    <tr>\n",
              "      <th>has_mobile</th>\n",
              "      <td>14716582</td>\n",
              "      <td>1.0</td>\n",
              "      <td>0.0</td>\n",
              "      <td>1</td>\n",
              "      <td>1</td>\n",
              "    </tr>\n",
              "    <tr>\n",
              "      <th>can_post</th>\n",
              "      <td>14716582</td>\n",
              "      <td>0.05411059443014689</td>\n",
              "      <td>0.22623580945211044</td>\n",
              "      <td>0</td>\n",
              "      <td>1</td>\n",
              "    </tr>\n",
              "    <tr>\n",
              "      <th>can_see_all_posts</th>\n",
              "      <td>14716582</td>\n",
              "      <td>1.0</td>\n",
              "      <td>0.0</td>\n",
              "      <td>1</td>\n",
              "      <td>1</td>\n",
              "    </tr>\n",
              "    <tr>\n",
              "      <th>can_see_audio</th>\n",
              "      <td>14716582</td>\n",
              "      <td>1.0</td>\n",
              "      <td>0.0</td>\n",
              "      <td>1</td>\n",
              "      <td>1</td>\n",
              "    </tr>\n",
              "    <tr>\n",
              "      <th>interests</th>\n",
              "      <td>14716582</td>\n",
              "      <td>0.03253846579321204</td>\n",
              "      <td>0.17742524109071936</td>\n",
              "      <td>0</td>\n",
              "      <td>1</td>\n",
              "    </tr>\n",
              "    <tr>\n",
              "      <th>books</th>\n",
              "      <td>14716582</td>\n",
              "      <td>0.02529717838014289</td>\n",
              "      <td>0.15702621698817798</td>\n",
              "      <td>0</td>\n",
              "      <td>1</td>\n",
              "    </tr>\n",
              "    <tr>\n",
              "      <th>quotes</th>\n",
              "      <td>14716582</td>\n",
              "      <td>0.024709134226955688</td>\n",
              "      <td>0.15523722024766734</td>\n",
              "      <td>0</td>\n",
              "      <td>1</td>\n",
              "    </tr>\n",
              "    <tr>\n",
              "      <th>about</th>\n",
              "      <td>14716582</td>\n",
              "      <td>0.03065412879159033</td>\n",
              "      <td>0.1723788130796038</td>\n",
              "      <td>0</td>\n",
              "      <td>1</td>\n",
              "    </tr>\n",
              "    <tr>\n",
              "      <th>movies</th>\n",
              "      <td>14716582</td>\n",
              "      <td>0.03167223204409828</td>\n",
              "      <td>0.175125965651658</td>\n",
              "      <td>0</td>\n",
              "      <td>1</td>\n",
              "    </tr>\n",
              "    <tr>\n",
              "      <th>music</th>\n",
              "      <td>14716582</td>\n",
              "      <td>0.03734059987570484</td>\n",
              "      <td>0.18959504719057826</td>\n",
              "      <td>0</td>\n",
              "      <td>1</td>\n",
              "    </tr>\n",
              "    <tr>\n",
              "      <th>can_write_private_message</th>\n",
              "      <td>14716582</td>\n",
              "      <td>0.7059103125984009</td>\n",
              "      <td>0.45563248048424965</td>\n",
              "      <td>0</td>\n",
              "      <td>1</td>\n",
              "    </tr>\n",
              "    <tr>\n",
              "      <th>can_send_friend_request</th>\n",
              "      <td>14716582</td>\n",
              "      <td>1.0</td>\n",
              "      <td>0.0</td>\n",
              "      <td>1</td>\n",
              "      <td>1</td>\n",
              "    </tr>\n",
              "    <tr>\n",
              "      <th>can_be_invited_group</th>\n",
              "      <td>14716582</td>\n",
              "      <td>0.07804251014264046</td>\n",
              "      <td>0.2682384790488622</td>\n",
              "      <td>0</td>\n",
              "      <td>1</td>\n",
              "    </tr>\n",
              "    <tr>\n",
              "      <th>status</th>\n",
              "      <td>5595014</td>\n",
              "      <td>None</td>\n",
              "      <td>None</td>\n",
              "      <td>a</td>\n",
              "      <td>ёёёёёёёёёёёёёёёёёёёёёёёёёёёёёёё</td>\n",
              "    </tr>\n",
              "    <tr>\n",
              "      <th>followers_count</th>\n",
              "      <td>14716582</td>\n",
              "      <td>165.12258353870982</td>\n",
              "      <td>1067.8731922706118</td>\n",
              "      <td>0.0</td>\n",
              "      <td>1188723.0</td>\n",
              "    </tr>\n",
              "    <tr>\n",
              "      <th>occupation</th>\n",
              "      <td>14716582</td>\n",
              "      <td>2.404847946350586</td>\n",
              "      <td>0.9949089536103893</td>\n",
              "      <td>0</td>\n",
              "      <td>3</td>\n",
              "    </tr>\n",
              "    <tr>\n",
              "      <th>relation</th>\n",
              "      <td>14716582</td>\n",
              "      <td>0.6750935101642488</td>\n",
              "      <td>1.7954101644276004</td>\n",
              "      <td>-99</td>\n",
              "      <td>99</td>\n",
              "    </tr>\n",
              "    <tr>\n",
              "      <th>universities</th>\n",
              "      <td>14716582</td>\n",
              "      <td>0.07213189856177202</td>\n",
              "      <td>0.2587061891789659</td>\n",
              "      <td>0</td>\n",
              "      <td>1</td>\n",
              "    </tr>\n",
              "    <tr>\n",
              "      <th>schools</th>\n",
              "      <td>14716582</td>\n",
              "      <td>0.14383013664450073</td>\n",
              "      <td>0.35091742163216155</td>\n",
              "      <td>0</td>\n",
              "      <td>1</td>\n",
              "    </tr>\n",
              "    <tr>\n",
              "      <th>relatives</th>\n",
              "      <td>14716582</td>\n",
              "      <td>0.08128674171760807</td>\n",
              "      <td>0.2732749758266164</td>\n",
              "      <td>0</td>\n",
              "      <td>1</td>\n",
              "    </tr>\n",
              "    <tr>\n",
              "      <th>skype</th>\n",
              "      <td>14716582</td>\n",
              "      <td>0.05172525794372634</td>\n",
              "      <td>0.22147180174311215</td>\n",
              "      <td>0</td>\n",
              "      <td>1</td>\n",
              "    </tr>\n",
              "    <tr>\n",
              "      <th>relation_partner</th>\n",
              "      <td>14716582</td>\n",
              "      <td>0.01938629499703124</td>\n",
              "      <td>0.1378784531937144</td>\n",
              "      <td>0</td>\n",
              "      <td>1</td>\n",
              "    </tr>\n",
              "    <tr>\n",
              "      <th>twitter</th>\n",
              "      <td>14716582</td>\n",
              "      <td>0.008393185319797762</td>\n",
              "      <td>0.0912290541742058</td>\n",
              "      <td>0</td>\n",
              "      <td>1</td>\n",
              "    </tr>\n",
              "    <tr>\n",
              "      <th>instagram</th>\n",
              "      <td>14716582</td>\n",
              "      <td>0.03960933319978783</td>\n",
              "      <td>0.1950395767738556</td>\n",
              "      <td>0</td>\n",
              "      <td>1</td>\n",
              "    </tr>\n",
              "    <tr>\n",
              "      <th>education_form</th>\n",
              "      <td>14716582</td>\n",
              "      <td>0.02252119411966719</td>\n",
              "      <td>0.14837112734947613</td>\n",
              "      <td>0</td>\n",
              "      <td>1</td>\n",
              "    </tr>\n",
              "    <tr>\n",
              "      <th>education_status</th>\n",
              "      <td>14716582</td>\n",
              "      <td>0.02007232385889604</td>\n",
              "      <td>0.14024773442144572</td>\n",
              "      <td>0</td>\n",
              "      <td>1</td>\n",
              "    </tr>\n",
              "    <tr>\n",
              "      <th>facebook</th>\n",
              "      <td>14716582</td>\n",
              "      <td>0.010818612637091956</td>\n",
              "      <td>0.10344839769120724</td>\n",
              "      <td>0</td>\n",
              "      <td>1</td>\n",
              "    </tr>\n",
              "    <tr>\n",
              "      <th>facebook_name</th>\n",
              "      <td>14716582</td>\n",
              "      <td>0.010814467652882987</td>\n",
              "      <td>0.10342879516445133</td>\n",
              "      <td>0</td>\n",
              "      <td>1</td>\n",
              "    </tr>\n",
              "    <tr>\n",
              "      <th>status_audio</th>\n",
              "      <td>14716582</td>\n",
              "      <td>9.559964399342184E-4</td>\n",
              "      <td>0.03090441029431646</td>\n",
              "      <td>0</td>\n",
              "      <td>1</td>\n",
              "    </tr>\n",
              "    <tr>\n",
              "      <th>livejournal</th>\n",
              "      <td>14716582</td>\n",
              "      <td>1.4609370572596272E-4</td>\n",
              "      <td>0.012086040388845658</td>\n",
              "      <td>0</td>\n",
              "      <td>1</td>\n",
              "    </tr>\n",
              "    <tr>\n",
              "      <th>category</th>\n",
              "      <td>14716582</td>\n",
              "      <td>1.5798701763765526</td>\n",
              "      <td>0.9602205226417496</td>\n",
              "      <td>0</td>\n",
              "      <td>3</td>\n",
              "    </tr>\n",
              "    <tr>\n",
              "      <th>age</th>\n",
              "      <td>14716582</td>\n",
              "      <td>26.845774684038272</td>\n",
              "      <td>11.25651151852342</td>\n",
              "      <td>13.0</td>\n",
              "      <td>119.0</td>\n",
              "    </tr>\n",
              "    <tr>\n",
              "      <th>is_status</th>\n",
              "      <td>14716582</td>\n",
              "      <td>0.3801843389993682</td>\n",
              "      <td>0.48543199667012066</td>\n",
              "      <td>0</td>\n",
              "      <td>1</td>\n",
              "    </tr>\n",
              "    <tr>\n",
              "      <th>alcohol</th>\n",
              "      <td>14716582</td>\n",
              "      <td>0.11696669783785392</td>\n",
              "      <td>0.6161231158168716</td>\n",
              "      <td>0</td>\n",
              "      <td>5</td>\n",
              "    </tr>\n",
              "    <tr>\n",
              "      <th>smoking</th>\n",
              "      <td>14716582</td>\n",
              "      <td>0.18047995111908458</td>\n",
              "      <td>0.7579516325848509</td>\n",
              "      <td>0</td>\n",
              "      <td>5</td>\n",
              "    </tr>\n",
              "  </tbody>\n",
              "</table>\n",
              "</div>"
            ],
            "text/plain": [
              "                                  0  ...                                4\n",
              "summary                       count  ...                              max\n",
              "sex                        14716582  ...                                2\n",
              "has_photo                  14716582  ...                                1\n",
              "has_mobile                 14716582  ...                                1\n",
              "can_post                   14716582  ...                                1\n",
              "can_see_all_posts          14716582  ...                                1\n",
              "can_see_audio              14716582  ...                                1\n",
              "interests                  14716582  ...                                1\n",
              "books                      14716582  ...                                1\n",
              "quotes                     14716582  ...                                1\n",
              "about                      14716582  ...                                1\n",
              "movies                     14716582  ...                                1\n",
              "music                      14716582  ...                                1\n",
              "can_write_private_message  14716582  ...                                1\n",
              "can_send_friend_request    14716582  ...                                1\n",
              "can_be_invited_group       14716582  ...                                1\n",
              "status                      5595014  ...  ёёёёёёёёёёёёёёёёёёёёёёёёёёёёёёё\n",
              "followers_count            14716582  ...                        1188723.0\n",
              "occupation                 14716582  ...                                3\n",
              "relation                   14716582  ...                               99\n",
              "universities               14716582  ...                                1\n",
              "schools                    14716582  ...                                1\n",
              "relatives                  14716582  ...                                1\n",
              "skype                      14716582  ...                                1\n",
              "relation_partner           14716582  ...                                1\n",
              "twitter                    14716582  ...                                1\n",
              "instagram                  14716582  ...                                1\n",
              "education_form             14716582  ...                                1\n",
              "education_status           14716582  ...                                1\n",
              "facebook                   14716582  ...                                1\n",
              "facebook_name              14716582  ...                                1\n",
              "status_audio               14716582  ...                                1\n",
              "livejournal                14716582  ...                                1\n",
              "category                   14716582  ...                                3\n",
              "age                        14716582  ...                            119.0\n",
              "is_status                  14716582  ...                                1\n",
              "alcohol                    14716582  ...                                5\n",
              "smoking                    14716582  ...                                5\n",
              "\n",
              "[38 rows x 5 columns]"
            ]
          },
          "metadata": {},
          "execution_count": 29
        }
      ]
    },
    {
      "cell_type": "code",
      "source": [
        "final_db.where((final_db.relation < 0) | (final_db.relation > 8)).show()"
      ],
      "metadata": {
        "colab": {
          "base_uri": "https://localhost:8080/"
        },
        "id": "3nYv8BRwhgUe",
        "outputId": "f2a91ebe-8458-49b6-df2f-99b0fd206d07"
      },
      "execution_count": null,
      "outputs": [
        {
          "output_type": "stream",
          "name": "stdout",
          "text": [
            "+---+---------+----------+--------+-----------------+-------------+---------+-----+------+-----+------+-----+-------------------------+-----------------------+--------------------+--------------------+---------------+----------+--------+------------+-------+---------+-----+----------------+-------+---------+--------------+----------------+--------+-------------+------------+-----------+--------+------------------+---------+-------+-------+\n",
            "|sex|has_photo|has_mobile|can_post|can_see_all_posts|can_see_audio|interests|books|quotes|about|movies|music|can_write_private_message|can_send_friend_request|can_be_invited_group|              status|followers_count|occupation|relation|universities|schools|relatives|skype|relation_partner|twitter|instagram|education_form|education_status|facebook|facebook_name|status_audio|livejournal|category|               age|is_status|alcohol|smoking|\n",
            "+---+---------+----------+--------+-----------------+-------------+---------+-----+------+-----+------+-----+-------------------------+-----------------------+--------------------+--------------------+---------------+----------+--------+------------+-------+---------+-----+----------------+-------+---------+--------------+----------------+--------+-------------+------------+-----------+--------+------------------+---------+-------+-------+\n",
            "|  2|        1|         1|       1|                1|            1|        0|    0|     0|    0|     0|    0|                        1|                      1|                   0|                null|           10.0|         2|     -99|           1|      1|        0|    0|               0|      0|        0|             1|               1|       0|            0|           0|          0|       3| 27.92054831130363|        0|      0|      0|\n",
            "|  2|        1|         1|       0|                1|            1|        0|    0|     0|    1|     0|    0|                        1|                      1|                   1|                null|           82.0|         3|      99|           0|      0|        0|    0|               0|      0|        1|             0|               0|       0|            0|           0|          0|       3| 27.92054831130363|        0|      0|      0|\n",
            "|  2|        1|         1|       0|                1|            1|        0|    0|     0|    0|     0|    0|                        1|                      1|                   0|                null|           18.0|         2|     -99|           1|      1|        0|    0|               0|      0|        0|             0|               0|       0|            0|           0|          0|       3| 31.41370809117367|        0|      0|      0|\n",
            "|  2|        1|         1|       1|                1|            1|        1|    1|     1|    1|     1|    1|                        1|                      1|                   0|добавлю друзья лю...|          422.0|         0|     -99|           1|      1|        0|    0|               0|      0|        0|             1|               1|       0|            0|           0|          0|       3| 31.41370809117367|        1|      0|      0|\n",
            "|  2|        1|         1|       1|                1|            1|        1|    1|     1|    1|     1|    1|                        1|                      1|                   1|                null|           73.0|         2|     -99|           1|      1|        0|    1|               0|      0|        0|             1|               1|       0|            0|           0|          0|       3|30.984249197971643|        0|      4|      4|\n",
            "|  2|        1|         1|       1|                1|            1|        1|    1|     1|    1|     1|    1|                        1|                      1|                   1|                null|          100.0|         2|     -99|           1|      1|        0|    1|               0|      0|        0|             1|               1|       0|            0|           0|          0|       2|              30.0|        0|      0|      0|\n",
            "|  2|        1|         1|       1|                1|            1|        0|    0|     0|    0|     0|    0|                        1|                      1|                   1|uptime дн час мин...|           42.0|         3|     -99|           0|      1|        0|    0|               0|      0|        0|             0|               0|       0|            0|           0|          0|       2| 22.79437459566431|        1|      0|      0|\n",
            "|  2|        1|         1|       1|                1|            1|        0|    0|     0|    0|     0|    0|                        1|                      1|                   0|                null|           10.0|         2|     -99|           1|      1|        0|    0|               0|      0|        0|             1|               1|       0|            0|           0|          0|       0|   28.836707899155|        0|      0|      0|\n",
            "|  2|        1|         1|       1|                1|            1|        0|    0|     0|    0|     0|    0|                        1|                      1|                   0|                null|           10.0|         2|     -99|           1|      1|        0|    0|               0|      0|        0|             1|               1|       0|            0|           0|          0|       0| 31.35037235776435|        0|      0|      0|\n",
            "|  2|        1|         1|       1|                1|            1|        0|    0|     1|    0|     0|    1|                        1|                      1|                   0|                null|          207.0|         2|     -99|           1|      1|        0|    0|               0|      0|        0|             1|               1|       0|            0|           0|          0|       0|              28.0|        0|      0|      0|\n",
            "|  2|        1|         1|       1|                1|            1|        0|    0|     0|    0|     0|    0|                        1|                      1|                   0|                null|           10.0|         2|     -99|           1|      1|        0|    0|               0|      0|        0|             1|               1|       0|            0|           0|          0|       1| 30.74267956567581|        0|      0|      0|\n",
            "|  2|        1|         1|       1|                1|            1|        0|    0|     0|    0|     0|    0|                        1|                      1|                   0|                null|           10.0|         2|     -99|           1|      1|        0|    0|               0|      0|        0|             1|               1|       0|            0|           0|          0|       1| 30.80652669131886|        0|      0|      0|\n",
            "+---+---------+----------+--------+-----------------+-------------+---------+-----+------+-----+------+-----+-------------------------+-----------------------+--------------------+--------------------+---------------+----------+--------+------------+-------+---------+-----+----------------+-------+---------+--------------+----------------+--------+-------------+------------+-----------+--------+------------------+---------+-------+-------+\n",
            "\n"
          ]
        }
      ]
    },
    {
      "cell_type": "markdown",
      "source": [
        "fixing dataset mistakes "
      ],
      "metadata": {
        "id": "bU64tiGpfoSY"
      }
    },
    {
      "cell_type": "code",
      "source": [
        "# relations should be from 0 to 8\n",
        "final_db_fixed = final_db.where((final_db.relation >= 0) & (final_db.relation <= 8))"
      ],
      "metadata": {
        "id": "Fu-nsPdJfnz-"
      },
      "execution_count": null,
      "outputs": []
    },
    {
      "cell_type": "code",
      "source": [
        "final_db_fixed.where((final_db_fixed.relation < 0) | (final_db_fixed.relation > 8)).show()"
      ],
      "metadata": {
        "colab": {
          "base_uri": "https://localhost:8080/"
        },
        "id": "YuZjjCGYivfC",
        "outputId": "1c921054-b3a6-43cb-cce0-d663390703d3"
      },
      "execution_count": null,
      "outputs": [
        {
          "output_type": "stream",
          "name": "stdout",
          "text": [
            "+---+---------+----------+--------+-----------------+-------------+---------+-----+------+-----+------+-----+-------------------------+-----------------------+--------------------+------+---------------+----------+--------+------------+-------+---------+-----+----------------+-------+---------+--------------+----------------+--------+-------------+------------+-----------+--------+---+---------+-------+-------+\n",
            "|sex|has_photo|has_mobile|can_post|can_see_all_posts|can_see_audio|interests|books|quotes|about|movies|music|can_write_private_message|can_send_friend_request|can_be_invited_group|status|followers_count|occupation|relation|universities|schools|relatives|skype|relation_partner|twitter|instagram|education_form|education_status|facebook|facebook_name|status_audio|livejournal|category|age|is_status|alcohol|smoking|\n",
            "+---+---------+----------+--------+-----------------+-------------+---------+-----+------+-----+------+-----+-------------------------+-----------------------+--------------------+------+---------------+----------+--------+------------+-------+---------+-----+----------------+-------+---------+--------------+----------------+--------+-------------+------------+-----------+--------+---+---------+-------+-------+\n",
            "+---+---------+----------+--------+-----------------+-------------+---------+-----+------+-----+------+-----+-------------------------+-----------------------+--------------------+------+---------------+----------+--------+------------+-------+---------+-----+----------------+-------+---------+--------------+----------------+--------+-------------+------------+-----------+--------+---+---------+-------+-------+\n",
            "\n"
          ]
        }
      ]
    },
    {
      "cell_type": "markdown",
      "metadata": {
        "id": "UZKrU8Cpb59D"
      },
      "source": [
        "## classifiers based on numeric features"
      ]
    },
    {
      "cell_type": "code",
      "execution_count": null,
      "metadata": {
        "id": "Ltqxeg6CgL5H"
      },
      "outputs": [],
      "source": [
        "final_db_2 = final_db_fixed.drop('status')"
      ]
    },
    {
      "cell_type": "code",
      "execution_count": null,
      "metadata": {
        "colab": {
          "base_uri": "https://localhost:8080/"
        },
        "id": "-PMSdviqgL1f",
        "outputId": "24fc3f01-dfc5-4f53-9518-a097ea876dba"
      },
      "outputs": [
        {
          "output_type": "stream",
          "name": "stdout",
          "text": [
            "+---+---------+----------+--------+-----------------+-------------+---------+-----+------+-----+------+-----+-------------------------+-----------------------+--------------------+------------------+----------+--------+------------+-------+---------+-----+----------------+-------+---------+--------------+----------------+--------+-------------+------------+-----------+--------+-----------------+---------+-------+-------+\n",
            "|sex|has_photo|has_mobile|can_post|can_see_all_posts|can_see_audio|interests|books|quotes|about|movies|music|can_write_private_message|can_send_friend_request|can_be_invited_group|   followers_count|occupation|relation|universities|schools|relatives|skype|relation_partner|twitter|instagram|education_form|education_status|facebook|facebook_name|status_audio|livejournal|category|              age|is_status|alcohol|smoking|\n",
            "+---+---------+----------+--------+-----------------+-------------+---------+-----+------+-----+------+-----+-------------------------+-----------------------+--------------------+------------------+----------+--------+------------+-------+---------+-----+----------------+-------+---------+--------------+----------------+--------+-------------+------------+-----------+--------+-----------------+---------+-------+-------+\n",
            "|  2|        1|         1|       0|                1|            1|        0|    0|     0|    0|     0|    0|                        1|                      1|                   0|               0.0|         3|       0|           1|      0|        0|    0|               0|      0|        0|             0|               0|       0|            0|           0|          0|       3|             30.0|        0|      0|      0|\n",
            "|  2|        1|         1|       0|                1|            1|        0|    0|     0|    0|     0|    0|                        0|                      1|                   0|145.95406749370795|         3|       0|           0|      0|        0|    0|               0|      0|        0|             0|               0|       0|            0|           0|          0|       3|27.92054831130363|        0|      0|      0|\n",
            "|  2|        1|         1|       0|                1|            1|        0|    0|     0|    0|     0|    0|                        0|                      1|                   0|145.95406749370795|         1|       0|           0|      0|        0|    0|               0|      0|        0|             0|               0|       0|            0|           0|          0|       3|             22.0|        1|      0|      0|\n",
            "|  2|        1|         1|       0|                1|            1|        0|    0|     0|    0|     0|    0|                        1|                      1|                   0|               5.0|         3|       0|           0|      0|        0|    0|               0|      0|        0|             0|               0|       0|            0|           0|          0|       3|27.92054831130363|        1|      0|      0|\n",
            "|  2|        1|         1|       0|                1|            1|        0|    0|     0|    0|     0|    0|                        1|                      1|                   0|              10.0|         3|       0|           0|      0|        0|    0|               0|      0|        0|             0|               0|       0|            0|           0|          0|       3|             19.0|        0|      0|      0|\n",
            "+---+---------+----------+--------+-----------------+-------------+---------+-----+------+-----+------+-----+-------------------------+-----------------------+--------------------+------------------+----------+--------+------------+-------+---------+-----+----------------+-------+---------+--------------+----------------+--------+-------------+------------+-----------+--------+-----------------+---------+-------+-------+\n",
            "only showing top 5 rows\n",
            "\n"
          ]
        }
      ],
      "source": [
        "final_db_2.show(5)"
      ]
    },
    {
      "cell_type": "code",
      "execution_count": null,
      "metadata": {
        "colab": {
          "base_uri": "https://localhost:8080/",
          "height": 1000
        },
        "id": "snJ8X7jvcLCb",
        "outputId": "b101aa79-39a3-42e9-8eb4-a6ac95873a92"
      },
      "outputs": [
        {
          "output_type": "execute_result",
          "data": {
            "text/html": [
              "<div>\n",
              "<style scoped>\n",
              "    .dataframe tbody tr th:only-of-type {\n",
              "        vertical-align: middle;\n",
              "    }\n",
              "\n",
              "    .dataframe tbody tr th {\n",
              "        vertical-align: top;\n",
              "    }\n",
              "\n",
              "    .dataframe thead th {\n",
              "        text-align: right;\n",
              "    }\n",
              "</style>\n",
              "<table border=\"1\" class=\"dataframe\">\n",
              "  <thead>\n",
              "    <tr style=\"text-align: right;\">\n",
              "      <th></th>\n",
              "      <th>0</th>\n",
              "      <th>1</th>\n",
              "      <th>2</th>\n",
              "      <th>3</th>\n",
              "      <th>4</th>\n",
              "    </tr>\n",
              "  </thead>\n",
              "  <tbody>\n",
              "    <tr>\n",
              "      <th>summary</th>\n",
              "      <td>count</td>\n",
              "      <td>mean</td>\n",
              "      <td>stddev</td>\n",
              "      <td>min</td>\n",
              "      <td>max</td>\n",
              "    </tr>\n",
              "    <tr>\n",
              "      <th>sex</th>\n",
              "      <td>14716570</td>\n",
              "      <td>1.5709556642614413</td>\n",
              "      <td>0.503385973974724</td>\n",
              "      <td>0</td>\n",
              "      <td>2</td>\n",
              "    </tr>\n",
              "    <tr>\n",
              "      <th>has_photo</th>\n",
              "      <td>14716570</td>\n",
              "      <td>0.8559231532891156</td>\n",
              "      <td>0.3511676484705246</td>\n",
              "      <td>0</td>\n",
              "      <td>1</td>\n",
              "    </tr>\n",
              "    <tr>\n",
              "      <th>has_mobile</th>\n",
              "      <td>14716570</td>\n",
              "      <td>1.0</td>\n",
              "      <td>0.0</td>\n",
              "      <td>1</td>\n",
              "      <td>1</td>\n",
              "    </tr>\n",
              "    <tr>\n",
              "      <th>can_post</th>\n",
              "      <td>14716570</td>\n",
              "      <td>0.05410995904616361</td>\n",
              "      <td>0.22623455716587387</td>\n",
              "      <td>0</td>\n",
              "      <td>1</td>\n",
              "    </tr>\n",
              "    <tr>\n",
              "      <th>can_see_all_posts</th>\n",
              "      <td>14716570</td>\n",
              "      <td>1.0</td>\n",
              "      <td>0.0</td>\n",
              "      <td>1</td>\n",
              "      <td>1</td>\n",
              "    </tr>\n",
              "    <tr>\n",
              "      <th>can_see_audio</th>\n",
              "      <td>14716570</td>\n",
              "      <td>1.0</td>\n",
              "      <td>0.0</td>\n",
              "      <td>1</td>\n",
              "      <td>1</td>\n",
              "    </tr>\n",
              "    <tr>\n",
              "      <th>interests</th>\n",
              "      <td>14716570</td>\n",
              "      <td>0.03253828847346902</td>\n",
              "      <td>0.17742477390640984</td>\n",
              "      <td>0</td>\n",
              "      <td>1</td>\n",
              "    </tr>\n",
              "    <tr>\n",
              "      <th>books</th>\n",
              "      <td>14716570</td>\n",
              "      <td>0.02529699515580057</td>\n",
              "      <td>0.15702566308521004</td>\n",
              "      <td>0</td>\n",
              "      <td>1</td>\n",
              "    </tr>\n",
              "    <tr>\n",
              "      <th>quotes</th>\n",
              "      <td>14716570</td>\n",
              "      <td>0.02470888257250161</td>\n",
              "      <td>0.15523644975332893</td>\n",
              "      <td>0</td>\n",
              "      <td>1</td>\n",
              "    </tr>\n",
              "    <tr>\n",
              "      <th>about</th>\n",
              "      <td>14716570</td>\n",
              "      <td>0.03065388198472878</td>\n",
              "      <td>0.1723781410826059</td>\n",
              "      <td>0</td>\n",
              "      <td>1</td>\n",
              "    </tr>\n",
              "    <tr>\n",
              "      <th>movies</th>\n",
              "      <td>14716570</td>\n",
              "      <td>0.03167205401802186</td>\n",
              "      <td>0.17512548956755045</td>\n",
              "      <td>0</td>\n",
              "      <td>1</td>\n",
              "    </tr>\n",
              "    <tr>\n",
              "      <th>music</th>\n",
              "      <td>14716570</td>\n",
              "      <td>0.03734035852104125</td>\n",
              "      <td>0.18959445822364798</td>\n",
              "      <td>0</td>\n",
              "      <td>1</td>\n",
              "    </tr>\n",
              "    <tr>\n",
              "      <th>can_write_private_message</th>\n",
              "      <td>14716570</td>\n",
              "      <td>0.7059100727954951</td>\n",
              "      <td>0.45563258885638547</td>\n",
              "      <td>0</td>\n",
              "      <td>1</td>\n",
              "    </tr>\n",
              "    <tr>\n",
              "      <th>can_send_friend_request</th>\n",
              "      <td>14716570</td>\n",
              "      <td>1.0</td>\n",
              "      <td>0.0</td>\n",
              "      <td>1</td>\n",
              "      <td>1</td>\n",
              "    </tr>\n",
              "    <tr>\n",
              "      <th>can_be_invited_group</th>\n",
              "      <td>14716570</td>\n",
              "      <td>0.07804230197661548</td>\n",
              "      <td>0.26823815158915937</td>\n",
              "      <td>0</td>\n",
              "      <td>1</td>\n",
              "    </tr>\n",
              "    <tr>\n",
              "      <th>followers_count</th>\n",
              "      <td>14716570</td>\n",
              "      <td>165.12265063797292</td>\n",
              "      <td>1067.873619867557</td>\n",
              "      <td>0.0</td>\n",
              "      <td>1188723.0</td>\n",
              "    </tr>\n",
              "    <tr>\n",
              "      <th>occupation</th>\n",
              "      <td>14716570</td>\n",
              "      <td>2.4048482764665953</td>\n",
              "      <td>0.9949090871780749</td>\n",
              "      <td>0</td>\n",
              "      <td>3</td>\n",
              "    </tr>\n",
              "    <tr>\n",
              "      <th>relation</th>\n",
              "      <td>14716570</td>\n",
              "      <td>0.6751613317505369</td>\n",
              "      <td>1.7931584630948387</td>\n",
              "      <td>0</td>\n",
              "      <td>8</td>\n",
              "    </tr>\n",
              "    <tr>\n",
              "      <th>universities</th>\n",
              "      <td>14716570</td>\n",
              "      <td>0.07213127787249339</td>\n",
              "      <td>0.258705162632675</td>\n",
              "      <td>0</td>\n",
              "      <td>1</td>\n",
              "    </tr>\n",
              "    <tr>\n",
              "      <th>schools</th>\n",
              "      <td>14716570</td>\n",
              "      <td>0.1438295064678794</td>\n",
              "      <td>0.3509167820220349</td>\n",
              "      <td>0</td>\n",
              "      <td>1</td>\n",
              "    </tr>\n",
              "    <tr>\n",
              "      <th>relatives</th>\n",
              "      <td>14716570</td>\n",
              "      <td>0.08128680799941834</td>\n",
              "      <td>0.27327507738391793</td>\n",
              "      <td>0</td>\n",
              "      <td>1</td>\n",
              "    </tr>\n",
              "    <tr>\n",
              "      <th>skype</th>\n",
              "      <td>14716570</td>\n",
              "      <td>0.051725164219651724</td>\n",
              "      <td>0.22147161203878493</td>\n",
              "      <td>0</td>\n",
              "      <td>1</td>\n",
              "    </tr>\n",
              "    <tr>\n",
              "      <th>relation_partner</th>\n",
              "      <td>14716570</td>\n",
              "      <td>0.019386310804759534</td>\n",
              "      <td>0.13787850829594456</td>\n",
              "      <td>0</td>\n",
              "      <td>1</td>\n",
              "    </tr>\n",
              "    <tr>\n",
              "      <th>twitter</th>\n",
              "      <td>14716570</td>\n",
              "      <td>0.008393192163663136</td>\n",
              "      <td>0.09122909105380124</td>\n",
              "      <td>0</td>\n",
              "      <td>1</td>\n",
              "    </tr>\n",
              "    <tr>\n",
              "      <th>instagram</th>\n",
              "      <td>14716570</td>\n",
              "      <td>0.03960929754691481</td>\n",
              "      <td>0.1950394926152739</td>\n",
              "      <td>0</td>\n",
              "      <td>1</td>\n",
              "    </tr>\n",
              "    <tr>\n",
              "      <th>education_form</th>\n",
              "      <td>14716570</td>\n",
              "      <td>0.022520600928069515</td>\n",
              "      <td>0.14836921836329034</td>\n",
              "      <td>0</td>\n",
              "      <td>1</td>\n",
              "    </tr>\n",
              "    <tr>\n",
              "      <th>education_status</th>\n",
              "      <td>14716570</td>\n",
              "      <td>0.02007172867047145</td>\n",
              "      <td>0.14024569767077122</td>\n",
              "      <td>0</td>\n",
              "      <td>1</td>\n",
              "    </tr>\n",
              "    <tr>\n",
              "      <th>facebook</th>\n",
              "      <td>14716570</td>\n",
              "      <td>0.010818621458668697</td>\n",
              "      <td>0.10344843940621634</td>\n",
              "      <td>0</td>\n",
              "      <td>1</td>\n",
              "    </tr>\n",
              "    <tr>\n",
              "      <th>facebook_name</th>\n",
              "      <td>14716570</td>\n",
              "      <td>0.010814476471079878</td>\n",
              "      <td>0.10342883687173406</td>\n",
              "      <td>0</td>\n",
              "      <td>1</td>\n",
              "    </tr>\n",
              "    <tr>\n",
              "      <th>status_audio</th>\n",
              "      <td>14716570</td>\n",
              "      <td>9.559972194607847E-4</td>\n",
              "      <td>0.03090442288210016</td>\n",
              "      <td>0</td>\n",
              "      <td>1</td>\n",
              "    </tr>\n",
              "    <tr>\n",
              "      <th>livejournal</th>\n",
              "      <td>14716570</td>\n",
              "      <td>1.4609382485185067E-4</td>\n",
              "      <td>0.012086045315648358</td>\n",
              "      <td>0</td>\n",
              "      <td>1</td>\n",
              "    </tr>\n",
              "    <tr>\n",
              "      <th>category</th>\n",
              "      <td>14716570</td>\n",
              "      <td>1.5798700376514365</td>\n",
              "      <td>0.9602202561011899</td>\n",
              "      <td>0</td>\n",
              "      <td>3</td>\n",
              "    </tr>\n",
              "    <tr>\n",
              "      <th>age</th>\n",
              "      <td>14716570</td>\n",
              "      <td>26.845772643200846</td>\n",
              "      <td>11.256515673232526</td>\n",
              "      <td>13.0</td>\n",
              "      <td>119.0</td>\n",
              "    </tr>\n",
              "    <tr>\n",
              "      <th>is_status</th>\n",
              "      <td>14716570</td>\n",
              "      <td>0.38018451310325707</td>\n",
              "      <td>0.4854320396429035</td>\n",
              "      <td>0</td>\n",
              "      <td>1</td>\n",
              "    </tr>\n",
              "    <tr>\n",
              "      <th>alcohol</th>\n",
              "      <td>14716570</td>\n",
              "      <td>0.11696652141089942</td>\n",
              "      <td>0.616122527259625</td>\n",
              "      <td>0</td>\n",
              "      <td>5</td>\n",
              "    </tr>\n",
              "    <tr>\n",
              "      <th>smoking</th>\n",
              "      <td>14716570</td>\n",
              "      <td>0.18047982648130645</td>\n",
              "      <td>0.7579512716010133</td>\n",
              "      <td>0</td>\n",
              "      <td>5</td>\n",
              "    </tr>\n",
              "  </tbody>\n",
              "</table>\n",
              "</div>"
            ],
            "text/plain": [
              "                                  0                      1  ...     3          4\n",
              "summary                       count                   mean  ...   min        max\n",
              "sex                        14716570     1.5709556642614413  ...     0          2\n",
              "has_photo                  14716570     0.8559231532891156  ...     0          1\n",
              "has_mobile                 14716570                    1.0  ...     1          1\n",
              "can_post                   14716570    0.05410995904616361  ...     0          1\n",
              "can_see_all_posts          14716570                    1.0  ...     1          1\n",
              "can_see_audio              14716570                    1.0  ...     1          1\n",
              "interests                  14716570    0.03253828847346902  ...     0          1\n",
              "books                      14716570    0.02529699515580057  ...     0          1\n",
              "quotes                     14716570    0.02470888257250161  ...     0          1\n",
              "about                      14716570    0.03065388198472878  ...     0          1\n",
              "movies                     14716570    0.03167205401802186  ...     0          1\n",
              "music                      14716570    0.03734035852104125  ...     0          1\n",
              "can_write_private_message  14716570     0.7059100727954951  ...     0          1\n",
              "can_send_friend_request    14716570                    1.0  ...     1          1\n",
              "can_be_invited_group       14716570    0.07804230197661548  ...     0          1\n",
              "followers_count            14716570     165.12265063797292  ...   0.0  1188723.0\n",
              "occupation                 14716570     2.4048482764665953  ...     0          3\n",
              "relation                   14716570     0.6751613317505369  ...     0          8\n",
              "universities               14716570    0.07213127787249339  ...     0          1\n",
              "schools                    14716570     0.1438295064678794  ...     0          1\n",
              "relatives                  14716570    0.08128680799941834  ...     0          1\n",
              "skype                      14716570   0.051725164219651724  ...     0          1\n",
              "relation_partner           14716570   0.019386310804759534  ...     0          1\n",
              "twitter                    14716570   0.008393192163663136  ...     0          1\n",
              "instagram                  14716570    0.03960929754691481  ...     0          1\n",
              "education_form             14716570   0.022520600928069515  ...     0          1\n",
              "education_status           14716570    0.02007172867047145  ...     0          1\n",
              "facebook                   14716570   0.010818621458668697  ...     0          1\n",
              "facebook_name              14716570   0.010814476471079878  ...     0          1\n",
              "status_audio               14716570   9.559972194607847E-4  ...     0          1\n",
              "livejournal                14716570  1.4609382485185067E-4  ...     0          1\n",
              "category                   14716570     1.5798700376514365  ...     0          3\n",
              "age                        14716570     26.845772643200846  ...  13.0      119.0\n",
              "is_status                  14716570    0.38018451310325707  ...     0          1\n",
              "alcohol                    14716570    0.11696652141089942  ...     0          5\n",
              "smoking                    14716570    0.18047982648130645  ...     0          5\n",
              "\n",
              "[37 rows x 5 columns]"
            ]
          },
          "metadata": {},
          "execution_count": 52
        }
      ],
      "source": [
        "final_db_2.describe().toPandas().transpose()"
      ]
    },
    {
      "cell_type": "code",
      "execution_count": null,
      "metadata": {
        "colab": {
          "base_uri": "https://localhost:8080/"
        },
        "id": "ohFLhusWrTn0",
        "outputId": "b17f0726-8a96-4e6b-d3b5-b04dac4812a3"
      },
      "outputs": [
        {
          "output_type": "stream",
          "name": "stdout",
          "text": [
            "+--------+-------+\n",
            "|category|  count|\n",
            "+--------+-------+\n",
            "|       2|6268439|\n",
            "|       1|3456255|\n",
            "|       0|2572831|\n",
            "|       3|2419045|\n",
            "+--------+-------+\n",
            "\n"
          ]
        }
      ],
      "source": [
        "from pyspark.sql.functions import col\n",
        "\n",
        "final_db_2.groupBy(\"category\") \\\n",
        "    .count() \\\n",
        "    .orderBy(col(\"count\").desc()) \\\n",
        "    .show()"
      ]
    },
    {
      "cell_type": "code",
      "execution_count": null,
      "metadata": {
        "id": "zcg1L2o0uwJv"
      },
      "outputs": [],
      "source": [
        "from pyspark.ml.feature import VectorAssembler"
      ]
    },
    {
      "cell_type": "code",
      "source": [
        "input_cols = parameters_order"
      ],
      "metadata": {
        "id": "b0THWV65lqe8"
      },
      "execution_count": null,
      "outputs": []
    },
    {
      "cell_type": "code",
      "source": [
        "input_cols.remove('')\n",
        "input_cols.remove('status')\n",
        "input_cols.remove('category')"
      ],
      "metadata": {
        "id": "W86eB3TDl2Bl"
      },
      "execution_count": null,
      "outputs": []
    },
    {
      "cell_type": "code",
      "source": [
        "len(input_cols)"
      ],
      "metadata": {
        "colab": {
          "base_uri": "https://localhost:8080/"
        },
        "id": "wLv07WYfma9c",
        "outputId": "2a25c9ad-7caf-47bf-932e-624abeed977b"
      },
      "execution_count": null,
      "outputs": [
        {
          "output_type": "execute_result",
          "data": {
            "text/plain": [
              "35"
            ]
          },
          "metadata": {},
          "execution_count": 72
        }
      ]
    },
    {
      "cell_type": "code",
      "source": [
        "print(input_cols)"
      ],
      "metadata": {
        "colab": {
          "base_uri": "https://localhost:8080/"
        },
        "id": "nGCPsMhmlvP-",
        "outputId": "cec3af6e-a594-4800-f916-8080fe1a2a74"
      },
      "execution_count": null,
      "outputs": [
        {
          "output_type": "stream",
          "name": "stdout",
          "text": [
            "['sex', 'has_photo', 'has_mobile', 'can_post', 'can_see_all_posts', 'can_see_audio', 'interests', 'books', 'quotes', 'about', 'movies', 'music', 'can_write_private_message', 'can_send_friend_request', 'can_be_invited_group', 'followers_count', 'occupation', 'relation', 'universities', 'schools', 'relatives', 'skype', 'relation_partner', 'twitter', 'instagram', 'education_form', 'education_status', 'facebook', 'facebook_name', 'status_audio', 'livejournal', 'age', 'is_status', 'alcohol', 'smoking']\n"
          ]
        }
      ]
    },
    {
      "cell_type": "code",
      "execution_count": null,
      "metadata": {
        "id": "gC7X0OgGu3u7"
      },
      "outputs": [],
      "source": [
        "vectorAssembler = VectorAssembler(inputCols = input_cols, outputCol = 'features')"
      ]
    },
    {
      "cell_type": "code",
      "execution_count": null,
      "metadata": {
        "colab": {
          "base_uri": "https://localhost:8080/"
        },
        "id": "zs46em_VvEqP",
        "outputId": "cf022441-7f6b-400d-d0cf-0d037e8dd4f1"
      },
      "outputs": [
        {
          "output_type": "stream",
          "name": "stdout",
          "text": [
            "+--------------------+--------+\n",
            "|            features|category|\n",
            "+--------------------+--------+\n",
            "|(35,[0,1,2,4,5,12...|       3|\n",
            "|(35,[0,1,2,4,5,13...|       3|\n",
            "|(35,[0,1,2,4,5,13...|       3|\n",
            "+--------------------+--------+\n",
            "only showing top 3 rows\n",
            "\n"
          ]
        }
      ],
      "source": [
        "final_db_2_ml = vectorAssembler.transform(final_db_2)\n",
        "final_db_2_ml = final_db_2_ml.select(['features', 'category'])\n",
        "final_db_2_ml.show(3)"
      ]
    },
    {
      "cell_type": "code",
      "execution_count": null,
      "metadata": {
        "id": "MvFIbBverhQj"
      },
      "outputs": [],
      "source": [
        "(trainingData, testData) = final_db_2_ml.randomSplit([0.7, 0.3], seed = 100)"
      ]
    },
    {
      "cell_type": "markdown",
      "metadata": {
        "id": "5dA07YQVtya_"
      },
      "source": [
        "### Random Forest"
      ]
    },
    {
      "cell_type": "code",
      "execution_count": null,
      "metadata": {
        "id": "N5XEtx7orhGD"
      },
      "outputs": [],
      "source": [
        "from pyspark.ml.classification import RandomForestClassifier"
      ]
    },
    {
      "cell_type": "code",
      "execution_count": null,
      "metadata": {
        "id": "HpP_OMovt423"
      },
      "outputs": [],
      "source": [
        "rf = RandomForestClassifier(labelCol=\"category\", \\\n",
        "                            featuresCol=\"features\", \\\n",
        "                            numTrees = 5, \\\n",
        "                            maxDepth = 4, \\\n",
        "                            maxBins = 32)"
      ]
    },
    {
      "cell_type": "code",
      "execution_count": null,
      "metadata": {
        "id": "pETA5PgiuTAG"
      },
      "outputs": [],
      "source": [
        "# 16 mins\n",
        "rfModel = rf.fit(trainingData)"
      ]
    },
    {
      "cell_type": "code",
      "execution_count": null,
      "metadata": {
        "id": "Kfh2_szWuS3Y"
      },
      "outputs": [],
      "source": [
        "predictions = rfModel.transform(testData)"
      ]
    },
    {
      "cell_type": "code",
      "execution_count": null,
      "metadata": {
        "colab": {
          "base_uri": "https://localhost:8080/"
        },
        "id": "HSGV7JVFzlrG",
        "outputId": "c5e775fd-31fb-4d7c-efeb-7b32c169b329"
      },
      "outputs": [
        {
          "output_type": "stream",
          "name": "stdout",
          "text": [
            "+--------------------+--------+--------------------+--------------------+----------+\n",
            "|            features|category|       rawPrediction|         probability|prediction|\n",
            "+--------------------+--------+--------------------+--------------------+----------+\n",
            "|(35,[0,1,2,3,4,5,...|       3|[1.52384814779814...|[0.30476962955962...|       1.0|\n",
            "|(35,[0,1,2,3,4,5,...|       3|[1.03337021448777...|[0.20667404289755...|       2.0|\n",
            "|(35,[0,1,2,3,4,5,...|       3|[1.48852634567114...|[0.29770526913422...|       1.0|\n",
            "|(35,[0,1,2,3,4,5,...|       3|[1.48852634567114...|[0.29770526913422...|       1.0|\n",
            "|(35,[0,1,2,3,4,5,...|       3|[0.65021891783019...|[0.13004378356603...|       2.0|\n",
            "+--------------------+--------+--------------------+--------------------+----------+\n",
            "only showing top 5 rows\n",
            "\n"
          ]
        }
      ],
      "source": [
        "predictions.show(5)"
      ]
    },
    {
      "cell_type": "code",
      "execution_count": null,
      "metadata": {
        "id": "gCXIoA4Rz6DY"
      },
      "outputs": [],
      "source": [
        "from pyspark.ml.evaluation import MulticlassClassificationEvaluator"
      ]
    },
    {
      "cell_type": "code",
      "execution_count": null,
      "metadata": {
        "colab": {
          "base_uri": "https://localhost:8080/"
        },
        "id": "aHkcrv_oxbCP",
        "outputId": "53eb36ea-cb88-4b69-ca23-69274bea7fcd"
      },
      "outputs": [
        {
          "output_type": "execute_result",
          "data": {
            "text/plain": [
              "0.4390177067863721"
            ]
          },
          "metadata": {},
          "execution_count": 80
        }
      ],
      "source": [
        "evaluator = MulticlassClassificationEvaluator(predictionCol='prediction', labelCol='category')\n",
        "evaluator.evaluate(predictions)"
      ]
    },
    {
      "cell_type": "code",
      "source": [
        "rf_new = RandomForestClassifier(labelCol=\"category\", \\\n",
        "                            featuresCol=\"features\", \\\n",
        "                            numTrees = 10, \\\n",
        "                            maxDepth = 10, \\\n",
        "                            maxBins = 32)"
      ],
      "metadata": {
        "id": "TYTQIHzA0WwF"
      },
      "execution_count": null,
      "outputs": []
    },
    {
      "cell_type": "code",
      "source": [
        "rf_newModel = rf_new.fit(trainingData)"
      ],
      "metadata": {
        "id": "OnRXlpVb0WmU"
      },
      "execution_count": null,
      "outputs": []
    },
    {
      "cell_type": "code",
      "source": [
        "predictions = rf_newModel.transform(testData)"
      ],
      "metadata": {
        "id": "r-GIL0x70gMU"
      },
      "execution_count": null,
      "outputs": []
    },
    {
      "cell_type": "code",
      "source": [
        "predictions.show(5)"
      ],
      "metadata": {
        "colab": {
          "base_uri": "https://localhost:8080/"
        },
        "id": "pFwVOrSo0ixy",
        "outputId": "196cdda7-1b23-4085-a3dc-39852960a0ce"
      },
      "execution_count": null,
      "outputs": [
        {
          "output_type": "stream",
          "name": "stdout",
          "text": [
            "+--------------------+--------+--------------------+--------------------+----------+\n",
            "|            features|category|       rawPrediction|         probability|prediction|\n",
            "+--------------------+--------+--------------------+--------------------+----------+\n",
            "|(35,[0,1,2,3,4,5,...|       3|[2.10852169725229...|[0.21085216972522...|       1.0|\n",
            "|(35,[0,1,2,3,4,5,...|       3|[1.40573904620867...|[0.14057390462086...|       3.0|\n",
            "|(35,[0,1,2,3,4,5,...|       3|[2.97304927526027...|[0.29730492752602...|       3.0|\n",
            "|(35,[0,1,2,3,4,5,...|       3|[2.16107299429698...|[0.21610729942969...|       3.0|\n",
            "|(35,[0,1,2,3,4,5,...|       3|[1.82124535129724...|[0.18212453512972...|       3.0|\n",
            "+--------------------+--------+--------------------+--------------------+----------+\n",
            "only showing top 5 rows\n",
            "\n"
          ]
        }
      ]
    },
    {
      "cell_type": "code",
      "source": [
        "evaluator = MulticlassClassificationEvaluator(predictionCol='prediction', labelCol='category')\n",
        "evaluator.evaluate(predictions)"
      ],
      "metadata": {
        "colab": {
          "base_uri": "https://localhost:8080/"
        },
        "id": "KXOoDJnO0nPv",
        "outputId": "8348c782-ad41-4493-8001-92d2b8db96e8"
      },
      "execution_count": null,
      "outputs": [
        {
          "output_type": "execute_result",
          "data": {
            "text/plain": [
              "0.6358686093020731"
            ]
          },
          "metadata": {},
          "execution_count": 95
        }
      ]
    },
    {
      "cell_type": "code",
      "source": [
        "y_true = predictions.select(['category']).collect()\n",
        "y_pred = predictions.select(['prediction']).collect()"
      ],
      "metadata": {
        "id": "LFAPLPj89pR-"
      },
      "execution_count": null,
      "outputs": []
    },
    {
      "cell_type": "code",
      "source": [
        "from sklearn.metrics import classification_report, confusion_matrix\n",
        "print(classification_report(y_true, y_pred))"
      ],
      "metadata": {
        "colab": {
          "base_uri": "https://localhost:8080/"
        },
        "id": "u4TRmDV49e9d",
        "outputId": "39f04099-c250-4d68-de1f-6ef8133dd72e"
      },
      "execution_count": null,
      "outputs": [
        {
          "output_type": "stream",
          "name": "stdout",
          "text": [
            "              precision    recall  f1-score   support\n",
            "\n",
            "           0       0.64      0.34      0.45    770974\n",
            "           1       0.56      0.62      0.59   1037335\n",
            "           2       0.70      0.91      0.79   1878738\n",
            "           3       0.70      0.39      0.50    726155\n",
            "\n",
            "    accuracy                           0.66   4413202\n",
            "   macro avg       0.65      0.57      0.58   4413202\n",
            "weighted avg       0.66      0.66      0.64   4413202\n",
            "\n"
          ]
        }
      ]
    },
    {
      "cell_type": "markdown",
      "metadata": {
        "id": "vKKS2SIl0ffX"
      },
      "source": [
        "### Logistic regression"
      ]
    },
    {
      "cell_type": "code",
      "execution_count": null,
      "metadata": {
        "id": "eRo_4G4U1GcL"
      },
      "outputs": [],
      "source": [
        "from pyspark.ml.classification import LogisticRegression"
      ]
    },
    {
      "cell_type": "code",
      "execution_count": null,
      "metadata": {
        "id": "3oMKIcYL1AkY"
      },
      "outputs": [],
      "source": [
        "lr = LogisticRegression(maxIter=5, regParam=0.3, elasticNetParam=0, labelCol=\"category\")"
      ]
    },
    {
      "cell_type": "code",
      "execution_count": null,
      "metadata": {
        "id": "HYhByPC11NRc"
      },
      "outputs": [],
      "source": [
        "lrModel = lr.fit(trainingData)"
      ]
    },
    {
      "cell_type": "code",
      "execution_count": null,
      "metadata": {
        "id": "o7VNW6vO1d-u"
      },
      "outputs": [],
      "source": [
        "predictions = lrModel.transform(testData)"
      ]
    },
    {
      "cell_type": "code",
      "execution_count": null,
      "metadata": {
        "colab": {
          "base_uri": "https://localhost:8080/"
        },
        "id": "9iXpITBe1ihY",
        "outputId": "f80304ac-9b33-4132-a33e-259d529ca10a"
      },
      "outputs": [
        {
          "output_type": "execute_result",
          "data": {
            "text/plain": [
              "0.3079946332420125"
            ]
          },
          "metadata": {},
          "execution_count": 85
        }
      ],
      "source": [
        "evaluator = MulticlassClassificationEvaluator(predictionCol='prediction', labelCol='category')\n",
        "evaluator.evaluate(predictions)"
      ]
    },
    {
      "cell_type": "markdown",
      "metadata": {
        "id": "j4shom5z0vL_"
      },
      "source": [
        "### Naive Bayes"
      ]
    },
    {
      "cell_type": "code",
      "execution_count": null,
      "metadata": {
        "id": "aehxqv2j2Ylk"
      },
      "outputs": [],
      "source": [
        "from pyspark.ml.classification import NaiveBayes"
      ]
    },
    {
      "cell_type": "code",
      "execution_count": null,
      "metadata": {
        "id": "Jdk5GUWC2YYV"
      },
      "outputs": [],
      "source": [
        "nb = NaiveBayes(smoothing=1, labelCol=\"category\")"
      ]
    },
    {
      "cell_type": "code",
      "execution_count": null,
      "metadata": {
        "id": "o8pCVbA62amV"
      },
      "outputs": [],
      "source": [
        "model_nb = nb.fit(trainingData)"
      ]
    },
    {
      "cell_type": "code",
      "execution_count": null,
      "metadata": {
        "id": "8uxdKqRM2abd"
      },
      "outputs": [],
      "source": [
        "predictions = model_nb.transform(testData)"
      ]
    },
    {
      "cell_type": "code",
      "execution_count": null,
      "metadata": {
        "colab": {
          "base_uri": "https://localhost:8080/"
        },
        "id": "rmdHvidd2mX3",
        "outputId": "ab9f192d-c40c-4bf5-a9cd-d903b8039de4"
      },
      "outputs": [
        {
          "output_type": "execute_result",
          "data": {
            "text/plain": [
              "0.3915674608033743"
            ]
          },
          "metadata": {},
          "execution_count": 90
        }
      ],
      "source": [
        "evaluator = MulticlassClassificationEvaluator(predictionCol='prediction', labelCol='category')\n",
        "evaluator.evaluate(predictions)"
      ]
    }
  ],
  "metadata": {
    "colab": {
      "name": "Classifiers_building.ipynb",
      "provenance": [],
      "collapsed_sections": [
        "r4OkrevT2nq7"
      ]
    },
    "kernelspec": {
      "display_name": "Python 3",
      "language": "python",
      "name": "python3"
    },
    "language_info": {
      "codemirror_mode": {
        "name": "ipython",
        "version": 3
      },
      "file_extension": ".py",
      "mimetype": "text/x-python",
      "name": "python",
      "nbconvert_exporter": "python",
      "pygments_lexer": "ipython3",
      "version": "3.8.8"
    }
  },
  "nbformat": 4,
  "nbformat_minor": 0
}