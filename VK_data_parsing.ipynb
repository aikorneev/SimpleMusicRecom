{
 "cells": [
  {
   "cell_type": "code",
   "execution_count": 10,
   "metadata": {},
   "outputs": [],
   "source": [
    "token = '---'"
   ]
  },
  {
   "cell_type": "code",
   "execution_count": 3,
   "metadata": {},
   "outputs": [],
   "source": [
    "import requests\n",
    "import pandas as pd\n",
    "import re\n",
    "import numpy as np\n",
    "import time\n",
    "import math"
   ]
  },
  {
   "cell_type": "code",
   "execution_count": 31,
   "metadata": {},
   "outputs": [],
   "source": [
    "#url = 'https://oauth.vk.com/authorize?client_id=5440699&display=page&redirect_uri=vk.com/callback&response_type=token&v=5.80'\n",
    "#responde = requests.get(url)"
   ]
  },
  {
   "cell_type": "code",
   "execution_count": 32,
   "metadata": {},
   "outputs": [],
   "source": [
    "#responde.content"
   ]
  },
  {
   "cell_type": "markdown",
   "metadata": {},
   "source": [
    "# Download list of ids"
   ]
  },
  {
   "cell_type": "code",
   "execution_count": 204,
   "metadata": {},
   "outputs": [],
   "source": [
    "# groups list\n",
    "groups_pop = ['https://vk.com/nataliaoreiro' ,'https://vk.com/shakira', \n",
    "       'https://vk.com/enrique', 'https://vk.com/inna_ro', 'https://vk.com/krosskarina']\n",
    "\n",
    "groups_rock = ['https://vk.com/linkinpark', 'https://vk.com/nervyofficial',\n",
    " 'https://vk.com/korol_i_shut_ru', 'https://vk.com/nirvanamusic', 'https://vk.com/idragons']\n",
    "\n",
    "groups_rap = ['https://vk.com/maxkorzh', 'https://vk.com/sayonaraboy',\n",
    " 'https://vk.com/scriptonite', 'https://vk.com/hauntedfamily', 'https://vk.com/egorkreed']\n",
    "\n",
    "groups_electro = ['https://vk.com/martingarrix', 'https://vk.com/arminvanbuuren',\n",
    " 'https://vk.com/tiesto', 'https://vk.com/hardwell', 'https://vk.com/davidguetta']"
   ]
  },
  {
   "cell_type": "code",
   "execution_count": 205,
   "metadata": {},
   "outputs": [
    {
     "data": {
      "text/plain": [
       "(['nataliaoreiro', 'shakira', 'enrique', 'inna_ro', 'krosskarina'],\n",
       " ['linkinpark',\n",
       "  'nervyofficial',\n",
       "  'korol_i_shut_ru',\n",
       "  'nirvanamusic',\n",
       "  'idragons'],\n",
       " ['maxkorzh', 'sayonaraboy', 'scriptonite', 'hauntedfamily', 'egorkreed'],\n",
       " ['martingarrix', 'arminvanbuuren', 'tiesto', 'hardwell', 'davidguetta'])"
      ]
     },
     "execution_count": 205,
     "metadata": {},
     "output_type": "execute_result"
    }
   ],
   "source": [
    "groups_pop = [x.replace('https://vk.com/', '') for x in groups_pop]\n",
    "groups_rock = [x.replace('https://vk.com/', '') for x in groups_rock]\n",
    "groups_rap = [x.replace('https://vk.com/', '') for x in groups_rap]\n",
    "groups_electro = [x.replace('https://vk.com/', '') for x in groups_electro]\n",
    "groups_pop, groups_rock, groups_rap, groups_electro"
   ]
  },
  {
   "cell_type": "markdown",
   "metadata": {},
   "source": [
    "# testing pipeline with groups_pop[0]"
   ]
  },
  {
   "cell_type": "code",
   "execution_count": 50,
   "metadata": {},
   "outputs": [
    {
     "name": "stdout",
     "output_type": "stream",
     "text": [
      "100000 for nataliaoreiro\n",
      "200000 for nataliaoreiro\n",
      "300000 for nataliaoreiro\n",
      "400000 for nataliaoreiro\n",
      "500000 for nataliaoreiro\n",
      "600000 for nataliaoreiro\n",
      "700000 for nataliaoreiro\n",
      "800000 for nataliaoreiro\n",
      "900000 for nataliaoreiro\n",
      "1000000 for nataliaoreiro\n",
      "1100000 for nataliaoreiro\n",
      "1200000 for nataliaoreiro\n",
      "1300000 for nataliaoreiro\n",
      "1400000 for nataliaoreiro\n",
      "1500000 for nataliaoreiro\n"
     ]
    }
   ],
   "source": [
    "url = 'https://api.vk.com/method/groups.getMembers?group_id={}&offset={}&access_token={}&v=5.81'\n",
    "\n",
    "new_items = 1\n",
    "offset = 0\n",
    "ids = set()\n",
    "\n",
    "while new_items:\n",
    "    #print(url.format('asbspb', offset, token))\n",
    "    items_list = requests.get(url.format(groups_pop[0], offset, token)).json()['response']['items']\n",
    "    if items_list:\n",
    "        #print(items_list, type(items_list))\n",
    "        ids = ids | set(items_list)\n",
    "        offset += 1000\n",
    "    else:\n",
    "        new_items = 0\n",
    "    if offset%3000 == 0:\n",
    "        time.sleep(1)\n",
    "    if offset%100000 == 0:\n",
    "        print(offset, 'for', groups_pop[0])"
   ]
  },
  {
   "cell_type": "code",
   "execution_count": 53,
   "metadata": {},
   "outputs": [
    {
     "data": {
      "text/plain": [
       "1532923"
      ]
     },
     "execution_count": 53,
     "metadata": {},
     "output_type": "execute_result"
    }
   ],
   "source": [
    "dict_ids = dict()\n",
    "len(ids)"
   ]
  },
  {
   "cell_type": "code",
   "execution_count": 67,
   "metadata": {},
   "outputs": [],
   "source": [
    "dict_ids[groups_pop[0]] = list(ids)"
   ]
  },
  {
   "cell_type": "code",
   "execution_count": 5,
   "metadata": {},
   "outputs": [],
   "source": [
    "import json"
   ]
  },
  {
   "cell_type": "code",
   "execution_count": 69,
   "metadata": {},
   "outputs": [],
   "source": [
    "a_file = open(\"data.json\", \"w\")\n",
    "json.dump(dict_ids, a_file)\n",
    "a_file.close()"
   ]
  },
  {
   "cell_type": "markdown",
   "metadata": {},
   "source": [
    "donwloading the rest of ids"
   ]
  },
  {
   "cell_type": "code",
   "execution_count": 73,
   "metadata": {},
   "outputs": [
    {
     "name": "stdout",
     "output_type": "stream",
     "text": [
      "100000 for shakira\n",
      "200000 for shakira\n",
      "300000 for shakira\n",
      "400000 for shakira\n",
      "500000 for shakira\n",
      "600000 for shakira\n",
      "700000 for shakira\n",
      "800000 for shakira\n",
      "900000 for shakira\n",
      "1000000 for shakira\n",
      "100000 for enrique\n",
      "200000 for enrique\n",
      "300000 for enrique\n",
      "400000 for enrique\n",
      "500000 for enrique\n",
      "600000 for enrique\n",
      "700000 for enrique\n",
      "100000 for inna_ro\n",
      "200000 for inna_ro\n",
      "300000 for inna_ro\n",
      "400000 for inna_ro\n",
      "500000 for inna_ro\n",
      "100000 for krosskarina\n",
      "200000 for krosskarina\n",
      "300000 for krosskarina\n",
      "400000 for krosskarina\n"
     ]
    }
   ],
   "source": [
    "url = 'https://api.vk.com/method/groups.getMembers?group_id={}&offset={}&access_token={}&v=5.81'\n",
    "\n",
    "for group_pop in groups_pop[1:]:\n",
    "    new_items = 1\n",
    "    offset = 0\n",
    "    ids = set()\n",
    "\n",
    "    while new_items:\n",
    "        #print(url.format('asbspb', offset, token))\n",
    "        items_list = requests.get(url.format(group_pop, offset, token)).json()['response']['items']\n",
    "        if items_list:\n",
    "            #print(items_list, type(items_list))\n",
    "            ids = ids | set(items_list)\n",
    "            offset += 1000\n",
    "        else:\n",
    "            new_items = 0\n",
    "        if offset%3000 == 0:\n",
    "            time.sleep(1)\n",
    "        if offset%100000 == 0:\n",
    "            print(offset, 'for', group_pop)\n",
    "    \n",
    "    dict_ids[group_pop] = list(ids)\n",
    "\n",
    "a_file = open(\"data_pop.json\", \"w\")\n",
    "json.dump(dict_ids, a_file)\n",
    "a_file.close()"
   ]
  },
  {
   "cell_type": "code",
   "execution_count": 88,
   "metadata": {},
   "outputs": [
    {
     "data": {
      "text/plain": [
       "['idragons']"
      ]
     },
     "execution_count": 88,
     "metadata": {},
     "output_type": "execute_result"
    }
   ],
   "source": [
    "groups_rock[4:]"
   ]
  },
  {
   "cell_type": "code",
   "execution_count": 89,
   "metadata": {},
   "outputs": [
    {
     "name": "stdout",
     "output_type": "stream",
     "text": [
      "100000 for idragons\n",
      "200000 for idragons\n"
     ]
    }
   ],
   "source": [
    "url = 'https://api.vk.com/method/groups.getMembers?group_id={}&offset={}&access_token={}&v=5.81'\n",
    "\n",
    "for group in groups_rock:\n",
    "    new_items = 1\n",
    "    offset = 0\n",
    "    ids = set()\n",
    "\n",
    "    while new_items:\n",
    "        #print(url.format('asbspb', offset, token))\n",
    "        items_list = requests.get(url.format(group, offset, token)).json()['response']['items']\n",
    "        if items_list:\n",
    "            #print(items_list, type(items_list))\n",
    "            ids = ids | set(items_list)\n",
    "            offset += 1000\n",
    "        else:\n",
    "            new_items = 0\n",
    "        if offset%3000 == 0:\n",
    "            time.sleep(1)\n",
    "        if offset%100000 == 0:\n",
    "            print(offset, 'for', group)\n",
    "    \n",
    "    dict_ids[group] = list(ids)\n",
    "\n",
    "a_file = open(\"data_rock.json\", \"w\")\n",
    "json.dump(dict_ids, a_file)\n",
    "a_file.close()"
   ]
  },
  {
   "cell_type": "code",
   "execution_count": 117,
   "metadata": {},
   "outputs": [
    {
     "data": {
      "text/plain": [
       "dict_keys([])"
      ]
     },
     "execution_count": 117,
     "metadata": {},
     "output_type": "execute_result"
    }
   ],
   "source": [
    "dict_ids.keys()"
   ]
  },
  {
   "cell_type": "code",
   "execution_count": 118,
   "metadata": {},
   "outputs": [
    {
     "data": {
      "text/plain": [
       "['sayonaraboy', 'scriptonite', 'hauntedfamily', 'egorkreed']"
      ]
     },
     "execution_count": 118,
     "metadata": {},
     "output_type": "execute_result"
    }
   ],
   "source": [
    "groups_rap[1:]"
   ]
  },
  {
   "cell_type": "code",
   "execution_count": 119,
   "metadata": {},
   "outputs": [
    {
     "name": "stdout",
     "output_type": "stream",
     "text": [
      "Exception {'error': {'error_code': 29, 'error_msg': 'Rate limit reached', 'request_params': [{'key': 'group_id', 'value': 'maxkorzh'}, {'key': 'offset', 'value': '0'}, {'key': 'v', 'value': '5.81'}, {'key': 'method', 'value': 'groups.getMembers'}, {'key': 'oauth', 'value': '1'}]}}\n"
     ]
    },
    {
     "ename": "ValueError",
     "evalue": "",
     "output_type": "error",
     "traceback": [
      "\u001b[1;31m---------------------------------------------------------------------------\u001b[0m",
      "\u001b[1;31mKeyError\u001b[0m                                  Traceback (most recent call last)",
      "\u001b[1;32m<ipython-input-119-23bd7b625711>\u001b[0m in \u001b[0;36m<module>\u001b[1;34m\u001b[0m\n\u001b[0;32m     12\u001b[0m             \u001b[0mitems_list\u001b[0m \u001b[1;33m=\u001b[0m \u001b[0mrequests\u001b[0m\u001b[1;33m.\u001b[0m\u001b[0mget\u001b[0m\u001b[1;33m(\u001b[0m\u001b[0murl\u001b[0m\u001b[1;33m.\u001b[0m\u001b[0mformat\u001b[0m\u001b[1;33m(\u001b[0m\u001b[0mgroup\u001b[0m\u001b[1;33m,\u001b[0m \u001b[0moffset\u001b[0m\u001b[1;33m,\u001b[0m \u001b[0mtoken\u001b[0m\u001b[1;33m)\u001b[0m\u001b[1;33m)\u001b[0m\u001b[1;33m.\u001b[0m\u001b[0mjson\u001b[0m\u001b[1;33m(\u001b[0m\u001b[1;33m)\u001b[0m\u001b[1;33m\u001b[0m\u001b[1;33m\u001b[0m\u001b[0m\n\u001b[1;32m---> 13\u001b[1;33m             \u001b[0mitems_list\u001b[0m \u001b[1;33m=\u001b[0m \u001b[0mitems_list\u001b[0m\u001b[1;33m[\u001b[0m\u001b[1;34m'response'\u001b[0m\u001b[1;33m]\u001b[0m\u001b[1;33m[\u001b[0m\u001b[1;34m'items'\u001b[0m\u001b[1;33m]\u001b[0m\u001b[1;33m\u001b[0m\u001b[1;33m\u001b[0m\u001b[0m\n\u001b[0m\u001b[0;32m     14\u001b[0m         \u001b[1;32mexcept\u001b[0m\u001b[1;33m:\u001b[0m\u001b[1;33m\u001b[0m\u001b[1;33m\u001b[0m\u001b[0m\n",
      "\u001b[1;31mKeyError\u001b[0m: 'response'",
      "\nDuring handling of the above exception, another exception occurred:\n",
      "\u001b[1;31mValueError\u001b[0m                                Traceback (most recent call last)",
      "\u001b[1;32m<ipython-input-119-23bd7b625711>\u001b[0m in \u001b[0;36m<module>\u001b[1;34m\u001b[0m\n\u001b[0;32m     14\u001b[0m         \u001b[1;32mexcept\u001b[0m\u001b[1;33m:\u001b[0m\u001b[1;33m\u001b[0m\u001b[1;33m\u001b[0m\u001b[0m\n\u001b[0;32m     15\u001b[0m             \u001b[0mprint\u001b[0m\u001b[1;33m(\u001b[0m\u001b[1;34m'Exception'\u001b[0m\u001b[1;33m,\u001b[0m \u001b[0mitems_list\u001b[0m\u001b[1;33m)\u001b[0m\u001b[1;33m\u001b[0m\u001b[1;33m\u001b[0m\u001b[0m\n\u001b[1;32m---> 16\u001b[1;33m             \u001b[1;32mraise\u001b[0m \u001b[0mValueError\u001b[0m\u001b[1;33m\u001b[0m\u001b[1;33m\u001b[0m\u001b[0m\n\u001b[0m\u001b[0;32m     17\u001b[0m \u001b[1;33m\u001b[0m\u001b[0m\n\u001b[0;32m     18\u001b[0m         \u001b[1;32mif\u001b[0m \u001b[0mitems_list\u001b[0m\u001b[1;33m:\u001b[0m\u001b[1;33m\u001b[0m\u001b[1;33m\u001b[0m\u001b[0m\n",
      "\u001b[1;31mValueError\u001b[0m: "
     ]
    }
   ],
   "source": [
    "url = 'https://api.vk.com/method/groups.getMembers?group_id={}&offset={}&access_token={}&v=5.81'\n",
    "\n",
    "for group in groups_rap:\n",
    "    new_items = 1\n",
    "    offset = 0\n",
    "    ids = set()\n",
    "\n",
    "    while new_items:\n",
    "        #print(url.format('asbspb', offset, token))\n",
    "        try:\n",
    "            #print(url.format(group, offset, token))\n",
    "            items_list = requests.get(url.format(group, offset, token)).json()\n",
    "            items_list = items_list['response']['items']\n",
    "        except: \n",
    "            print('Exception', items_list)\n",
    "            raise ValueError\n",
    "        \n",
    "        if items_list:\n",
    "            #print(items_list, type(items_list))\n",
    "            ids = ids | set(items_list)\n",
    "            offset += 1000\n",
    "        else:\n",
    "            new_items = 0\n",
    "        if offset%3000 == 0:\n",
    "            time.sleep(2)\n",
    "        if offset%100000 == 0:\n",
    "            print(offset, 'for', group)\n",
    "    \n",
    "    dict_ids[group] = list(ids)\n",
    "\n",
    "a_file = open(\"data_rap.json\", \"w\")\n",
    "json.dump(dict_ids, a_file)\n",
    "a_file.close()"
   ]
  },
  {
   "cell_type": "code",
   "execution_count": 112,
   "metadata": {},
   "outputs": [
    {
     "data": {
      "text/plain": [
       "1000000"
      ]
     },
     "execution_count": 112,
     "metadata": {},
     "output_type": "execute_result"
    }
   ],
   "source": [
    "#len(ids)"
   ]
  },
  {
   "cell_type": "code",
   "execution_count": 113,
   "metadata": {},
   "outputs": [],
   "source": [
    "#dict_ids['sayonaraboy'] = list(ids)"
   ]
  },
  {
   "cell_type": "code",
   "execution_count": 209,
   "metadata": {},
   "outputs": [
    {
     "data": {
      "text/plain": [
       "['martingarrix']"
      ]
     },
     "execution_count": 209,
     "metadata": {},
     "output_type": "execute_result"
    }
   ],
   "source": [
    "groups_electro[:1]"
   ]
  },
  {
   "cell_type": "code",
   "execution_count": 210,
   "metadata": {},
   "outputs": [
    {
     "name": "stdout",
     "output_type": "stream",
     "text": [
      "100000 for martingarrix\n",
      "200000 for martingarrix\n",
      "300000 for martingarrix\n"
     ]
    }
   ],
   "source": [
    "url = 'https://api.vk.com/method/groups.getMembers?group_id={}&offset={}&access_token={}&v=5.81'\n",
    "#dict_ids = dict()\n",
    "\n",
    "for group in groups_electro[:1]:\n",
    "    new_items = 1\n",
    "    offset = 0\n",
    "    ids = set()\n",
    "\n",
    "    while new_items:\n",
    "        #print(url.format('asbspb', offset, token))\n",
    "        items_list = requests.get(url.format(group, offset, token)).json()['response']['items']\n",
    "        if items_list:\n",
    "            #print(items_list, type(items_list))\n",
    "            ids = ids | set(items_list)\n",
    "            offset += 1000\n",
    "        else:\n",
    "            new_items = 0\n",
    "        if offset%3000 == 0:\n",
    "            time.sleep(1)\n",
    "        if offset%100000 == 0:\n",
    "            print(offset, 'for', group)\n",
    "    \n",
    "    dict_ids[group] = list(ids)\n",
    "\n",
    "a_file = open(\"data_electro1.json\", \"w\")\n",
    "json.dump(dict_ids, a_file)\n",
    "a_file.close()"
   ]
  },
  {
   "cell_type": "code",
   "execution_count": 211,
   "metadata": {},
   "outputs": [
    {
     "data": {
      "text/plain": [
       "dict_keys(['arminvanbuuren', 'tiesto', 'hardwell', 'davidguetta', 'martingarrix'])"
      ]
     },
     "execution_count": 211,
     "metadata": {},
     "output_type": "execute_result"
    }
   ],
   "source": [
    "dict_ids.keys()"
   ]
  },
  {
   "cell_type": "markdown",
   "metadata": {},
   "source": [
    "# Collect data by ids"
   ]
  },
  {
   "cell_type": "code",
   "execution_count": 123,
   "metadata": {},
   "outputs": [],
   "source": [
    "a_file = open(\"data_pop.json\", \"r\")\n",
    "output = a_file.read()\n",
    "a_file.close()"
   ]
  },
  {
   "cell_type": "code",
   "execution_count": 128,
   "metadata": {},
   "outputs": [
    {
     "name": "stdout",
     "output_type": "stream",
     "text": [
      "<class 'str'>\n"
     ]
    }
   ],
   "source": [
    "print(type(output))\n",
    "data_pop = json.loads(output)"
   ]
  },
  {
   "cell_type": "code",
   "execution_count": 185,
   "metadata": {},
   "outputs": [
    {
     "data": {
      "text/plain": [
       "1532923"
      ]
     },
     "execution_count": 185,
     "metadata": {},
     "output_type": "execute_result"
    }
   ],
   "source": [
    "len(data_pop[groups_pop[0]])"
   ]
  },
  {
   "cell_type": "code",
   "execution_count": 8,
   "metadata": {},
   "outputs": [],
   "source": [
    "def get_profiles(user_id, access_token, fields = 'sex, bdate, has_photo, has_mobile, contacts, education, universities, schools, status, followers_count, occupation, relatives, relation, personal, connections, interests, music, movies, books, about, quotes, can_post, can_see_all_posts, can_see_audio, can_write_private_message, can_send_friend_request, friend_status, career, can_be_invited_group'):\n",
    "    url = 'https://api.vk.com/method/users.get?user_ids={}&fields={}&access_token={}&v=5.81'\n",
    "    #print(url.format(user_id, fields, access_token))\n",
    "    json_response = requests.get(url.format(user_id, fields, access_token)).json()\n",
    "    if json_response.get('error'):\n",
    "        print(json_response.get('error'))\n",
    "        print(json_response)\n",
    "        raise ValueError\n",
    "        return None\n",
    "    return json_response['response']"
   ]
  },
  {
   "cell_type": "code",
   "execution_count": 190,
   "metadata": {},
   "outputs": [
    {
     "name": "stdout",
     "output_type": "stream",
     "text": [
      "1100000 for nataliaoreiro\n",
      "1200000 for nataliaoreiro\n",
      "1300000 for nataliaoreiro\n",
      "1400000 for nataliaoreiro\n",
      "1500000 for nataliaoreiro\n"
     ]
    }
   ],
   "source": [
    "#users_data = list()\n",
    "offset = 1100000 \n",
    "\n",
    "while offset < len(data_pop[groups_pop[0]]) - 1000:\n",
    "    users_data += get_profiles(data_pop[groups_pop[0]][offset:offset+1000], token)\n",
    "    if offset%3000 == 0:\n",
    "        time.sleep(1)\n",
    "    if offset%100000 == 0:\n",
    "        print(offset, 'for', groups_pop[0])\n",
    "    offset += 1000"
   ]
  },
  {
   "cell_type": "code",
   "execution_count": 191,
   "metadata": {},
   "outputs": [
    {
     "data": {
      "text/plain": [
       "1535922"
      ]
     },
     "execution_count": 191,
     "metadata": {},
     "output_type": "execute_result"
    }
   ],
   "source": [
    "len(users_data)"
   ]
  },
  {
   "cell_type": "code",
   "execution_count": 192,
   "metadata": {},
   "outputs": [],
   "source": [
    "users_data_df = pd.DataFrame(users_data)"
   ]
  },
  {
   "cell_type": "code",
   "execution_count": 193,
   "metadata": {},
   "outputs": [
    {
     "data": {
      "text/html": [
       "<div>\n",
       "<style scoped>\n",
       "    .dataframe tbody tr th:only-of-type {\n",
       "        vertical-align: middle;\n",
       "    }\n",
       "\n",
       "    .dataframe tbody tr th {\n",
       "        vertical-align: top;\n",
       "    }\n",
       "\n",
       "    .dataframe thead th {\n",
       "        text-align: right;\n",
       "    }\n",
       "</style>\n",
       "<table border=\"1\" class=\"dataframe\">\n",
       "  <thead>\n",
       "    <tr style=\"text-align: right;\">\n",
       "      <th></th>\n",
       "      <th>first_name</th>\n",
       "      <th>id</th>\n",
       "      <th>last_name</th>\n",
       "      <th>sex</th>\n",
       "      <th>friend_status</th>\n",
       "      <th>bdate</th>\n",
       "      <th>has_photo</th>\n",
       "      <th>has_mobile</th>\n",
       "      <th>can_post</th>\n",
       "      <th>can_see_all_posts</th>\n",
       "      <th>...</th>\n",
       "      <th>education_form</th>\n",
       "      <th>education_status</th>\n",
       "      <th>facebook</th>\n",
       "      <th>facebook_name</th>\n",
       "      <th>relation_partner</th>\n",
       "      <th>skype</th>\n",
       "      <th>instagram</th>\n",
       "      <th>twitter</th>\n",
       "      <th>status_audio</th>\n",
       "      <th>livejournal</th>\n",
       "    </tr>\n",
       "  </thead>\n",
       "  <tbody>\n",
       "    <tr>\n",
       "      <th>0</th>\n",
       "      <td>Denis</td>\n",
       "      <td>184549379</td>\n",
       "      <td>Koksharov</td>\n",
       "      <td>2</td>\n",
       "      <td>0</td>\n",
       "      <td>30.7.1991</td>\n",
       "      <td>1</td>\n",
       "      <td>1.0</td>\n",
       "      <td>0</td>\n",
       "      <td>1.0</td>\n",
       "      <td>...</td>\n",
       "      <td>NaN</td>\n",
       "      <td>NaN</td>\n",
       "      <td>NaN</td>\n",
       "      <td>NaN</td>\n",
       "      <td>NaN</td>\n",
       "      <td>NaN</td>\n",
       "      <td>NaN</td>\n",
       "      <td>NaN</td>\n",
       "      <td>NaN</td>\n",
       "      <td>NaN</td>\n",
       "    </tr>\n",
       "    <tr>\n",
       "      <th>1</th>\n",
       "      <td>Subhash</td>\n",
       "      <td>490733577</td>\n",
       "      <td>Kumar</td>\n",
       "      <td>2</td>\n",
       "      <td>0</td>\n",
       "      <td>1.2.2004</td>\n",
       "      <td>1</td>\n",
       "      <td>1.0</td>\n",
       "      <td>0</td>\n",
       "      <td>1.0</td>\n",
       "      <td>...</td>\n",
       "      <td>NaN</td>\n",
       "      <td>NaN</td>\n",
       "      <td>NaN</td>\n",
       "      <td>NaN</td>\n",
       "      <td>NaN</td>\n",
       "      <td>NaN</td>\n",
       "      <td>NaN</td>\n",
       "      <td>NaN</td>\n",
       "      <td>NaN</td>\n",
       "      <td>NaN</td>\n",
       "    </tr>\n",
       "    <tr>\n",
       "      <th>2</th>\n",
       "      <td>Татьяна</td>\n",
       "      <td>507510795</td>\n",
       "      <td>Борисова</td>\n",
       "      <td>2</td>\n",
       "      <td>0</td>\n",
       "      <td>9.5.2000</td>\n",
       "      <td>0</td>\n",
       "      <td>0.0</td>\n",
       "      <td>0</td>\n",
       "      <td>1.0</td>\n",
       "      <td>...</td>\n",
       "      <td>NaN</td>\n",
       "      <td>NaN</td>\n",
       "      <td>NaN</td>\n",
       "      <td>NaN</td>\n",
       "      <td>NaN</td>\n",
       "      <td>NaN</td>\n",
       "      <td>NaN</td>\n",
       "      <td>NaN</td>\n",
       "      <td>NaN</td>\n",
       "      <td>NaN</td>\n",
       "    </tr>\n",
       "    <tr>\n",
       "      <th>3</th>\n",
       "      <td>Екатерина</td>\n",
       "      <td>532676624</td>\n",
       "      <td>Щекина</td>\n",
       "      <td>1</td>\n",
       "      <td>0</td>\n",
       "      <td>NaN</td>\n",
       "      <td>0</td>\n",
       "      <td>NaN</td>\n",
       "      <td>0</td>\n",
       "      <td>NaN</td>\n",
       "      <td>...</td>\n",
       "      <td>NaN</td>\n",
       "      <td>NaN</td>\n",
       "      <td>NaN</td>\n",
       "      <td>NaN</td>\n",
       "      <td>NaN</td>\n",
       "      <td>NaN</td>\n",
       "      <td>NaN</td>\n",
       "      <td>NaN</td>\n",
       "      <td>NaN</td>\n",
       "      <td>NaN</td>\n",
       "    </tr>\n",
       "    <tr>\n",
       "      <th>4</th>\n",
       "      <td>Алик</td>\n",
       "      <td>524288019</td>\n",
       "      <td>Айрапетов</td>\n",
       "      <td>2</td>\n",
       "      <td>0</td>\n",
       "      <td>5.1.2005</td>\n",
       "      <td>1</td>\n",
       "      <td>0.0</td>\n",
       "      <td>0</td>\n",
       "      <td>1.0</td>\n",
       "      <td>...</td>\n",
       "      <td>NaN</td>\n",
       "      <td>NaN</td>\n",
       "      <td>NaN</td>\n",
       "      <td>NaN</td>\n",
       "      <td>NaN</td>\n",
       "      <td>NaN</td>\n",
       "      <td>NaN</td>\n",
       "      <td>NaN</td>\n",
       "      <td>NaN</td>\n",
       "      <td>NaN</td>\n",
       "    </tr>\n",
       "    <tr>\n",
       "      <th>...</th>\n",
       "      <td>...</td>\n",
       "      <td>...</td>\n",
       "      <td>...</td>\n",
       "      <td>...</td>\n",
       "      <td>...</td>\n",
       "      <td>...</td>\n",
       "      <td>...</td>\n",
       "      <td>...</td>\n",
       "      <td>...</td>\n",
       "      <td>...</td>\n",
       "      <td>...</td>\n",
       "      <td>...</td>\n",
       "      <td>...</td>\n",
       "      <td>...</td>\n",
       "      <td>...</td>\n",
       "      <td>...</td>\n",
       "      <td>...</td>\n",
       "      <td>...</td>\n",
       "      <td>...</td>\n",
       "      <td>...</td>\n",
       "      <td>...</td>\n",
       "    </tr>\n",
       "    <tr>\n",
       "      <th>1535917</th>\n",
       "      <td>Наталья</td>\n",
       "      <td>541062759</td>\n",
       "      <td>Сергеевна</td>\n",
       "      <td>1</td>\n",
       "      <td>0</td>\n",
       "      <td>NaN</td>\n",
       "      <td>0</td>\n",
       "      <td>NaN</td>\n",
       "      <td>0</td>\n",
       "      <td>NaN</td>\n",
       "      <td>...</td>\n",
       "      <td>NaN</td>\n",
       "      <td>NaN</td>\n",
       "      <td>NaN</td>\n",
       "      <td>NaN</td>\n",
       "      <td>NaN</td>\n",
       "      <td>NaN</td>\n",
       "      <td>NaN</td>\n",
       "      <td>NaN</td>\n",
       "      <td>NaN</td>\n",
       "      <td>NaN</td>\n",
       "    </tr>\n",
       "    <tr>\n",
       "      <th>1535918</th>\n",
       "      <td>Надежда</td>\n",
       "      <td>536868464</td>\n",
       "      <td>Полуянова</td>\n",
       "      <td>1</td>\n",
       "      <td>0</td>\n",
       "      <td>NaN</td>\n",
       "      <td>0</td>\n",
       "      <td>NaN</td>\n",
       "      <td>0</td>\n",
       "      <td>NaN</td>\n",
       "      <td>...</td>\n",
       "      <td>NaN</td>\n",
       "      <td>NaN</td>\n",
       "      <td>NaN</td>\n",
       "      <td>NaN</td>\n",
       "      <td>NaN</td>\n",
       "      <td>NaN</td>\n",
       "      <td>NaN</td>\n",
       "      <td>NaN</td>\n",
       "      <td>NaN</td>\n",
       "      <td>NaN</td>\n",
       "    </tr>\n",
       "    <tr>\n",
       "      <th>1535919</th>\n",
       "      <td>Madina</td>\n",
       "      <td>440399473</td>\n",
       "      <td>Ahmedova</td>\n",
       "      <td>1</td>\n",
       "      <td>0</td>\n",
       "      <td>NaN</td>\n",
       "      <td>1</td>\n",
       "      <td>1.0</td>\n",
       "      <td>0</td>\n",
       "      <td>1.0</td>\n",
       "      <td>...</td>\n",
       "      <td>NaN</td>\n",
       "      <td>NaN</td>\n",
       "      <td>NaN</td>\n",
       "      <td>NaN</td>\n",
       "      <td>NaN</td>\n",
       "      <td>NaN</td>\n",
       "      <td>NaN</td>\n",
       "      <td>NaN</td>\n",
       "      <td>NaN</td>\n",
       "      <td>NaN</td>\n",
       "    </tr>\n",
       "    <tr>\n",
       "      <th>1535920</th>\n",
       "      <td>Сами</td>\n",
       "      <td>578811505</td>\n",
       "      <td>Султонов</td>\n",
       "      <td>2</td>\n",
       "      <td>0</td>\n",
       "      <td>24.3.2006</td>\n",
       "      <td>1</td>\n",
       "      <td>1.0</td>\n",
       "      <td>0</td>\n",
       "      <td>1.0</td>\n",
       "      <td>...</td>\n",
       "      <td>NaN</td>\n",
       "      <td>NaN</td>\n",
       "      <td>NaN</td>\n",
       "      <td>NaN</td>\n",
       "      <td>NaN</td>\n",
       "      <td>NaN</td>\n",
       "      <td>NaN</td>\n",
       "      <td>NaN</td>\n",
       "      <td>NaN</td>\n",
       "      <td>NaN</td>\n",
       "    </tr>\n",
       "    <tr>\n",
       "      <th>1535921</th>\n",
       "      <td>Lucinka</td>\n",
       "      <td>423622260</td>\n",
       "      <td>Doubnerová</td>\n",
       "      <td>1</td>\n",
       "      <td>0</td>\n",
       "      <td>24.8.2001</td>\n",
       "      <td>1</td>\n",
       "      <td>1.0</td>\n",
       "      <td>0</td>\n",
       "      <td>1.0</td>\n",
       "      <td>...</td>\n",
       "      <td>NaN</td>\n",
       "      <td>NaN</td>\n",
       "      <td>NaN</td>\n",
       "      <td>NaN</td>\n",
       "      <td>NaN</td>\n",
       "      <td>NaN</td>\n",
       "      <td>NaN</td>\n",
       "      <td>NaN</td>\n",
       "      <td>NaN</td>\n",
       "      <td>NaN</td>\n",
       "    </tr>\n",
       "  </tbody>\n",
       "</table>\n",
       "<p>1535922 rows × 47 columns</p>\n",
       "</div>"
      ],
      "text/plain": [
       "        first_name         id   last_name  sex  friend_status      bdate  \\\n",
       "0            Denis  184549379   Koksharov    2              0  30.7.1991   \n",
       "1          Subhash  490733577       Kumar    2              0   1.2.2004   \n",
       "2          Татьяна  507510795    Борисова    2              0   9.5.2000   \n",
       "3        Екатерина  532676624      Щекина    1              0        NaN   \n",
       "4             Алик  524288019   Айрапетов    2              0   5.1.2005   \n",
       "...            ...        ...         ...  ...            ...        ...   \n",
       "1535917    Наталья  541062759   Сергеевна    1              0        NaN   \n",
       "1535918    Надежда  536868464   Полуянова    1              0        NaN   \n",
       "1535919     Madina  440399473    Ahmedova    1              0        NaN   \n",
       "1535920       Сами  578811505    Султонов    2              0  24.3.2006   \n",
       "1535921    Lucinka  423622260  Doubnerová    1              0  24.8.2001   \n",
       "\n",
       "         has_photo  has_mobile  can_post  can_see_all_posts  ...  \\\n",
       "0                1         1.0         0                1.0  ...   \n",
       "1                1         1.0         0                1.0  ...   \n",
       "2                0         0.0         0                1.0  ...   \n",
       "3                0         NaN         0                NaN  ...   \n",
       "4                1         0.0         0                1.0  ...   \n",
       "...            ...         ...       ...                ...  ...   \n",
       "1535917          0         NaN         0                NaN  ...   \n",
       "1535918          0         NaN         0                NaN  ...   \n",
       "1535919          1         1.0         0                1.0  ...   \n",
       "1535920          1         1.0         0                1.0  ...   \n",
       "1535921          1         1.0         0                1.0  ...   \n",
       "\n",
       "         education_form education_status facebook facebook_name  \\\n",
       "0                   NaN              NaN      NaN           NaN   \n",
       "1                   NaN              NaN      NaN           NaN   \n",
       "2                   NaN              NaN      NaN           NaN   \n",
       "3                   NaN              NaN      NaN           NaN   \n",
       "4                   NaN              NaN      NaN           NaN   \n",
       "...                 ...              ...      ...           ...   \n",
       "1535917             NaN              NaN      NaN           NaN   \n",
       "1535918             NaN              NaN      NaN           NaN   \n",
       "1535919             NaN              NaN      NaN           NaN   \n",
       "1535920             NaN              NaN      NaN           NaN   \n",
       "1535921             NaN              NaN      NaN           NaN   \n",
       "\n",
       "        relation_partner skype instagram  twitter  status_audio livejournal  \n",
       "0                    NaN   NaN       NaN      NaN           NaN         NaN  \n",
       "1                    NaN   NaN       NaN      NaN           NaN         NaN  \n",
       "2                    NaN   NaN       NaN      NaN           NaN         NaN  \n",
       "3                    NaN   NaN       NaN      NaN           NaN         NaN  \n",
       "4                    NaN   NaN       NaN      NaN           NaN         NaN  \n",
       "...                  ...   ...       ...      ...           ...         ...  \n",
       "1535917              NaN   NaN       NaN      NaN           NaN         NaN  \n",
       "1535918              NaN   NaN       NaN      NaN           NaN         NaN  \n",
       "1535919              NaN   NaN       NaN      NaN           NaN         NaN  \n",
       "1535920              NaN   NaN       NaN      NaN           NaN         NaN  \n",
       "1535921              NaN   NaN       NaN      NaN           NaN         NaN  \n",
       "\n",
       "[1535922 rows x 47 columns]"
      ]
     },
     "execution_count": 193,
     "metadata": {},
     "output_type": "execute_result"
    }
   ],
   "source": [
    "users_data_df"
   ]
  },
  {
   "cell_type": "code",
   "execution_count": 194,
   "metadata": {},
   "outputs": [],
   "source": [
    "users_data_df.to_csv('nataliaoreiro_data.csv')"
   ]
  },
  {
   "cell_type": "markdown",
   "metadata": {},
   "source": [
    "Cleaning and filtering dataset"
   ]
  },
  {
   "cell_type": "code",
   "execution_count": 154,
   "metadata": {},
   "outputs": [],
   "source": [
    "def check_text_exist(x):\n",
    "    if x:\n",
    "        if isinstance(x, float) and math.isnan(x):\n",
    "            #print(x, '->', '0')\n",
    "            return 0\n",
    "        #print(x, '->', '1')\n",
    "        return 1\n",
    "    else:   \n",
    "        #print(x, '->', '0')\n",
    "        return 0"
   ]
  },
  {
   "cell_type": "code",
   "execution_count": 155,
   "metadata": {},
   "outputs": [],
   "source": [
    "def nan_to_digit(x):\n",
    "    if isinstance(x, float):\n",
    "        if math.isnan(x):\n",
    "            return 0\n",
    "        return x + 1\n",
    "    else:   \n",
    "        print('weird x', x)\n",
    "        return np.nan"
   ]
  },
  {
   "cell_type": "code",
   "execution_count": 156,
   "metadata": {},
   "outputs": [],
   "source": [
    "def delete_new_lines(x):\n",
    "    if isinstance(x, float):\n",
    "        return x\n",
    "    return x.replace('\\n', ' ')"
   ]
  },
  {
   "cell_type": "code",
   "execution_count": 157,
   "metadata": {},
   "outputs": [
    {
     "data": {
      "text/html": [
       "<div>\n",
       "<style scoped>\n",
       "    .dataframe tbody tr th:only-of-type {\n",
       "        vertical-align: middle;\n",
       "    }\n",
       "\n",
       "    .dataframe tbody tr th {\n",
       "        vertical-align: top;\n",
       "    }\n",
       "\n",
       "    .dataframe thead th {\n",
       "        text-align: right;\n",
       "    }\n",
       "</style>\n",
       "<table border=\"1\" class=\"dataframe\">\n",
       "  <thead>\n",
       "    <tr style=\"text-align: right;\">\n",
       "      <th></th>\n",
       "      <th>id</th>\n",
       "      <th>sex</th>\n",
       "      <th>has_photo</th>\n",
       "      <th>has_mobile</th>\n",
       "      <th>can_post</th>\n",
       "      <th>can_see_all_posts</th>\n",
       "      <th>can_see_audio</th>\n",
       "      <th>interests</th>\n",
       "      <th>books</th>\n",
       "      <th>tv</th>\n",
       "      <th>...</th>\n",
       "      <th>relation</th>\n",
       "      <th>universities</th>\n",
       "      <th>schools</th>\n",
       "      <th>relatives</th>\n",
       "      <th>facebook</th>\n",
       "      <th>skype</th>\n",
       "      <th>instagram</th>\n",
       "      <th>twitter</th>\n",
       "      <th>status_audio</th>\n",
       "      <th>livejournal</th>\n",
       "    </tr>\n",
       "  </thead>\n",
       "  <tbody>\n",
       "    <tr>\n",
       "      <th>0</th>\n",
       "      <td>184549379</td>\n",
       "      <td>2</td>\n",
       "      <td>1</td>\n",
       "      <td>1.0</td>\n",
       "      <td>0</td>\n",
       "      <td>1.0</td>\n",
       "      <td>1.0</td>\n",
       "      <td></td>\n",
       "      <td></td>\n",
       "      <td></td>\n",
       "      <td>...</td>\n",
       "      <td>1.0</td>\n",
       "      <td>1</td>\n",
       "      <td>0</td>\n",
       "      <td>0</td>\n",
       "      <td>0</td>\n",
       "      <td>0</td>\n",
       "      <td>0</td>\n",
       "      <td>0</td>\n",
       "      <td>NaN</td>\n",
       "      <td>NaN</td>\n",
       "    </tr>\n",
       "    <tr>\n",
       "      <th>1</th>\n",
       "      <td>490733577</td>\n",
       "      <td>2</td>\n",
       "      <td>1</td>\n",
       "      <td>1.0</td>\n",
       "      <td>0</td>\n",
       "      <td>1.0</td>\n",
       "      <td>1.0</td>\n",
       "      <td></td>\n",
       "      <td></td>\n",
       "      <td></td>\n",
       "      <td>...</td>\n",
       "      <td>1.0</td>\n",
       "      <td>0</td>\n",
       "      <td>0</td>\n",
       "      <td>0</td>\n",
       "      <td>0</td>\n",
       "      <td>0</td>\n",
       "      <td>0</td>\n",
       "      <td>0</td>\n",
       "      <td>NaN</td>\n",
       "      <td>NaN</td>\n",
       "    </tr>\n",
       "    <tr>\n",
       "      <th>2</th>\n",
       "      <td>507510795</td>\n",
       "      <td>2</td>\n",
       "      <td>0</td>\n",
       "      <td>0.0</td>\n",
       "      <td>0</td>\n",
       "      <td>1.0</td>\n",
       "      <td>1.0</td>\n",
       "      <td></td>\n",
       "      <td></td>\n",
       "      <td></td>\n",
       "      <td>...</td>\n",
       "      <td>1.0</td>\n",
       "      <td>0</td>\n",
       "      <td>0</td>\n",
       "      <td>0</td>\n",
       "      <td>0</td>\n",
       "      <td>0</td>\n",
       "      <td>0</td>\n",
       "      <td>0</td>\n",
       "      <td>NaN</td>\n",
       "      <td>NaN</td>\n",
       "    </tr>\n",
       "    <tr>\n",
       "      <th>3</th>\n",
       "      <td>524288019</td>\n",
       "      <td>2</td>\n",
       "      <td>1</td>\n",
       "      <td>0.0</td>\n",
       "      <td>0</td>\n",
       "      <td>1.0</td>\n",
       "      <td>1.0</td>\n",
       "      <td></td>\n",
       "      <td></td>\n",
       "      <td></td>\n",
       "      <td>...</td>\n",
       "      <td>1.0</td>\n",
       "      <td>0</td>\n",
       "      <td>0</td>\n",
       "      <td>0</td>\n",
       "      <td>0</td>\n",
       "      <td>0</td>\n",
       "      <td>0</td>\n",
       "      <td>0</td>\n",
       "      <td>NaN</td>\n",
       "      <td>NaN</td>\n",
       "    </tr>\n",
       "    <tr>\n",
       "      <th>4</th>\n",
       "      <td>499122196</td>\n",
       "      <td>1</td>\n",
       "      <td>0</td>\n",
       "      <td>0.0</td>\n",
       "      <td>0</td>\n",
       "      <td>1.0</td>\n",
       "      <td>1.0</td>\n",
       "      <td></td>\n",
       "      <td></td>\n",
       "      <td></td>\n",
       "      <td>...</td>\n",
       "      <td>1.0</td>\n",
       "      <td>0</td>\n",
       "      <td>0</td>\n",
       "      <td>0</td>\n",
       "      <td>0</td>\n",
       "      <td>0</td>\n",
       "      <td>0</td>\n",
       "      <td>0</td>\n",
       "      <td>NaN</td>\n",
       "      <td>NaN</td>\n",
       "    </tr>\n",
       "    <tr>\n",
       "      <th>...</th>\n",
       "      <td>...</td>\n",
       "      <td>...</td>\n",
       "      <td>...</td>\n",
       "      <td>...</td>\n",
       "      <td>...</td>\n",
       "      <td>...</td>\n",
       "      <td>...</td>\n",
       "      <td>...</td>\n",
       "      <td>...</td>\n",
       "      <td>...</td>\n",
       "      <td>...</td>\n",
       "      <td>...</td>\n",
       "      <td>...</td>\n",
       "      <td>...</td>\n",
       "      <td>...</td>\n",
       "      <td>...</td>\n",
       "      <td>...</td>\n",
       "      <td>...</td>\n",
       "      <td>...</td>\n",
       "      <td>...</td>\n",
       "      <td>...</td>\n",
       "    </tr>\n",
       "    <tr>\n",
       "      <th>1284655</th>\n",
       "      <td>402650726</td>\n",
       "      <td>1</td>\n",
       "      <td>0</td>\n",
       "      <td>1.0</td>\n",
       "      <td>0</td>\n",
       "      <td>1.0</td>\n",
       "      <td>1.0</td>\n",
       "      <td></td>\n",
       "      <td></td>\n",
       "      <td></td>\n",
       "      <td>...</td>\n",
       "      <td>1.0</td>\n",
       "      <td>0</td>\n",
       "      <td>0</td>\n",
       "      <td>0</td>\n",
       "      <td>0</td>\n",
       "      <td>0</td>\n",
       "      <td>0</td>\n",
       "      <td>0</td>\n",
       "      <td>NaN</td>\n",
       "      <td>NaN</td>\n",
       "    </tr>\n",
       "    <tr>\n",
       "      <th>1284656</th>\n",
       "      <td>50329191</td>\n",
       "      <td>1</td>\n",
       "      <td>1</td>\n",
       "      <td>1.0</td>\n",
       "      <td>0</td>\n",
       "      <td>0.0</td>\n",
       "      <td>1.0</td>\n",
       "      <td>NaN</td>\n",
       "      <td>NaN</td>\n",
       "      <td>NaN</td>\n",
       "      <td>...</td>\n",
       "      <td>0.0</td>\n",
       "      <td>0</td>\n",
       "      <td>0</td>\n",
       "      <td>0</td>\n",
       "      <td>0</td>\n",
       "      <td>0</td>\n",
       "      <td>0</td>\n",
       "      <td>0</td>\n",
       "      <td>NaN</td>\n",
       "      <td>NaN</td>\n",
       "    </tr>\n",
       "    <tr>\n",
       "      <th>1284657</th>\n",
       "      <td>440399473</td>\n",
       "      <td>1</td>\n",
       "      <td>1</td>\n",
       "      <td>1.0</td>\n",
       "      <td>0</td>\n",
       "      <td>1.0</td>\n",
       "      <td>1.0</td>\n",
       "      <td></td>\n",
       "      <td></td>\n",
       "      <td></td>\n",
       "      <td>...</td>\n",
       "      <td>1.0</td>\n",
       "      <td>0</td>\n",
       "      <td>0</td>\n",
       "      <td>0</td>\n",
       "      <td>0</td>\n",
       "      <td>0</td>\n",
       "      <td>0</td>\n",
       "      <td>0</td>\n",
       "      <td>NaN</td>\n",
       "      <td>NaN</td>\n",
       "    </tr>\n",
       "    <tr>\n",
       "      <th>1284658</th>\n",
       "      <td>578811505</td>\n",
       "      <td>2</td>\n",
       "      <td>1</td>\n",
       "      <td>1.0</td>\n",
       "      <td>0</td>\n",
       "      <td>1.0</td>\n",
       "      <td>1.0</td>\n",
       "      <td></td>\n",
       "      <td></td>\n",
       "      <td></td>\n",
       "      <td>...</td>\n",
       "      <td>1.0</td>\n",
       "      <td>0</td>\n",
       "      <td>0</td>\n",
       "      <td>0</td>\n",
       "      <td>0</td>\n",
       "      <td>0</td>\n",
       "      <td>0</td>\n",
       "      <td>0</td>\n",
       "      <td>NaN</td>\n",
       "      <td>NaN</td>\n",
       "    </tr>\n",
       "    <tr>\n",
       "      <th>1284659</th>\n",
       "      <td>423622260</td>\n",
       "      <td>1</td>\n",
       "      <td>1</td>\n",
       "      <td>1.0</td>\n",
       "      <td>0</td>\n",
       "      <td>1.0</td>\n",
       "      <td>1.0</td>\n",
       "      <td></td>\n",
       "      <td>гарри поттер</td>\n",
       "      <td></td>\n",
       "      <td>...</td>\n",
       "      <td>2.0</td>\n",
       "      <td>0</td>\n",
       "      <td>1</td>\n",
       "      <td>0</td>\n",
       "      <td>0</td>\n",
       "      <td>0</td>\n",
       "      <td>0</td>\n",
       "      <td>0</td>\n",
       "      <td>NaN</td>\n",
       "      <td>NaN</td>\n",
       "    </tr>\n",
       "  </tbody>\n",
       "</table>\n",
       "<p>1284660 rows × 33 columns</p>\n",
       "</div>"
      ],
      "text/plain": [
       "                id  sex  has_photo  has_mobile  can_post  can_see_all_posts  \\\n",
       "0        184549379    2          1         1.0         0                1.0   \n",
       "1        490733577    2          1         1.0         0                1.0   \n",
       "2        507510795    2          0         0.0         0                1.0   \n",
       "3        524288019    2          1         0.0         0                1.0   \n",
       "4        499122196    1          0         0.0         0                1.0   \n",
       "...            ...  ...        ...         ...       ...                ...   \n",
       "1284655  402650726    1          0         1.0         0                1.0   \n",
       "1284656   50329191    1          1         1.0         0                0.0   \n",
       "1284657  440399473    1          1         1.0         0                1.0   \n",
       "1284658  578811505    2          1         1.0         0                1.0   \n",
       "1284659  423622260    1          1         1.0         0                1.0   \n",
       "\n",
       "         can_see_audio interests         books   tv  ... relation  \\\n",
       "0                  1.0                               ...      1.0   \n",
       "1                  1.0                               ...      1.0   \n",
       "2                  1.0                               ...      1.0   \n",
       "3                  1.0                               ...      1.0   \n",
       "4                  1.0                               ...      1.0   \n",
       "...                ...       ...           ...  ...  ...      ...   \n",
       "1284655            1.0                               ...      1.0   \n",
       "1284656            1.0       NaN           NaN  NaN  ...      0.0   \n",
       "1284657            1.0                               ...      1.0   \n",
       "1284658            1.0                               ...      1.0   \n",
       "1284659            1.0            гарри поттер       ...      2.0   \n",
       "\n",
       "        universities schools relatives facebook skype  instagram  twitter  \\\n",
       "0                  1       0         0        0     0          0        0   \n",
       "1                  0       0         0        0     0          0        0   \n",
       "2                  0       0         0        0     0          0        0   \n",
       "3                  0       0         0        0     0          0        0   \n",
       "4                  0       0         0        0     0          0        0   \n",
       "...              ...     ...       ...      ...   ...        ...      ...   \n",
       "1284655            0       0         0        0     0          0        0   \n",
       "1284656            0       0         0        0     0          0        0   \n",
       "1284657            0       0         0        0     0          0        0   \n",
       "1284658            0       0         0        0     0          0        0   \n",
       "1284659            0       1         0        0     0          0        0   \n",
       "\n",
       "         status_audio livejournal  \n",
       "0                 NaN         NaN  \n",
       "1                 NaN         NaN  \n",
       "2                 NaN         NaN  \n",
       "3                 NaN         NaN  \n",
       "4                 NaN         NaN  \n",
       "...               ...         ...  \n",
       "1284655           NaN         NaN  \n",
       "1284656           NaN         NaN  \n",
       "1284657           NaN         NaN  \n",
       "1284658           NaN         NaN  \n",
       "1284659           NaN         NaN  \n",
       "\n",
       "[1284660 rows x 33 columns]"
      ]
     },
     "execution_count": 157,
     "metadata": {},
     "output_type": "execute_result"
    }
   ],
   "source": [
    "# change text to 0/1 features and delete unnecessary columns\n",
    "df_clean =  users_data_df.drop(['first_name', 'last_name', 'friend_status', 'mobile_phone', 'home_phone', 'site', 'relation_partner', 'facebook_name'], axis = 1)\n",
    "df_clean['schools'] = df_clean['schools'].apply(check_text_exist)\n",
    "df_clean['career'] = df_clean['career'].apply(check_text_exist)\n",
    "df_clean['relatives'] = df_clean['relatives'].apply(check_text_exist)\n",
    "df_clean['occupation'] = df_clean['occupation'].apply(check_text_exist)\n",
    "df_clean['instagram'] = df_clean['instagram'].apply(check_text_exist)\n",
    "df_clean['skype'] = df_clean['skype'].apply(check_text_exist)\n",
    "df_clean['twitter'] = df_clean['twitter'].apply(check_text_exist)\n",
    "df_clean['facebook'] = df_clean['facebook'].apply(check_text_exist)\n",
    "df_clean['universities'] = df_clean['universities'].apply(check_text_exist)\n",
    "df_clean['relation'] = df_clean['relation'].apply(nan_to_digit)\n",
    "df_clean = df_clean.loc[df_clean['deactivated'] != 'banned']\n",
    "df_clean = df_clean.loc[df_clean['deactivated'] != 'deleted']\n",
    "df_clean =  df_clean.drop(['deactivated'], axis = 1)\n",
    "df_clean['can_be_invited_group'] = df_clean['can_be_invited_group'].apply(check_text_exist)\n",
    "\n",
    "df_clean['interests'] = df_clean['interests'].apply(delete_new_lines)\n",
    "df_clean['books'] = df_clean['books'].apply(delete_new_lines)\n",
    "df_clean['tv'] = df_clean['tv'].apply(delete_new_lines)\n",
    "df_clean['quotes'] = df_clean['quotes'].apply(delete_new_lines)\n",
    "df_clean['about'] = df_clean['about'].apply(delete_new_lines)\n",
    "df_clean['games'] = df_clean['games'].apply(delete_new_lines)\n",
    "df_clean['movies'] = df_clean['movies'].apply(delete_new_lines)\n",
    "df_clean['activities'] = df_clean['activities'].apply(delete_new_lines)\n",
    "\n",
    "# временно \n",
    "df_clean =  df_clean.drop(['personal','graduation', 'education_status', 'education_form', 'faculty_name', 'faculty', 'university_name', 'university'], axis = 1)\n",
    "df_clean = df_clean.reset_index(drop=True)\n",
    "df_clean"
   ]
  },
  {
   "cell_type": "code",
   "execution_count": 158,
   "metadata": {},
   "outputs": [
    {
     "data": {
      "text/html": [
       "<div>\n",
       "<style scoped>\n",
       "    .dataframe tbody tr th:only-of-type {\n",
       "        vertical-align: middle;\n",
       "    }\n",
       "\n",
       "    .dataframe tbody tr th {\n",
       "        vertical-align: top;\n",
       "    }\n",
       "\n",
       "    .dataframe thead th {\n",
       "        text-align: right;\n",
       "    }\n",
       "</style>\n",
       "<table border=\"1\" class=\"dataframe\">\n",
       "  <thead>\n",
       "    <tr style=\"text-align: right;\">\n",
       "      <th></th>\n",
       "      <th>id</th>\n",
       "      <th>sex</th>\n",
       "      <th>has_photo</th>\n",
       "      <th>has_mobile</th>\n",
       "      <th>can_post</th>\n",
       "      <th>can_see_all_posts</th>\n",
       "      <th>can_see_audio</th>\n",
       "      <th>can_write_private_message</th>\n",
       "      <th>can_send_friend_request</th>\n",
       "      <th>can_be_invited_group</th>\n",
       "      <th>...</th>\n",
       "      <th>occupation</th>\n",
       "      <th>career</th>\n",
       "      <th>relation</th>\n",
       "      <th>universities</th>\n",
       "      <th>schools</th>\n",
       "      <th>relatives</th>\n",
       "      <th>facebook</th>\n",
       "      <th>skype</th>\n",
       "      <th>instagram</th>\n",
       "      <th>twitter</th>\n",
       "    </tr>\n",
       "  </thead>\n",
       "  <tbody>\n",
       "    <tr>\n",
       "      <th>count</th>\n",
       "      <td>1.284660e+06</td>\n",
       "      <td>1.284660e+06</td>\n",
       "      <td>1.284660e+06</td>\n",
       "      <td>1.284660e+06</td>\n",
       "      <td>1.284660e+06</td>\n",
       "      <td>1.284660e+06</td>\n",
       "      <td>1.284660e+06</td>\n",
       "      <td>1.284660e+06</td>\n",
       "      <td>1.284660e+06</td>\n",
       "      <td>1.284660e+06</td>\n",
       "      <td>...</td>\n",
       "      <td>1.284660e+06</td>\n",
       "      <td>1.284660e+06</td>\n",
       "      <td>1.284660e+06</td>\n",
       "      <td>1.284660e+06</td>\n",
       "      <td>1.284660e+06</td>\n",
       "      <td>1.284660e+06</td>\n",
       "      <td>1.284660e+06</td>\n",
       "      <td>1.284660e+06</td>\n",
       "      <td>1.284660e+06</td>\n",
       "      <td>1.284660e+06</td>\n",
       "    </tr>\n",
       "    <tr>\n",
       "      <th>mean</th>\n",
       "      <td>4.322070e+08</td>\n",
       "      <td>1.570119e+00</td>\n",
       "      <td>6.592943e-01</td>\n",
       "      <td>7.010828e-01</td>\n",
       "      <td>1.911790e-02</td>\n",
       "      <td>8.665118e-01</td>\n",
       "      <td>8.660595e-01</td>\n",
       "      <td>7.354428e-01</td>\n",
       "      <td>9.730045e-01</td>\n",
       "      <td>3.013404e-02</td>\n",
       "      <td>...</td>\n",
       "      <td>7.857955e-02</td>\n",
       "      <td>1.008127e-02</td>\n",
       "      <td>1.366819e+00</td>\n",
       "      <td>2.287843e-02</td>\n",
       "      <td>3.262965e-02</td>\n",
       "      <td>1.604860e-02</td>\n",
       "      <td>8.750175e-03</td>\n",
       "      <td>7.100711e-03</td>\n",
       "      <td>3.900643e-03</td>\n",
       "      <td>1.533480e-03</td>\n",
       "    </tr>\n",
       "    <tr>\n",
       "      <th>std</th>\n",
       "      <td>9.947974e+07</td>\n",
       "      <td>5.134613e-01</td>\n",
       "      <td>4.739467e-01</td>\n",
       "      <td>4.577837e-01</td>\n",
       "      <td>1.369395e-01</td>\n",
       "      <td>3.401018e-01</td>\n",
       "      <td>3.405885e-01</td>\n",
       "      <td>4.410973e-01</td>\n",
       "      <td>1.620702e-01</td>\n",
       "      <td>1.709562e-01</td>\n",
       "      <td>...</td>\n",
       "      <td>2.690815e-01</td>\n",
       "      <td>9.989816e-02</td>\n",
       "      <td>1.650109e+00</td>\n",
       "      <td>1.495160e-01</td>\n",
       "      <td>1.776653e-01</td>\n",
       "      <td>1.256625e-01</td>\n",
       "      <td>9.313225e-02</td>\n",
       "      <td>8.396605e-02</td>\n",
       "      <td>6.233323e-02</td>\n",
       "      <td>3.912965e-02</td>\n",
       "    </tr>\n",
       "    <tr>\n",
       "      <th>min</th>\n",
       "      <td>1.251000e+03</td>\n",
       "      <td>0.000000e+00</td>\n",
       "      <td>0.000000e+00</td>\n",
       "      <td>0.000000e+00</td>\n",
       "      <td>0.000000e+00</td>\n",
       "      <td>0.000000e+00</td>\n",
       "      <td>0.000000e+00</td>\n",
       "      <td>0.000000e+00</td>\n",
       "      <td>0.000000e+00</td>\n",
       "      <td>0.000000e+00</td>\n",
       "      <td>...</td>\n",
       "      <td>0.000000e+00</td>\n",
       "      <td>0.000000e+00</td>\n",
       "      <td>0.000000e+00</td>\n",
       "      <td>0.000000e+00</td>\n",
       "      <td>0.000000e+00</td>\n",
       "      <td>0.000000e+00</td>\n",
       "      <td>0.000000e+00</td>\n",
       "      <td>0.000000e+00</td>\n",
       "      <td>0.000000e+00</td>\n",
       "      <td>0.000000e+00</td>\n",
       "    </tr>\n",
       "    <tr>\n",
       "      <th>25%</th>\n",
       "      <td>3.982926e+08</td>\n",
       "      <td>1.000000e+00</td>\n",
       "      <td>0.000000e+00</td>\n",
       "      <td>0.000000e+00</td>\n",
       "      <td>0.000000e+00</td>\n",
       "      <td>1.000000e+00</td>\n",
       "      <td>1.000000e+00</td>\n",
       "      <td>0.000000e+00</td>\n",
       "      <td>1.000000e+00</td>\n",
       "      <td>0.000000e+00</td>\n",
       "      <td>...</td>\n",
       "      <td>0.000000e+00</td>\n",
       "      <td>0.000000e+00</td>\n",
       "      <td>1.000000e+00</td>\n",
       "      <td>0.000000e+00</td>\n",
       "      <td>0.000000e+00</td>\n",
       "      <td>0.000000e+00</td>\n",
       "      <td>0.000000e+00</td>\n",
       "      <td>0.000000e+00</td>\n",
       "      <td>0.000000e+00</td>\n",
       "      <td>0.000000e+00</td>\n",
       "    </tr>\n",
       "    <tr>\n",
       "      <th>50%</th>\n",
       "      <td>4.392075e+08</td>\n",
       "      <td>2.000000e+00</td>\n",
       "      <td>1.000000e+00</td>\n",
       "      <td>1.000000e+00</td>\n",
       "      <td>0.000000e+00</td>\n",
       "      <td>1.000000e+00</td>\n",
       "      <td>1.000000e+00</td>\n",
       "      <td>1.000000e+00</td>\n",
       "      <td>1.000000e+00</td>\n",
       "      <td>0.000000e+00</td>\n",
       "      <td>...</td>\n",
       "      <td>0.000000e+00</td>\n",
       "      <td>0.000000e+00</td>\n",
       "      <td>1.000000e+00</td>\n",
       "      <td>0.000000e+00</td>\n",
       "      <td>0.000000e+00</td>\n",
       "      <td>0.000000e+00</td>\n",
       "      <td>0.000000e+00</td>\n",
       "      <td>0.000000e+00</td>\n",
       "      <td>0.000000e+00</td>\n",
       "      <td>0.000000e+00</td>\n",
       "    </tr>\n",
       "    <tr>\n",
       "      <th>75%</th>\n",
       "      <td>4.960650e+08</td>\n",
       "      <td>2.000000e+00</td>\n",
       "      <td>1.000000e+00</td>\n",
       "      <td>1.000000e+00</td>\n",
       "      <td>0.000000e+00</td>\n",
       "      <td>1.000000e+00</td>\n",
       "      <td>1.000000e+00</td>\n",
       "      <td>1.000000e+00</td>\n",
       "      <td>1.000000e+00</td>\n",
       "      <td>0.000000e+00</td>\n",
       "      <td>...</td>\n",
       "      <td>0.000000e+00</td>\n",
       "      <td>0.000000e+00</td>\n",
       "      <td>1.000000e+00</td>\n",
       "      <td>0.000000e+00</td>\n",
       "      <td>0.000000e+00</td>\n",
       "      <td>0.000000e+00</td>\n",
       "      <td>0.000000e+00</td>\n",
       "      <td>0.000000e+00</td>\n",
       "      <td>0.000000e+00</td>\n",
       "      <td>0.000000e+00</td>\n",
       "    </tr>\n",
       "    <tr>\n",
       "      <th>max</th>\n",
       "      <td>6.900615e+08</td>\n",
       "      <td>2.000000e+00</td>\n",
       "      <td>1.000000e+00</td>\n",
       "      <td>1.000000e+00</td>\n",
       "      <td>1.000000e+00</td>\n",
       "      <td>1.000000e+00</td>\n",
       "      <td>1.000000e+00</td>\n",
       "      <td>1.000000e+00</td>\n",
       "      <td>1.000000e+00</td>\n",
       "      <td>1.000000e+00</td>\n",
       "      <td>...</td>\n",
       "      <td>1.000000e+00</td>\n",
       "      <td>1.000000e+00</td>\n",
       "      <td>9.000000e+00</td>\n",
       "      <td>1.000000e+00</td>\n",
       "      <td>1.000000e+00</td>\n",
       "      <td>1.000000e+00</td>\n",
       "      <td>1.000000e+00</td>\n",
       "      <td>1.000000e+00</td>\n",
       "      <td>1.000000e+00</td>\n",
       "      <td>1.000000e+00</td>\n",
       "    </tr>\n",
       "  </tbody>\n",
       "</table>\n",
       "<p>8 rows × 21 columns</p>\n",
       "</div>"
      ],
      "text/plain": [
       "                 id           sex     has_photo    has_mobile      can_post  \\\n",
       "count  1.284660e+06  1.284660e+06  1.284660e+06  1.284660e+06  1.284660e+06   \n",
       "mean   4.322070e+08  1.570119e+00  6.592943e-01  7.010828e-01  1.911790e-02   \n",
       "std    9.947974e+07  5.134613e-01  4.739467e-01  4.577837e-01  1.369395e-01   \n",
       "min    1.251000e+03  0.000000e+00  0.000000e+00  0.000000e+00  0.000000e+00   \n",
       "25%    3.982926e+08  1.000000e+00  0.000000e+00  0.000000e+00  0.000000e+00   \n",
       "50%    4.392075e+08  2.000000e+00  1.000000e+00  1.000000e+00  0.000000e+00   \n",
       "75%    4.960650e+08  2.000000e+00  1.000000e+00  1.000000e+00  0.000000e+00   \n",
       "max    6.900615e+08  2.000000e+00  1.000000e+00  1.000000e+00  1.000000e+00   \n",
       "\n",
       "       can_see_all_posts  can_see_audio  can_write_private_message  \\\n",
       "count       1.284660e+06   1.284660e+06               1.284660e+06   \n",
       "mean        8.665118e-01   8.660595e-01               7.354428e-01   \n",
       "std         3.401018e-01   3.405885e-01               4.410973e-01   \n",
       "min         0.000000e+00   0.000000e+00               0.000000e+00   \n",
       "25%         1.000000e+00   1.000000e+00               0.000000e+00   \n",
       "50%         1.000000e+00   1.000000e+00               1.000000e+00   \n",
       "75%         1.000000e+00   1.000000e+00               1.000000e+00   \n",
       "max         1.000000e+00   1.000000e+00               1.000000e+00   \n",
       "\n",
       "       can_send_friend_request  can_be_invited_group  ...    occupation  \\\n",
       "count             1.284660e+06          1.284660e+06  ...  1.284660e+06   \n",
       "mean              9.730045e-01          3.013404e-02  ...  7.857955e-02   \n",
       "std               1.620702e-01          1.709562e-01  ...  2.690815e-01   \n",
       "min               0.000000e+00          0.000000e+00  ...  0.000000e+00   \n",
       "25%               1.000000e+00          0.000000e+00  ...  0.000000e+00   \n",
       "50%               1.000000e+00          0.000000e+00  ...  0.000000e+00   \n",
       "75%               1.000000e+00          0.000000e+00  ...  0.000000e+00   \n",
       "max               1.000000e+00          1.000000e+00  ...  1.000000e+00   \n",
       "\n",
       "             career      relation  universities       schools     relatives  \\\n",
       "count  1.284660e+06  1.284660e+06  1.284660e+06  1.284660e+06  1.284660e+06   \n",
       "mean   1.008127e-02  1.366819e+00  2.287843e-02  3.262965e-02  1.604860e-02   \n",
       "std    9.989816e-02  1.650109e+00  1.495160e-01  1.776653e-01  1.256625e-01   \n",
       "min    0.000000e+00  0.000000e+00  0.000000e+00  0.000000e+00  0.000000e+00   \n",
       "25%    0.000000e+00  1.000000e+00  0.000000e+00  0.000000e+00  0.000000e+00   \n",
       "50%    0.000000e+00  1.000000e+00  0.000000e+00  0.000000e+00  0.000000e+00   \n",
       "75%    0.000000e+00  1.000000e+00  0.000000e+00  0.000000e+00  0.000000e+00   \n",
       "max    1.000000e+00  9.000000e+00  1.000000e+00  1.000000e+00  1.000000e+00   \n",
       "\n",
       "           facebook         skype     instagram       twitter  \n",
       "count  1.284660e+06  1.284660e+06  1.284660e+06  1.284660e+06  \n",
       "mean   8.750175e-03  7.100711e-03  3.900643e-03  1.533480e-03  \n",
       "std    9.313225e-02  8.396605e-02  6.233323e-02  3.912965e-02  \n",
       "min    0.000000e+00  0.000000e+00  0.000000e+00  0.000000e+00  \n",
       "25%    0.000000e+00  0.000000e+00  0.000000e+00  0.000000e+00  \n",
       "50%    0.000000e+00  0.000000e+00  0.000000e+00  0.000000e+00  \n",
       "75%    0.000000e+00  0.000000e+00  0.000000e+00  0.000000e+00  \n",
       "max    1.000000e+00  1.000000e+00  1.000000e+00  1.000000e+00  \n",
       "\n",
       "[8 rows x 21 columns]"
      ]
     },
     "execution_count": 158,
     "metadata": {},
     "output_type": "execute_result"
    }
   ],
   "source": [
    "df_clean.describe()"
   ]
  },
  {
   "cell_type": "markdown",
   "metadata": {},
   "source": [
    "New artist data downloading"
   ]
  },
  {
   "cell_type": "code",
   "execution_count": 162,
   "metadata": {},
   "outputs": [
    {
     "name": "stdout",
     "output_type": "stream",
     "text": [
      "0 for shakira\n",
      "100000 for shakira\n",
      "200000 for shakira\n",
      "300000 for shakira\n",
      "400000 for shakira\n",
      "500000 for shakira\n",
      "600000 for shakira\n",
      "700000 for shakira\n",
      "800000 for shakira\n",
      "900000 for shakira\n",
      "1000000 for shakira\n"
     ]
    }
   ],
   "source": [
    "users_data = list()\n",
    "offset = 0\n",
    "\n",
    "while offset < len(data_pop[groups_pop[1]]) - 1000:\n",
    "    users_data += get_profiles(data_pop[groups_pop[1]][offset:offset+1000], token)\n",
    "    if offset%3000 == 0:\n",
    "        time.sleep(1)\n",
    "    if offset%100000 == 0:\n",
    "        print(offset, 'for', groups_pop[1])\n",
    "    offset += 1000"
   ]
  },
  {
   "cell_type": "code",
   "execution_count": 163,
   "metadata": {},
   "outputs": [
    {
     "data": {
      "text/plain": [
       "1004986"
      ]
     },
     "execution_count": 163,
     "metadata": {},
     "output_type": "execute_result"
    }
   ],
   "source": [
    "len(users_data)"
   ]
  },
  {
   "cell_type": "code",
   "execution_count": 164,
   "metadata": {},
   "outputs": [],
   "source": [
    "users_data_df = pd.DataFrame(users_data)"
   ]
  },
  {
   "cell_type": "code",
   "execution_count": 165,
   "metadata": {},
   "outputs": [],
   "source": [
    "users_data_df.to_csv('shakira_data.csv')"
   ]
  },
  {
   "cell_type": "code",
   "execution_count": 166,
   "metadata": {},
   "outputs": [
    {
     "name": "stdout",
     "output_type": "stream",
     "text": [
      "0 for enrique\n",
      "100000 for enrique\n",
      "200000 for enrique\n",
      "300000 for enrique\n",
      "400000 for enrique\n",
      "500000 for enrique\n",
      "600000 for enrique\n",
      "700000 for enrique\n"
     ]
    }
   ],
   "source": [
    "users_data = list()\n",
    "offset = 0\n",
    "\n",
    "while offset < len(data_pop[groups_pop[2]]) - 1000:\n",
    "    users_data += get_profiles(data_pop[groups_pop[2]][offset:offset+1000], token)\n",
    "    if offset%3000 == 0:\n",
    "        time.sleep(1)\n",
    "    if offset%100000 == 0:\n",
    "        print(offset, 'for', groups_pop[2])\n",
    "    offset += 1000"
   ]
  },
  {
   "cell_type": "code",
   "execution_count": 167,
   "metadata": {},
   "outputs": [
    {
     "data": {
      "text/plain": [
       "715566"
      ]
     },
     "execution_count": 167,
     "metadata": {},
     "output_type": "execute_result"
    }
   ],
   "source": [
    "len(users_data)"
   ]
  },
  {
   "cell_type": "code",
   "execution_count": 169,
   "metadata": {},
   "outputs": [],
   "source": [
    "users_data_df = pd.DataFrame(users_data)"
   ]
  },
  {
   "cell_type": "code",
   "execution_count": 170,
   "metadata": {},
   "outputs": [],
   "source": [
    "users_data_df.to_csv('enrique_data.csv')"
   ]
  },
  {
   "cell_type": "code",
   "execution_count": 171,
   "metadata": {},
   "outputs": [
    {
     "name": "stdout",
     "output_type": "stream",
     "text": [
      "0 for inna_ro\n",
      "100000 for inna_ro\n",
      "200000 for inna_ro\n",
      "300000 for inna_ro\n",
      "400000 for inna_ro\n",
      "500000 for inna_ro\n"
     ]
    }
   ],
   "source": [
    "users_data = list()\n",
    "offset = 0\n",
    "\n",
    "while offset < len(data_pop[groups_pop[3]]) - 1000:\n",
    "    users_data += get_profiles(data_pop[groups_pop[3]][offset:offset+1000], token)\n",
    "    if offset%3000 == 0:\n",
    "        time.sleep(1)\n",
    "    if offset%100000 == 0:\n",
    "        print(offset, 'for', groups_pop[3])\n",
    "    offset += 1000"
   ]
  },
  {
   "cell_type": "code",
   "execution_count": 172,
   "metadata": {},
   "outputs": [
    {
     "data": {
      "text/plain": [
       "537922"
      ]
     },
     "execution_count": 172,
     "metadata": {},
     "output_type": "execute_result"
    }
   ],
   "source": [
    "len(users_data)"
   ]
  },
  {
   "cell_type": "code",
   "execution_count": 173,
   "metadata": {},
   "outputs": [],
   "source": [
    "users_data_df = pd.DataFrame(users_data)"
   ]
  },
  {
   "cell_type": "code",
   "execution_count": 174,
   "metadata": {},
   "outputs": [],
   "source": [
    "users_data_df.to_csv('inna_ro_data.csv')"
   ]
  },
  {
   "cell_type": "code",
   "execution_count": 195,
   "metadata": {
    "scrolled": true
   },
   "outputs": [
    {
     "name": "stdout",
     "output_type": "stream",
     "text": [
      "0 for krosskarina\n",
      "100000 for krosskarina\n",
      "200000 for krosskarina\n",
      "300000 for krosskarina\n",
      "400000 for krosskarina\n"
     ]
    }
   ],
   "source": [
    "users_data = list()\n",
    "offset = 0\n",
    "\n",
    "while offset < len(data_pop[groups_pop[4]]) - 1000:\n",
    "    users_data += get_profiles(data_pop[groups_pop[4]][offset:offset+1000], token)\n",
    "    if offset%3000 == 0:\n",
    "        time.sleep(1)\n",
    "    if offset%100000 == 0:\n",
    "        print(offset, 'for', groups_pop[4])\n",
    "    offset += 1000"
   ]
  },
  {
   "cell_type": "code",
   "execution_count": 196,
   "metadata": {},
   "outputs": [
    {
     "data": {
      "text/plain": [
       "496006"
      ]
     },
     "execution_count": 196,
     "metadata": {},
     "output_type": "execute_result"
    }
   ],
   "source": [
    "len(users_data)"
   ]
  },
  {
   "cell_type": "code",
   "execution_count": 197,
   "metadata": {},
   "outputs": [],
   "source": [
    "users_data_df = pd.DataFrame(users_data)"
   ]
  },
  {
   "cell_type": "code",
   "execution_count": 198,
   "metadata": {},
   "outputs": [],
   "source": [
    "users_data_df.to_csv('krosskarina_data.csv')"
   ]
  },
  {
   "cell_type": "markdown",
   "metadata": {},
   "source": [
    "The same but for rock"
   ]
  },
  {
   "cell_type": "code",
   "execution_count": 175,
   "metadata": {},
   "outputs": [],
   "source": [
    "a_file = open(\"data_rock.json\", \"r\")\n",
    "output = a_file.read()\n",
    "a_file.close()"
   ]
  },
  {
   "cell_type": "code",
   "execution_count": 176,
   "metadata": {},
   "outputs": [
    {
     "name": "stdout",
     "output_type": "stream",
     "text": [
      "<class 'str'>\n"
     ]
    }
   ],
   "source": [
    "print(type(output))\n",
    "data_rock = json.loads(output)"
   ]
  },
  {
   "cell_type": "code",
   "execution_count": 180,
   "metadata": {},
   "outputs": [
    {
     "data": {
      "text/plain": [
       "dict_keys(['linkinpark', 'nervyofficial', 'korol_i_shut_ru', 'nirvanamusic', 'idragons'])"
      ]
     },
     "execution_count": 180,
     "metadata": {},
     "output_type": "execute_result"
    }
   ],
   "source": [
    "data_rock.keys()\n"
   ]
  },
  {
   "cell_type": "code",
   "execution_count": 184,
   "metadata": {
    "scrolled": true
   },
   "outputs": [
    {
     "name": "stdout",
     "output_type": "stream",
     "text": [
      "0 for linkinpark\n",
      "10000 for linkinpark\n",
      "100000 for linkinpark\n",
      "200000 for linkinpark\n",
      "300000 for linkinpark\n",
      "400000 for linkinpark\n",
      "500000 for linkinpark\n",
      "600000 for linkinpark\n",
      "700000 for linkinpark\n",
      "800000 for linkinpark\n",
      "900000 for linkinpark\n",
      "1000000 for linkinpark\n",
      "1100000 for linkinpark\n",
      "1200000 for linkinpark\n",
      "1300000 for linkinpark\n",
      "1400000 for linkinpark\n",
      "1500000 for linkinpark\n",
      "1600000 for linkinpark\n",
      "1700000 for linkinpark\n",
      "1800000 for linkinpark\n",
      "finished linkinpark\n",
      "0 for nervyofficial\n",
      "10000 for nervyofficial\n",
      "100000 for nervyofficial\n",
      "200000 for nervyofficial\n",
      "300000 for nervyofficial\n",
      "400000 for nervyofficial\n",
      "finished nervyofficial\n",
      "0 for korol_i_shut_ru\n",
      "10000 for korol_i_shut_ru\n",
      "100000 for korol_i_shut_ru\n",
      "200000 for korol_i_shut_ru\n",
      "finished korol_i_shut_ru\n",
      "0 for nirvanamusic\n",
      "10000 for nirvanamusic\n",
      "100000 for nirvanamusic\n",
      "200000 for nirvanamusic\n",
      "finished nirvanamusic\n",
      "0 for idragons\n",
      "10000 for idragons\n",
      "100000 for idragons\n",
      "200000 for idragons\n",
      "finished idragons\n"
     ]
    }
   ],
   "source": [
    "for group_name in data_rock.keys():\n",
    "    users_data = list()\n",
    "    offset = 0\n",
    "\n",
    "    while offset < len(data_rock[group_name]) - 1000:\n",
    "        users_data += get_profiles(data_rock[group_name][offset:offset+1000], token)\n",
    "        if offset%3000 == 0:\n",
    "            time.sleep(1)\n",
    "        if (offset%100000 == 0) or (offset == 10000):\n",
    "            print(offset, 'for', group_name)\n",
    "        offset += 1000\n",
    "    \n",
    "    print('finished', group_name)\n",
    "    users_data_df = pd.DataFrame(users_data)\n",
    "    users_data_df.to_csv(group_name + '_data.csv')"
   ]
  },
  {
   "cell_type": "markdown",
   "metadata": {},
   "source": [
    "electro music"
   ]
  },
  {
   "cell_type": "code",
   "execution_count": 212,
   "metadata": {},
   "outputs": [],
   "source": [
    "a_file = open(\"data_electro.json\", \"r\")\n",
    "output = a_file.read()\n",
    "a_file.close()"
   ]
  },
  {
   "cell_type": "code",
   "execution_count": 213,
   "metadata": {},
   "outputs": [
    {
     "name": "stdout",
     "output_type": "stream",
     "text": [
      "<class 'str'>\n"
     ]
    }
   ],
   "source": [
    "print(type(output))\n",
    "data_electro = json.loads(output)"
   ]
  },
  {
   "cell_type": "code",
   "execution_count": 215,
   "metadata": {},
   "outputs": [
    {
     "name": "stdout",
     "output_type": "stream",
     "text": [
      "0 for arminvanbuuren\n",
      "10000 for arminvanbuuren\n",
      "100000 for arminvanbuuren\n",
      "200000 for arminvanbuuren\n",
      "300000 for arminvanbuuren\n",
      "400000 for arminvanbuuren\n",
      "500000 for arminvanbuuren\n",
      "600000 for arminvanbuuren\n",
      "700000 for arminvanbuuren\n",
      "800000 for arminvanbuuren\n",
      "900000 for arminvanbuuren\n",
      "1000000 for arminvanbuuren\n",
      "1100000 for arminvanbuuren\n",
      "1200000 for arminvanbuuren\n",
      "1300000 for arminvanbuuren\n",
      "finished arminvanbuuren\n",
      "0 for tiesto\n",
      "10000 for tiesto\n",
      "100000 for tiesto\n",
      "200000 for tiesto\n",
      "300000 for tiesto\n",
      "400000 for tiesto\n",
      "500000 for tiesto\n",
      "600000 for tiesto\n",
      "finished tiesto\n",
      "0 for hardwell\n",
      "10000 for hardwell\n",
      "100000 for hardwell\n",
      "200000 for hardwell\n",
      "300000 for hardwell\n",
      "400000 for hardwell\n",
      "500000 for hardwell\n",
      "600000 for hardwell\n",
      "finished hardwell\n",
      "0 for davidguetta\n",
      "10000 for davidguetta\n",
      "100000 for davidguetta\n",
      "200000 for davidguetta\n",
      "300000 for davidguetta\n",
      "finished davidguetta\n",
      "0 for martingarrix\n",
      "10000 for martingarrix\n",
      "100000 for martingarrix\n",
      "200000 for martingarrix\n",
      "300000 for martingarrix\n",
      "finished martingarrix\n"
     ]
    }
   ],
   "source": [
    "for group_name in data_electro.keys():\n",
    "    users_data = list()\n",
    "    offset = 0\n",
    "\n",
    "    while offset < len(data_electro[group_name]) - 1000:\n",
    "        users_data += get_profiles(data_electro[group_name][offset:offset+1000], token)\n",
    "        if offset%3000 == 0:\n",
    "            time.sleep(1)\n",
    "        if (offset%100000 == 0) or (offset == 10000):\n",
    "            print(offset, 'for', group_name)\n",
    "        offset += 1000\n",
    "    \n",
    "    print('finished', group_name)\n",
    "    users_data_df = pd.DataFrame(users_data)\n",
    "    users_data_df.to_csv(group_name + '_data.csv')"
   ]
  },
  {
   "cell_type": "markdown",
   "metadata": {},
   "source": [
    "rap music"
   ]
  },
  {
   "cell_type": "code",
   "execution_count": 1,
   "metadata": {},
   "outputs": [],
   "source": [
    "a_file = open(\"data_rap.json\", \"r\")\n",
    "output = a_file.read()\n",
    "a_file.close()"
   ]
  },
  {
   "cell_type": "code",
   "execution_count": 6,
   "metadata": {},
   "outputs": [
    {
     "name": "stdout",
     "output_type": "stream",
     "text": [
      "<class 'str'>\n"
     ]
    }
   ],
   "source": [
    "print(type(output))\n",
    "data_electro = json.loads(output)"
   ]
  },
  {
   "cell_type": "code",
   "execution_count": 11,
   "metadata": {},
   "outputs": [
    {
     "name": "stdout",
     "output_type": "stream",
     "text": [
      "0 for maxkorzh\n",
      "10000 for maxkorzh\n",
      "100000 for maxkorzh\n",
      "200000 for maxkorzh\n",
      "300000 for maxkorzh\n",
      "400000 for maxkorzh\n",
      "500000 for maxkorzh\n",
      "600000 for maxkorzh\n",
      "700000 for maxkorzh\n",
      "800000 for maxkorzh\n",
      "900000 for maxkorzh\n",
      "1000000 for maxkorzh\n",
      "1100000 for maxkorzh\n",
      "1200000 for maxkorzh\n",
      "1300000 for maxkorzh\n",
      "1400000 for maxkorzh\n",
      "1500000 for maxkorzh\n",
      "1600000 for maxkorzh\n",
      "finished maxkorzh\n",
      "0 for sayonaraboy\n",
      "10000 for sayonaraboy\n",
      "100000 for sayonaraboy\n",
      "200000 for sayonaraboy\n",
      "300000 for sayonaraboy\n",
      "400000 for sayonaraboy\n",
      "500000 for sayonaraboy\n",
      "600000 for sayonaraboy\n",
      "700000 for sayonaraboy\n",
      "800000 for sayonaraboy\n",
      "900000 for sayonaraboy\n",
      "1000000 for sayonaraboy\n",
      "1100000 for sayonaraboy\n",
      "1200000 for sayonaraboy\n",
      "1300000 for sayonaraboy\n",
      "1400000 for sayonaraboy\n",
      "1500000 for sayonaraboy\n",
      "finished sayonaraboy\n",
      "0 for scriptonite\n",
      "10000 for scriptonite\n",
      "100000 for scriptonite\n",
      "200000 for scriptonite\n",
      "300000 for scriptonite\n",
      "400000 for scriptonite\n",
      "500000 for scriptonite\n",
      "600000 for scriptonite\n",
      "700000 for scriptonite\n",
      "800000 for scriptonite\n",
      "900000 for scriptonite\n",
      "1000000 for scriptonite\n",
      "1100000 for scriptonite\n",
      "1200000 for scriptonite\n",
      "1300000 for scriptonite\n",
      "1400000 for scriptonite\n",
      "1500000 for scriptonite\n",
      "finished scriptonite\n",
      "0 for hauntedfamily\n",
      "10000 for hauntedfamily\n",
      "100000 for hauntedfamily\n",
      "200000 for hauntedfamily\n",
      "300000 for hauntedfamily\n",
      "400000 for hauntedfamily\n",
      "500000 for hauntedfamily\n",
      "600000 for hauntedfamily\n",
      "700000 for hauntedfamily\n",
      "800000 for hauntedfamily\n",
      "900000 for hauntedfamily\n",
      "1000000 for hauntedfamily\n",
      "1100000 for hauntedfamily\n",
      "1200000 for hauntedfamily\n",
      "1300000 for hauntedfamily\n",
      "finished hauntedfamily\n",
      "0 for egorkreed\n",
      "10000 for egorkreed\n",
      "100000 for egorkreed\n",
      "200000 for egorkreed\n",
      "300000 for egorkreed\n",
      "400000 for egorkreed\n",
      "500000 for egorkreed\n",
      "600000 for egorkreed\n",
      "700000 for egorkreed\n",
      "800000 for egorkreed\n",
      "900000 for egorkreed\n",
      "1000000 for egorkreed\n",
      "1100000 for egorkreed\n",
      "1200000 for egorkreed\n",
      "1300000 for egorkreed\n",
      "finished egorkreed\n"
     ]
    }
   ],
   "source": [
    "for group_name in data_electro.keys():\n",
    "    users_data = list()\n",
    "    offset = 0\n",
    "\n",
    "    while offset < len(data_electro[group_name]) - 1000:\n",
    "        users_data += get_profiles(data_electro[group_name][offset:offset+1000], token)\n",
    "        if offset%3000 == 0:\n",
    "            time.sleep(1)\n",
    "        if (offset%100000 == 0) or (offset == 10000):\n",
    "            print(offset, 'for', group_name)\n",
    "        offset += 1000\n",
    "    \n",
    "    print('finished', group_name)\n",
    "    users_data_df = pd.DataFrame(users_data)\n",
    "    users_data_df.to_csv(group_name + '_data.csv')"
   ]
  },
  {
   "cell_type": "code",
   "execution_count": null,
   "metadata": {},
   "outputs": [],
   "source": []
  }
 ],
 "metadata": {
  "kernelspec": {
   "display_name": "Python 3",
   "language": "python",
   "name": "python3"
  },
  "language_info": {
   "codemirror_mode": {
    "name": "ipython",
    "version": 3
   },
   "file_extension": ".py",
   "mimetype": "text/x-python",
   "name": "python",
   "nbconvert_exporter": "python",
   "pygments_lexer": "ipython3",
   "version": "3.8.3"
  }
 },
 "nbformat": 4,
 "nbformat_minor": 4
}
