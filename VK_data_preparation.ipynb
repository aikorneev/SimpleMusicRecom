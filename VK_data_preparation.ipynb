{
  "nbformat": 4,
  "nbformat_minor": 0,
  "metadata": {
    "colab": {
      "name": "VK_data_preparation.ipynb",
      "provenance": [],
      "collapsed_sections": []
    },
    "kernelspec": {
      "name": "python3",
      "display_name": "Python 3"
    },
    "language_info": {
      "name": "python"
    }
  },
  "cells": [
    {
      "cell_type": "markdown",
      "metadata": {
        "id": "RJYORq0XfZoM"
      },
      "source": [
        "# Init vars and import libs"
      ]
    },
    {
      "cell_type": "code",
      "metadata": {
        "colab": {
          "base_uri": "https://localhost:8080/"
        },
        "id": "amWZWaMRd6I1",
        "outputId": "56a4ab5a-650b-4a69-e118-b4cbe9ae4116"
      },
      "source": [
        "from google.colab import drive\n",
        "drive.mount('/content/drive')"
      ],
      "execution_count": null,
      "outputs": [
        {
          "output_type": "stream",
          "name": "stdout",
          "text": [
            "Mounted at /content/drive\n"
          ]
        }
      ]
    },
    {
      "cell_type": "code",
      "metadata": {
        "id": "X_NGItUCem9r"
      },
      "source": [
        "import pandas as pd\n",
        "import os"
      ],
      "execution_count": null,
      "outputs": []
    },
    {
      "cell_type": "code",
      "metadata": {
        "id": "RHwH1Vm0ke8K"
      },
      "source": [
        "from datetime import date"
      ],
      "execution_count": null,
      "outputs": []
    },
    {
      "cell_type": "code",
      "metadata": {
        "id": "ye44nVvTpVVg"
      },
      "source": [
        "import numpy as np\n",
        "import re\n",
        "import json"
      ],
      "execution_count": null,
      "outputs": []
    },
    {
      "cell_type": "markdown",
      "metadata": {
        "id": "yjAHiV9sffay"
      },
      "source": [
        "# Preprocessing functions"
      ]
    },
    {
      "cell_type": "code",
      "metadata": {
        "id": "U4oAfEhKkUkR"
      },
      "source": [
        "def bdate_to_age(bdate):\n",
        "  #if isinstance(bdate, float):\n",
        "  #  return None\n",
        "  try:\n",
        "    d, m, y = bdate.split('.')\n",
        "    d, m, y = int(d), int(m), int(y)\n",
        "    today = date.today()\n",
        "    age = today.year - y - ((today.month, today.day) < (m, d))\n",
        "  except:\n",
        "    age = None\n",
        "  return age"
      ],
      "execution_count": null,
      "outputs": []
    },
    {
      "cell_type": "code",
      "metadata": {
        "id": "BJS0vIakoXL_"
      },
      "source": [
        "def value_to_bool(val):\n",
        "  if isinstance(val, float):\n",
        "    return 0 if np.isnan(val) else 1\n",
        "  if val:\n",
        "    return 1\n",
        "  else:\n",
        "    return 0"
      ],
      "execution_count": null,
      "outputs": []
    },
    {
      "cell_type": "code",
      "metadata": {
        "id": "kNdud3csjqvR"
      },
      "source": [
        "def list_to_bool(val):\n",
        "  if isinstance(val, float):\n",
        "    return 0 if np.isnan(val) else 1\n",
        "  if val.replace('[','').replace(']',''):\n",
        "    return 1\n",
        "  else:\n",
        "    return 0"
      ],
      "execution_count": null,
      "outputs": []
    },
    {
      "cell_type": "code",
      "metadata": {
        "id": "ROLdj-7qMwZO"
      },
      "source": [
        "def leave_only_letters(sentence):\n",
        "  if isinstance(sentence, str):\n",
        "    sentence = re.sub('[^a-zа-яё]', ' ', sentence.lower())\n",
        "    sentence = re.sub(' +', ' ', sentence)\n",
        "    if sentence == ' ':\n",
        "      return None\n",
        "    return sentence\n",
        "  return None"
      ],
      "execution_count": null,
      "outputs": []
    },
    {
      "cell_type": "code",
      "metadata": {
        "id": "UfjsDBjMd6cd"
      },
      "source": [
        "def occupation_to_type(value):\n",
        "  # type = work, school or university = 0, 1, 2 + 3 (unknown)\n",
        "  try:\n",
        "    t = json.loads(value.replace(\"\\'\",'\"').lower())['type']\n",
        "    if t == 'work':\n",
        "      return 0\n",
        "    return 1 if t == 'school' else 2\n",
        "  except:\n",
        "    return 3"
      ],
      "execution_count": null,
      "outputs": []
    },
    {
      "cell_type": "code",
      "metadata": {
        "id": "MLu8KRlLmSEK"
      },
      "source": [
        "def personal_to_attitudes(value, att):\n",
        "  try:\n",
        "    t = json.loads(value.replace(\"\\'\",'\"').lower())[att]\n",
        "    return t\n",
        "  except:\n",
        "    return None"
      ],
      "execution_count": null,
      "outputs": []
    },
    {
      "cell_type": "code",
      "metadata": {
        "id": "Mbh32mNTfEIj"
      },
      "source": [
        "def prepare_db(df, add_column):\n",
        "\n",
        "  #add new columns\n",
        "  for new_cols in add_column:\n",
        "    print(new_cols[0], new_cols[1])  \n",
        "    df[new_cols[0]] = new_cols[1]\n",
        "  \n",
        "  #delete columns\n",
        "  df = df.drop(['first_name', 'id', 'friend_status', 'last_name', 'Unnamed: 0', 'mobile_phone', 'home_phone'], axis=1)\n",
        "\n",
        "  # bdate to age\n",
        "  df['age'] = df['bdate'].apply(bdate_to_age) \n",
        "  df = df.drop(['bdate'], axis=1)\n",
        "\n",
        "  # change from 1.0\\Nan to 1\\0\n",
        "  df['has_mobile'] = df['has_mobile'].apply(value_to_bool)\n",
        "  df['can_see_all_posts'] = df['can_see_all_posts'].apply(value_to_bool)\n",
        "  df['can_see_audio'] = df['can_see_audio'].apply(value_to_bool)\n",
        "  df['can_send_friend_request'] = df['can_send_friend_request'].apply(value_to_bool)\n",
        "  df['can_be_invited_group'] = df['can_be_invited_group'].apply(value_to_bool)\n",
        "\n",
        "  # text to bool\n",
        "  df['interests'] = df['interests'].apply(value_to_bool)\n",
        "  df['books'] = df['books'].apply(value_to_bool)\n",
        "  df['quotes'] = df['quotes'].apply(value_to_bool)\n",
        "  df['about'] = df['about'].apply(value_to_bool)\n",
        "  df['music'] = df['music'].apply(value_to_bool)\n",
        "  df['movies'] = df['movies'].apply(value_to_bool)\n",
        "  df['interests'] = df['interests'].apply(value_to_bool)\n",
        "\n",
        "  # status - leave only letters(words)\n",
        "  df['status'] = df['status'].apply(leave_only_letters)\n",
        "  # if status exists\n",
        "  df['is_status'] = df['status'].apply(value_to_bool)\n",
        "\n",
        "  # age, followers_count - to average\n",
        "  df['followers_count'] = df['followers_count'].fillna(df['followers_count'].mean())\n",
        "  df['age'] = df['age'].fillna(df['age'].mean())\n",
        "\n",
        "  # occupation - 0/1/2/3(unknown) (depends on type)\n",
        "  df['occupation'] = df['occupation'].apply(occupation_to_type)\n",
        "\n",
        "  # delete career university\tuniversity_name\tfaculty\tfaculty_name\tgraduation,  use only universities\n",
        "  df = df.drop(['career', 'university', 'university_name', 'faculty', 'graduation', 'faculty_name'], axis=1)\n",
        "\n",
        "  # relation\n",
        "  df['relation'] = df['relation'].fillna(0.0)\n",
        "\n",
        "  # personal - trying to find attitude to alcohol and smoking\n",
        "  # 0 - unknown\n",
        "  df['alcohol'] = df['personal'].apply(personal_to_attitudes, args=('alcohol',)).fillna(0.0)\n",
        "  df['smoking'] = df['personal'].apply(personal_to_attitudes, args=('smoking',)).fillna(0.0)\n",
        "  df = df.drop(['personal'], axis=1)\n",
        "\n",
        "  # if exists\n",
        "  df['universities'] = df['universities'].apply(list_to_bool)\n",
        "  df['schools'] = df['schools'].apply(list_to_bool)\n",
        "  df['relatives'] = df['relatives'].apply(list_to_bool)\n",
        "\n",
        "  # clean data from non-active users\n",
        "  df = df[df.deactivated != 'banned']\n",
        "  df = df[df.deactivated != 'deleted']\n",
        "  df = df.drop(['deactivated'], axis=1)\n",
        "\n",
        "  df['skype'] = df['skype'].apply(value_to_bool)\n",
        "  df['relation_partner'] = df['relation_partner'].apply(value_to_bool)\n",
        "  df['twitter'] = df['twitter'].apply(value_to_bool)\n",
        "  df['instagram'] = df['instagram'].apply(value_to_bool)\n",
        "  df['education_form'] = df['education_form'].apply(value_to_bool)\n",
        "  df['education_status'] = df['education_status'].apply(value_to_bool)\n",
        "  df['facebook'] = df['facebook'].apply(value_to_bool)\n",
        "  df['facebook_name'] = df['facebook_name'].apply(value_to_bool)\n",
        "  df['status_audio'] = df['status_audio'].apply(value_to_bool)\n",
        "  df['livejournal'] = df['livejournal'].apply(value_to_bool)\n",
        "\n",
        "  return df"
      ],
      "execution_count": null,
      "outputs": []
    },
    {
      "cell_type": "code",
      "metadata": {
        "id": "1pK_NBtYhV3z"
      },
      "source": [
        "#df = pd.read_csv('/content/drive/My Drive/Course_Project_BD/rap_data/maxkorzh_data.csv',  engine='python' )"
      ],
      "execution_count": null,
      "outputs": []
    },
    {
      "cell_type": "code",
      "metadata": {
        "id": "crlm2zN9hGSa"
      },
      "source": [
        "#df = prepare_db(df, add_column = [('category', 'rock_data')])"
      ],
      "execution_count": null,
      "outputs": []
    },
    {
      "cell_type": "markdown",
      "metadata": {
        "id": "_1niqklffm0j"
      },
      "source": [
        "# Applying for datasets"
      ]
    },
    {
      "cell_type": "code",
      "metadata": {
        "id": "LiI3p7yyeyEz"
      },
      "source": [
        "genres_dict = {'electro_data':0, 'pop_data':1, 'rap_data':2, 'rock_data':3}"
      ],
      "execution_count": null,
      "outputs": []
    },
    {
      "cell_type": "code",
      "metadata": {
        "id": "2q1YGlJYtzeA"
      },
      "source": [
        "shapes = dict()"
      ],
      "execution_count": null,
      "outputs": []
    },
    {
      "cell_type": "code",
      "metadata": {
        "colab": {
          "base_uri": "https://localhost:8080/"
        },
        "id": "x8Ahnvj3d9W2",
        "outputId": "6e5c0e44-e4e8-4060-8e9c-17f97f2f04e5"
      },
      "source": [
        "!ls '/content/drive/My Drive/Course_Project_BD/'"
      ],
      "execution_count": null,
      "outputs": [
        {
          "output_type": "stream",
          "name": "stdout",
          "text": [
            "data_downloading.zip  data_pop.json  data_rock.json  pop_data  rock_data\n",
            "data_electro.json     data_rap.json  electro_data    rap_data\n"
          ]
        }
      ]
    },
    {
      "cell_type": "code",
      "metadata": {
        "id": "T9Cagym9eCzX"
      },
      "source": [
        "path_to_data = '/content/drive/My Drive/Course_Project_BD/'"
      ],
      "execution_count": null,
      "outputs": []
    },
    {
      "cell_type": "code",
      "metadata": {
        "id": "CZVUlZwCeEGA"
      },
      "source": [
        "%%time\n",
        "for root, dir, files in os.walk(path_to_data+'/rap_data'):\n",
        "  if root.endswith(tuple(genres_dict.keys())):\n",
        "    print(os.path.basename(root))\n",
        "    for file in files:\n",
        "      print('\\t', file)\n",
        "      #prepare_db(root + '/' + file, add_column = [('category', os.path.basename(root))])\n",
        "      pd_data = pd.read_csv(root + '/' + file,  engine='python' )\n",
        "      pd_data = prepare_db(pd_data, add_column = [('category', genres_dict[os.path.basename(root)])])\n",
        "      shapes[file] = pd_data.shape\n",
        "      pd_data.to_csv(root + '/2' + file)"
      ],
      "execution_count": null,
      "outputs": []
    },
    {
      "cell_type": "code",
      "metadata": {
        "id": "I0u9-gqoJ6ng"
      },
      "source": [
        ""
      ],
      "execution_count": null,
      "outputs": []
    }
  ]
}